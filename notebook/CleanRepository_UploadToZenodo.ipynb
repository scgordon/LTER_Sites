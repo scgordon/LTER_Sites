{
 "cells": [
  {
   "cell_type": "markdown",
   "metadata": {},
   "source": [
    "## Clean up the repository for Zenodo release\n",
    "* Tar the collections of xml, the directories of data, and the Excel reports for deposit on Zenodo as a dataset. \n",
    "* Delete the uncompressed directories\n",
    "* Remove Google credentials, embargoed code\n",
    "\n",
    "This is the NbMeta metadata record for this notebook:\n",
    "\n",
    "[CleanRepository_UploadToZenodo_nbmeta.json](../metadata/CleanRepository_UploadToZenodo_nbmeta.json)\n",
    "\n",
    "### zip up directories for upload"
   ]
  },
  {
   "cell_type": "code",
   "execution_count": 5,
   "metadata": {},
   "outputs": [],
   "source": [
    "# import and make neccesary direcotries to compress datasets\n",
    "import shutil\n",
    "import os\n",
    "import tarfile\n",
    "os.makedirs(\"../DatasetArchives\", exist_ok=True)\n",
    "# identify directories to compress\n",
    "TarNames = [\"collections\", \"data\", \"reports\", \"Solr\"]\n",
    "# create tarball\n",
    "for TarName in TarNames:\n",
    "    tar = tarfile.open(os.path.join(\"..\",\"DatasetArchives\",TarName+\".tar.gz\"), \"w:gz\")\n",
    "    tar.add(os.path.join(\"..\",TarName), arcname=TarName)\n",
    "    tar.close()"
   ]
  },
  {
   "cell_type": "markdown",
   "metadata": {},
   "source": [
    "### Upload contents of DatasetArchives to Zenodo record:\n",
    "\n",
    "https://zenodo.org/deposit\n",
    "\n",
    "### Remove embargoed files and credentials from repository  \n",
    "\n",
    "#### Manually remove:\n",
    "* remove MyID from [EARmd notebook](Evaluate_Analyze_and_Report_metadata.ipynb)\n",
    "* remove client_secret key from [client_secrets.json](../scripts/client_secrets.json)\n",
    "* remove client_secret key from [settings.yaml](../scripts/settings.yaml)\n",
    "\n",
    "#### Use the following code cell to:\n",
    "* remove \"../scripts/EARmd.ipynb\"\n",
    "* remove \"../scripts/mycreds.txt\"\n",
    "* remove the datasets and their zips "
   ]
  },
  {
   "cell_type": "code",
   "execution_count": 11,
   "metadata": {},
   "outputs": [],
   "source": [
    "# remove raw and processed, remove research and report datasets\n",
    "for TarName in TarNames:\n",
    "    shutil.rmtree(os.path.join(\"..\",TarName))\n",
    "# remove embargoed code pending publication    \n",
    "os.remove(os.path.join(\"..\",\"scripts\", \"EARmd.py\"))\n",
    "# remove access token\n",
    "os.remove(os.path.join(\"..\",\"scripts\", \"mycreds.txt\"))\n",
    "# remove zips\n",
    "shutil.rmtree(os.path.join(\"..\",\"DatasetArchives\"))"
   ]
  },
  {
   "cell_type": "markdown",
   "metadata": {},
   "source": [
    "### Release new github version to update code on zenodo\n",
    "\n",
    "https://github.com/scgordon/LTERsitesAnalysis"
   ]
  }
 ],
 "metadata": {
  "kernelspec": {
   "display_name": "Python 3",
   "language": "python",
   "name": "python3"
  },
  "language_info": {
   "codemirror_mode": {
    "name": "ipython",
    "version": 3
   },
   "file_extension": ".py",
   "mimetype": "text/x-python",
   "name": "python",
   "nbconvert_exporter": "python",
   "pygments_lexer": "ipython3",
   "version": "3.7.1"
  },
  "nbmeta": {
   "@context": [
    "https://doi.org/10.5063/schema/codemeta-2.0",
    "http://schema.org"
   ],
   "@type": "SoftwareSourceCode",
   "author": [
    {
     "@id": "https://orcid.org/0000-0001-9050-6141",
     "@type": "Person",
     "email": "scgordon@hdfgroup.org",
     "familyName": "Gordon",
     "givenName": "Sean"
    },
    {
     "@id": "https://orcid.org/0000-0003-3585-6733",
     "@type": "Person",
     "familyName": "Habermann",
     "givenName": "Ted"
    }
   ],
   "codeRepository": "https://github.com/scgordon/LTERsitesAnalysis",
   "contIntegration": [
    "https://travis-ci.org/scgordon/LTERsitesAnalysis"
   ],
   "contributor": [
    {
     "@type": "Person",
     "familyName": "Jelenak",
     "givenName": "Aleksandar"
    }
   ],
   "copyrightHolder": [
    {
     "@id": "https://orcid.org/0000-0001-9050-6141",
     "@type": "Person",
     "email": "scgordon@hdfgroup.org",
     "familyName": "Gordon",
     "givenName": "Sean"
    }
   ],
   "description": "Notebook to run an analysis of the DataONE LTER science metadata to study how community information needs evolve over time",
   "developmentStatus": "http://www.repostatus.org/#active",
   "funder": [
    {
     "@type": "Organization",
     "name": "National Science Foundation"
    }
   ],
   "funding": "Award #1443062",
   "identifier": "LTERsitesAnalysis",
   "issueTracker": "https://github.com/scgordon/LTERsitesAnalysis/issues",
   "keywords": [
    "metadata",
    "codemeta",
    "nbmeta",
    "citation",
    "credit",
    "linked-data",
    "json-ld",
    "python",
    "jupyter",
    "notebooks",
    "DataONE",
    "LTER",
    "recommendation",
    "information need",
    "shape of completeness",
    "evaluation",
    "analysis",
    "reports",
    "EAR",
    "metadig",
    "DIBBs"
   ],
   "license": "https://creativecommons.org/licenses/by/4.0/",
   "maintainer": [
    {
     "@id": "https://orcid.org/0000-0001-9050-6141",
     "@type": "Person",
     "email": "scgordon@hdfgroup.org",
     "familyName": "Gordon",
     "givenName": "Sean"
    }
   ],
   "name": "Evaluate_Analyze_and_Report_on_a_metadataset",
   "programmingLanguage": {
    "@type": "ComputerLanguage",
    "name": "Python",
    "url": "https://www.python.org/",
    "version": "3.7.1"
   },
   "relatedLink": [
    "https://doi.org/10.5281/zenodo.2529530",
    "https://github.com/scgordon/LTERsitesAnalysis/blob/master/Create_a_metadataset_nbmeta.json",
    "https://github.com/scgordon/LTERsitesAnalysis/blob/master/packageMetadata_nbmeta.json"
   ],
   "runtimePlatform": "Jupyterlab version 0.35.4 (2018-11-03)",
   "softwareRequirements": [
    {
     "@type": "SoftwareApplication",
     "identifier": "Python",
     "name": "Python",
     "version": ">= 3.0.0"
    },
    {
     "@type": "SoftwareApplication",
     "identifier": "jupyter",
     "name": "jupyter",
     "provider": {
      "@id": "https://jupyter.org",
      "@type": "Organization",
      "name": "Jupyter Team",
      "url": "https://jupyter.org"
     },
     "version": ">= 5.0.0"
    },
    {
     "@type": "SoftwareApplication",
     "identifier": "java",
     "name": "Java Runtime Environment",
     "provider": {
      "@id": "https://www.java.com",
      "@type": "Organization",
      "name": "Oracle",
      "url": "https://www.java.com"
     }
    },
    {
     "@type": "SoftwareApplication",
     "identifier": "saxon-B",
     "name": "Saxon",
     "provider": {
      "@id": "http://www.saxonica.com/",
      "@type": "Organization",
      "name": "Saxonica",
      "url": " http://www.saxonica.com/"
     },
     "sameAs": "https://sourceforge.net/projects/saxon/files/Saxon-B/9.1.0.8/saxonb9-1-0-8j.zip/download"
    },
    {
     "@type": "SoftwareApplication",
     "identifier": "sys",
     "sameAs": "https://pypi.org/project/sys"
    },
    {
     "@type": "SoftwareApplication",
     "identifier": "os",
     "sameAs": "https://pypi.org/project/os"
    },
    {
     "@type": "SoftwareApplication",
     "identifier": "pandas",
     "sameAs": "https://pypi.org/project/pandas"
    },
    {
     "@type": "SoftwareApplication",
     "identifier": "gzip",
     "sameAs": "https://pypi.org/project/gzip"
    },
    {
     "@type": "SoftwareApplication",
     "identifier": "shutil",
     "sameAs": "https://pypi.org/project/shutil"
    },
    {
     "@type": "SoftwareApplication",
     "identifier": "subprocess",
     "sameAs": "https://pypi.org/project/subprocess"
    },
    {
     "@type": "SoftwareApplication",
     "identifier": "tarfile",
     "sameAs": "https://pypi.org/project/tarfile"
    },
    {
     "@type": "SoftwareApplication",
     "identifier": "MDeval",
     "sameAs": "https://www.github.com/scgordon/MDeval"
    },
    {
     "@type": "SoftwareApplication",
     "identifier": "glob",
     "sameAs": "https://pypi.org/project/glob"
    },
    {
     "@type": "SoftwareApplication",
     "identifier": "requests",
     "sameAs": "https://pypi.org/project/requests"
    },
    {
     "@type": "SoftwareApplication",
     "identifier": "xlsxwriter",
     "sameAs": "https://pypi.org/project/xlsxwriter"
    },
    {
     "@type": "SoftwareApplication",
     "identifier": "lxml",
     "sameAs": "https://pypi.org/project/lxml"
    },
    {
     "@type": "SoftwareApplication",
     "identifier": "csv",
     "sameAs": "https://pypi.org/project/csv"
    },
    {
     "@type": "SoftwareApplication",
     "identifier": "logging",
     "sameAs": "https://pypi.org/project/logging"
    },
    {
     "@type": "SoftwareApplication",
     "identifier": "plotly",
     "sameAs": "https://pypi.org/project/plotly"
    },
    {
     "@type": "SoftwareApplication",
     "identifier": "itertools",
     "sameAs": "https://pypi.org/project/itertools"
    }
   ],
   "softwareSuggestions": [
    {
     "@type": "SoftwareApplication",
     "identifier": "pydrive",
     "name": "pydrive",
     "provider": {
      "@id": "https://github.com/gsuitedevs/PyDrive",
      "@type": "Organization",
      "name": "Google",
      "url": "https://github.com/gsuitedevs/PyDrive"
     },
     "sameAs": "https://pypi.org/project/PyDrive/"
    },
    {
     "@type": "SoftwareApplication",
     "identifier": "java 1.8.0_20",
     "name": "Java Runtime Environment",
     "provider": {
      "@id": "https://www.java.com",
      "@type": "Organization",
      "name": "Oracle",
      "url": "https://www.java.com"
     }
    }
   ],
   "version": "0.0.4"
  }
 },
 "nbformat": 4,
 "nbformat_minor": 2
}
