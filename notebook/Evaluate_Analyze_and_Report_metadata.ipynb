{
 "cells": [
  {
   "cell_type": "markdown",
   "metadata": {},
   "source": [
    "# Evaluation, analysis, and reporting on LTER metadata from DataONE\n",
    "\n",
    "The first step is to extract all nodes that contain text, element or attribute, into a csv that flattens the xml while retaining all information, except for order of elements (though there is a parameter to extract that information in the XSL if you're interested). This includes the collection and record the xpath and content comes from for ease of combining them with other years at the site.\n",
    "\n",
    "Second, we create a version of the data that only contains the xpaths from the LTER recommendation. To do this I've used the EML xpaths that coorespond with the EML Best Practices for LTER Sites recommendation, and in some cases, the element name. This instantiation of the recommendation does not go all the way into the child elements neccessary for the recommendation, but is employed in such a way as to scrape all the children elements used. This way the result contains all of the metadata that that site used to add additional context to the concepts the recommendation contains.\n",
    "\n",
    "Next these csv are analyzed for counts and occurrence and combined by site.\n",
    "\n",
    "Finally to compare directly between the differences in child elements each site uses, we pivot the data to contain the highest occurring child element at each site every year the site contributed metadata and visualize the completeness. This process is repeated for each year across LTER. The process will be done for each version of the Best Practices\n",
    "\n",
    "Combined reports for comparison of each site over time, and a report for LTER over time are created.\n",
    "\n",
    "A final cell is available that can generate detailed reports including record content that can be run on any site__year combination. The evaluated data could be used with more in depth tests that look at the content existing at the element and quality of fulfilling a communitie's information needs can be visualized in the same fashion as you will see completeness of collections for a communities recommendation. When a repository can apply tests like these to the records in their catalog they can then ensure the curation of their content, even if it is an interdisciplinary one like DataONE. This allows their users to trust the repository as wellcan for including all the concepts a potential reuser would need to identify, discover, evaluate, access and integrate the dataset into their own scientific research as LTER has done. \n",
    "\n",
    "This is the NbMeta metadata record for this notebook:\n",
    "\n",
    "[Create_a_metadataset_nbmeta.json](../metadata/Evaluate_Analyze_and_Report_metadata_nbmeta.json)\n",
    "\n",
    "## Prepare the notebook\n",
    "\n",
    "* import modules\n",
    "* define variables\n",
    "* define recommendations"
   ]
  },
  {
   "cell_type": "code",
   "execution_count": 1,
   "metadata": {},
   "outputs": [
    {
     "data": {
      "text/html": [
       "<script type=\"text/javascript\">window.PlotlyConfig = {MathJaxConfig: 'local'};</script><script type=\"text/javascript\">if (window.MathJax) {MathJax.Hub.Config({SVG: {font: \"STIX-Web\"}});}</script><script>requirejs.config({paths: { 'plotly': ['https://cdn.plot.ly/plotly-latest.min']},});if(!window._Plotly) {require(['plotly'],function(plotly) {window._Plotly=plotly;});}</script>"
      ],
      "text/vnd.plotly.v1+html": [
       "<script type=\"text/javascript\">window.PlotlyConfig = {MathJaxConfig: 'local'};</script><script type=\"text/javascript\">if (window.MathJax) {MathJax.Hub.Config({SVG: {font: \"STIX-Web\"}});}</script><script>requirejs.config({paths: { 'plotly': ['https://cdn.plot.ly/plotly-latest.min']},});if(!window._Plotly) {require(['plotly'],function(plotly) {window._Plotly=plotly;});}</script>"
      ]
     },
     "metadata": {},
     "output_type": "display_data"
    }
   ],
   "source": [
    "import sys\n",
    "import os\n",
    "import pandas as pd\n",
    "import gzip\n",
    "import shutil\n",
    "import subprocess\n",
    "import tarfile\n",
    "\n",
    "#import local python module\n",
    "sys.path.append(os.path.join(os.path.dirname(sys.path[0]),'../scripts'))\n",
    "import EARmd as md\n",
    "\n",
    "'''\n",
    "If you want to place your reports into a specific folder in a Google Drive,\n",
    "grab the url after the \"folders/\", and paste it into the MyfolderID variable below, \n",
    "otherwise set to None. \n",
    "To make the md.writeToGoogle function work, you'll need to update the \n",
    "\"scripts/client_secrets.json\", and settings.yaml with your own client id \n",
    "and client secret. If you don't want to go through this process \n",
    "you can simply generate the Excel spreadsheets or click on the links \n",
    "in the nbviewer version of this notebook to view the Google Sheet versions\n",
    "of the reports.\n",
    "'''\n",
    "MyfolderID = 'yourFolderIDhere'\n",
    "\n",
    "# The list of LTER sites to evaluate, analyze and report on\n",
    "Sites = ['and','arc','bes','bnz','cce',\n",
    "         'cdr','cap','cwt','fce','gce',\n",
    "         'hfr','hbr','jrn','kbs','knz',\n",
    "         'luq','mcm', 'mcr','nwt','ntl',\n",
    "         'pal','pie','sbc','sev','sgs','vcr']\n",
    "\n",
    "\n",
    "# Every year we have metadata from LTER sites\n",
    "YearsInvestigated = ['2005','2006','2007','2008','2009',\n",
    "                     '2010','2011','2012','2013','2014',\n",
    "                     '2015','2016','2017','2018'\n",
    "                    ]\n",
    "os.makedirs(\"../data/LTER\", exist_ok=True)\n",
    "\n",
    "# create a list of each collections name\n",
    "collectionsToProcess = [name for name in os.listdir(\"../collections/LTER\") if not name.startswith('.') ]"
   ]
  },
  {
   "cell_type": "markdown",
   "metadata": {},
   "source": [
    "### Define a recommendation for each version of the EML Best Practices for LTER Sites\n",
    "\n",
    "We need to be able to look at the recommendation specific elements and attributes used in each version. To create analyses and reports for this subset of the evaluated data, we will need to build a few lists and a dictionary for each version.\n",
    "\n",
    "#### 2004 EML Best Practices for LTER Sites\n",
    "\n",
    "Representation of the first version of LTER's EML Best Practices for LTER Sites\n",
    "\n",
    "<p>Adapted from: </p>\n",
    "    \n",
    "[https://lternet.edu/wp-content/uploads/2010/12/emlbestpractices_oct2004_final.pdf](https://lternet.edu/wp-content/uploads/2010/12/emlbestpractices_oct2004_final.pdf)"
   ]
  },
  {
   "cell_type": "code",
   "execution_count": 2,
   "metadata": {},
   "outputs": [],
   "source": [
    "# create a pattern to look for elements used in fulfilling the communities stated information needs\n",
    "LTERrecV2004Elements = ['/eml:eml/@packageId',\n",
    " '/eml:eml/dataset/title',\n",
    " '/eml:eml/dataset/creator',\n",
    " '/eml:eml/dataset/metadataProvider',\n",
    " '/eml:eml/dataset/associatedParty',\n",
    " '/eml:eml/dataset/publisher',\n",
    " '/eml:eml/dataset/pubDate',\n",
    " '/eml:eml/dataset/contact',\n",
    " '/eml:eml/dataset/abstract',\n",
    " '/eml:eml/dataset/keywordSet/keyword',\n",
    " '/eml:eml/dataset/distribution',\n",
    " '/eml:eml/dataset/coverage/geographicCoverage',\n",
    " '/eml:eml/dataset/coverage/taxonomicCoverage',\n",
    " '/eml:eml/dataset/coverage/temporalCoverage',\n",
    " '/eml:eml/dataset/maintenance',\n",
    " '/eml:eml/dataset/intellectualRights',\n",
    " '/eml:eml/dataset/methods',\n",
    " '/eml:eml/dataset/project',\n",
    " '/eml:eml/dataset/dataTable/entityDescription',\n",
    " '/eml:eml/dataset/dataTable/attributeList/attribute/attributeDefinition',\n",
    " '/eml:eml/access',\n",
    " '/eml:eml/dataset/dataTable/physical/dataFormat',\n",
    " '/eml:eml/dataset/dataTable/attributeList',\n",
    " '/eml:eml/dataset/dataTable/constraint',\n",
    " '/eml:eml/dataset/methods/qualityControl']\n",
    "\n",
    "# a dictionary containing the recommendation xpaths and the relevent sub element \n",
    "RecDict2004 = {\"/eml:eml/@packageId\": \"packageId\",\n",
    "           \"/eml:eml/dataset/title\": \"title\",\n",
    "           \"/eml:eml/dataset/creator\": \"creator\",\n",
    "           \"/eml:eml/dataset/metadataProvider\": \"metadataProvider\",\n",
    "           \"/eml:eml/dataset/associatedParty\": \"associatedParty\",\n",
    "           \"/eml:eml/dataset/publisher\": \"publisher\",\n",
    "           \"/eml:eml/dataset/pubDate\": \"pubDate\",\n",
    "           \"/eml:eml/dataset/contact\": \"contact\",\n",
    "           \"/eml:eml/dataset/abstract\": \"abstract\",\n",
    "           \"/eml:eml/dataset/keywordSet/keyword\": \"keyword\",\n",
    "           \"/eml:eml/dataset/distribution\": \"distribution\",\n",
    "           \"/eml:eml/dataset/coverage/geographicCoverage\": \"geographicCoverage\",\n",
    "           \"/eml:eml/dataset/coverage/taxonomicCoverage\": \"taxonomicCoverage\",\n",
    "           \"/eml:eml/dataset/coverage/temporalCoverage\": \"temporalCoverage\",\n",
    "           \"/eml:eml/dataset/maintenance\": \"maintenance\",\n",
    "           \"/eml:eml/dataset/intellectualRights\": \"intellectualRights\",\n",
    "           \"/eml:eml/dataset/methods/qualityControl\": \"qualityControl\",\n",
    "           \"/eml:eml/dataset/methods\": \"methods\",\n",
    "           \"/eml:eml/dataset/project\": \"project\",\n",
    "           \"/eml:eml/dataset/dataTable/entityDescription\": \"entityDescription\",\n",
    "           \"/eml:eml/dataset/dataTable/attributeList/attribute/attributeDefinition\": \"attributeDefinition\",\n",
    "           \"/eml:eml/access\": \"access\",\n",
    "           \"/eml:eml/dataset/dataTable/physical/dataFormat\": \"dataFormat\",\n",
    "           \"/eml:eml/dataset/dataTable/attributeList\": \"attributeList\",\n",
    "           \"/eml:eml/dataset/dataTable/constraint\": \"constraint\",\n",
    "           \"Number of Records\": \"Number of Records\"\n",
    "          }\n",
    "# define a list of element recommendation level\n",
    "LevelOrder2004 = [\"Number of Records\",\n",
    "    'Identification',\"Identification\",\"Identification\",\"Identification\",\"Identification\",\"Identification\",\"Identification\",\"Identification\",\"Identification\",\"Identification\",\"Identification\",\n",
    "    \"Discovery\",\"Discovery\",\"Discovery\",\"Discovery\",\n",
    "    \"Evaluation\",\"Evaluation\",\"Evaluation\",\"Evaluation\",\"Evaluation\",\n",
    "    \"Access\",\"Access\",\n",
    "    \"Integration\",\"Integration\",\"Integration\",]\n",
    "\n",
    "# create a list to order the table that corresponds with the order of the LTER recommendation levels. \n",
    "ElementOrder2004 = [\"Number of Records\",\"packageId\",\"title\",\"creator\",\"metadataProvider\",\"associatedParty\",\"publisher\",\"pubDate\",\"contact\",\"abstract\",\"keyword\",\"distribution\",\n",
    "                \"geographicCoverage\",\"taxonomicCoverage\",\"temporalCoverage\",\"maintenance\",\n",
    "                \"intellectualRights\",\"methods\",\"project\",\"entityDescription\",\"attributeDefinition\",\n",
    "                \"access\",\"dataFormat\",\n",
    "                \"attributeList\",\"constraint\",\"qualityControl\"]\n",
    "# Used to order a dataframe in the order of the recommendation\n",
    "ConceptOrder2004 = ['Number of Records',\n",
    "                'Resource Identifier',\n",
    "                \"Resource Title\",\n",
    "                \"Author / Originator\",\n",
    "                \"Metadata Contact\",\n",
    "                \"Contributor Name\",\n",
    "                \"Publisher\",\n",
    "                \"Publication Date\",\n",
    "                \"Resource Contact\",\n",
    "                \"Abstract\",\n",
    "                \"Keyword\",\n",
    "                \"Resource Distribution\",\n",
    "                \"Spatial Extent\",\n",
    "                \"Taxonomic Extent\",\n",
    "                \"Temporal Extent\",\n",
    "                \"Maintenance\",\n",
    "                \"Resource Use Constraints\",\n",
    "                \"Process Step\",\n",
    "                \"Project Description\",\n",
    "                \"Entity Type Definition\",\n",
    "                \"Attribute Definition\",\n",
    "                \"Resource Access Constraints\",\n",
    "                \"Resource Format\",\n",
    "                \"Attribute List\",\n",
    "                \"Attribute Constraints\",\n",
    "                \"Resource Quality Description\"]"
   ]
  },
  {
   "cell_type": "markdown",
   "metadata": {},
   "source": [
    "#### 2011 EML Best Practices for LTER Sites\n",
    "<p>Representation of the EML Best Practices for LTER Sites Version 2 from 2011</p>\n",
    "<p>Adapted from: </p>\n",
    "    \n",
    "[https://lternet.edu/wp-content/uploads/2011/08/emlbestpractices-2.0-FINAL-20110802.pdf](https://lternet.edu/wp-content/uploads/2011/08/emlbestpractices-2.0-FINAL-20110802.pdf)"
   ]
  },
  {
   "cell_type": "code",
   "execution_count": 3,
   "metadata": {},
   "outputs": [],
   "source": [
    "# create a pattern to look for elements used in fulfilling the communities stated information needs\n",
    "LTERrecV2011Elements = [\n",
    "    '/eml:eml/@xsi:schemaLocation',# recommended\n",
    "    '/eml:eml/@packageId',\n",
    "    '/eml:eml/@system',# optional\n",
    "    '/eml:eml/access',# optional\n",
    "    '/eml:eml/dataset/alternateIdentifier',\n",
    "    '/eml:eml/dataset/title', \n",
    "    '/eml:eml/dataset/creator',\n",
    "    '/eml:eml/dataset/contact',# required\n",
    "    '/eml:eml/dataset/metadataProvider',\n",
    "    '/eml:eml/dataset/associatedParty',\n",
    "    '/eml:eml/dataset/publisher',\n",
    "    '/eml:eml/dataset/pubDate',\n",
    "    '/eml:eml/dataset/abstract',\n",
    "    '/eml:eml/dataset/project/abstract',\n",
    "    '/eml:eml/dataset/keywordSet',\n",
    "    '/eml:eml/dataset/project/keywordSet',\n",
    "    '/eml:eml/dataset/intellectualRights',\n",
    "    '/eml:eml/dataset/distribution',\n",
    "    '/eml:eml/dataset/coverage',\n",
    "    '/eml:eml/dataset/maintenance',\n",
    "    '/eml:eml/dataset/methods',\n",
    "    '/eml:eml/dataset/project',\n",
    "    '/eml:eml/dataset/dataTable',\n",
    "    '/eml:eml/dataset/spatialRaster',\n",
    "    '/eml:eml/dataset/spatialVector',\n",
    "    '/eml:eml/dataset/storedProcedure',\n",
    "    '/eml:eml/dataset/view',\n",
    "    '/eml:eml/dataset/otherEntity',\n",
    "    \"/eml:eml/dataset/dataTable/attributeList\",\n",
    "    \"/eml:eml/dataset/spatialRaster/attributeList\",\n",
    "    \"/eml:eml/dataset/spatialVector/attributeList\",\n",
    "    \"/eml:eml/dataset/storedProcedure/attributeList\",\n",
    "    \"/eml:eml/dataset/view/attributeList\",\n",
    "    \"/eml:eml/dataset/otherEntity/attributeList\",\n",
    "    \"/eml:eml/dataset/dataTable/constraint\",\n",
    "    \"/eml:eml/dataset/spatialRaster/constraint\",\n",
    "    \"/eml:eml/dataset/spatialVector/constraint\",\n",
    "    \"/eml:eml/dataset/storedProcedure/constraint\",\n",
    "    \"/eml:eml/dataset/view/constraint\",\n",
    "    \"/eml:eml/dataset/otherEntity/constraint\",\n",
    "    'eml:eml/additionalMetadata']\n",
    "\n",
    "# A dictionary containing the recommendation xpaths and the relevent sub element. \n",
    "RecDict2011 = {'/eml:eml/@xsi:schemaLocation': \"xsi:schemaLocation\",\n",
    "            \"/eml:eml/@packageId\": \"packageId\",\n",
    "            '/eml:eml/@system': 'system',\n",
    "            \"/eml:eml/access\": \"access\",\n",
    "            '/eml:eml/dataset/alternateIdentifier': \"alternateIdentifier\",\n",
    "            \"/eml:eml/dataset/title\": \"title\",\n",
    "            \"/eml:eml/dataset/creator\": \"creator\",\n",
    "            \"/eml:eml/dataset/contact\": \"contact\",\n",
    "            \"/eml:eml/dataset/metadataProvider\": \"metadataProvider\",\n",
    "            \"/eml:eml/dataset/associatedParty\": \"associatedParty\",\n",
    "            \"/eml:eml/dataset/publisher\": \"publisher\",\n",
    "            \"/eml:eml/dataset/pubDate\": \"pubDate\",\n",
    "            \"/eml:eml/dataset/abstract\": \"abstract\",\n",
    "            '/eml:eml/dataset/project/abstract': \"abstract\",\n",
    "            \"/eml:eml/dataset/keywordSet\": \"keywordSet\",\n",
    "            \"/eml:eml/dataset/project/keywordSet\": \"keywordSet\",\n",
    "            \"/eml:eml/dataset/intellectualRights\": \"intellectualRights\",\n",
    "            \"/eml:eml/dataset/distribution\": \"distribution\",\n",
    "            \"/eml:eml/dataset/coverage\": \"coverage\",\n",
    "            \"/eml:eml/dataset/maintenance\": \"maintenance\",\n",
    "            \"/eml:eml/dataset/methods\": \"methods\",\n",
    "            \"/eml:eml/dataset/project\": \"project\",\n",
    "            \"/eml:eml/dataset/dataTable/attributeList\": \"attributeList\",\n",
    "            \"/eml:eml/dataset/spatialRaster/attributeList\": \"attributeList\",\n",
    "            \"/eml:eml/dataset/spatialVector/attributeList\": \"attributeList\",\n",
    "            \"/eml:eml/dataset/storedProcedure/attributeList\": \"attributeList\",\n",
    "            \"/eml:eml/dataset/view/attributeList\": \"attributeList\",\n",
    "            \"/eml:eml/dataset/otherEntity/attributeList\": \"attributeList\",\n",
    "            \"/eml:eml/dataset/dataTable/constraint\": \"constraint\",\n",
    "            \"/eml:eml/dataset/spatialRaster/constraint\": \"constraint\",\n",
    "            \"/eml:eml/dataset/spatialVector/constraint\": \"constraint\",\n",
    "            \"/eml:eml/dataset/storedProcedure/constraint\": \"constraint\",\n",
    "            \"/eml:eml/dataset/view/constraint\": \"constraint\",\n",
    "            \"/eml:eml/dataset/otherEntity/constraint\": \"constraint\",\n",
    "            \"/eml:eml/dataset/dataTable\": \"[entity]\",\n",
    "            \"/eml:eml/dataset/spatialRaster\": \"[entity]\",\n",
    "            \"/eml:eml/dataset/spatialVector\": \"[entity]\",\n",
    "            \"/eml:eml/dataset/storedProcedure\": \"[entity]\",\n",
    "            \"/eml:eml/dataset/view\": \"[entity]\",\n",
    "            \"/eml:eml/dataset/otherEntity\": \"[entity]\",\n",
    "            \"/eml:eml/dataset/project\": \"project\",\n",
    "\n",
    "            '/eml:eml/additionalMetadata': 'additionalMetadata',\n",
    "            \"Number of Records\": \"Number of Records\"\n",
    "           }\n",
    "# define a list of element recommendation level\n",
    "LevelOrder2011 = [\"Number of Records\",'','','','','','','','','','','','','','','','','','','','','','','','']\n",
    "\n",
    "# create a list to order the table that corresponds with the order of the LTER recommendation levels. \n",
    "ElementOrder2011 = [\"Number of Records\",\n",
    "                 'xsi:schemaLocation',\n",
    "                 'packageId',\n",
    "                 'system',# optional\n",
    "                 'access',# optional\n",
    "                 'alternateIdentifier',\n",
    "                 'title', \n",
    "                 'creator',\n",
    "                 'contact',\n",
    "                 'metadataProvider',\n",
    "                 'associatedParty',\n",
    "                 'publisher',\n",
    "                 'pubDate',\n",
    "                 'abstract',\n",
    "                 'keywordSet',\n",
    "                 'intellectualRights',\n",
    "                 'distribution',\n",
    "                 'coverage',\n",
    "                 'maintenance',\n",
    "                 'methods',\n",
    "                 'project',\n",
    "                 '[entity]',\n",
    "                 'attributeList',\n",
    "                 'constraint',\n",
    "                 'additionalMetadata']\n",
    "# Used to order a dataframe in the order of the recommendation\n",
    "ConceptOrder2011 = ['Number of Records','','','','','','','','','','','','','','','','','','','','','','','','']"
   ]
  },
  {
   "cell_type": "markdown",
   "metadata": {},
   "source": [
    "## Evaluation using the AllNodes.xsl transform\n",
    "\n",
    "This XSL is standards agnostic. AllNodes will work with any number of valid XML records, regardless of their standards compliance or creativity.\n",
    "The transform flattens the XML in each record in a directory into a csv. For each node that has text the XSL writes a row that contains the directory name, file name, text content, and the Xpath for each element and attribute in the records in the collection.\n"
   ]
  },
  {
   "cell_type": "code",
   "execution_count": 4,
   "metadata": {},
   "outputs": [],
   "source": [
    "\n",
    "# use the list of collections to run the evaluation for each collection\n",
    "for collection in collectionsToProcess:\n",
    "\n",
    "    \"\"\"\n",
    "    build a shell command to run the Evaluation XSL. \n",
    "    You'll need java installed and describe the location in the first string of the cmd list\n",
    "    \"\"\"   \n",
    "    cmd = [\"/usr/bin/java\",\n",
    "           '-jar', \"../scripts/saxon-b-9.0.jar\",\n",
    "           '-xsl:' + \"../scripts/AllNodes.xsl\",\n",
    "           '-s:' + \"../scripts/dummy.xml\",\n",
    "           '-o:' + \"../data/LTER/\"+ str(collection) + \"_XpathEvaluated.csv\",\n",
    "           'recordSetPath=' + \"../collections/LTER/\" + str(collection) + \"/\"]\n",
    "    # run the transform\n",
    "    subprocess.run(' '.join(cmd), shell=True, check=True)\n",
    "    xpath_eval_file = \"../data/LTER/\"+ str(collection) + \"_XpathEvaluated.csv\"\n",
    "    with open(xpath_eval_file, 'rb') as f:\n",
    "            gzxpath_eval_file = xpath_eval_file + '.gz'\n",
    "            with gzip.open(gzxpath_eval_file, 'wb') as gzf:\n",
    "                shutil.copyfileobj(f, gzf)\n",
    "                os.remove(xpath_eval_file)"
   ]
  },
  {
   "cell_type": "markdown",
   "metadata": {},
   "source": [
    "## Analysis using the MDeval.py module\n",
    "The module has already been used for getting the records via the Requests module. Now we are going to utilize the flat nature of the evaluated metadataset to use pandas to analyze the metadata for elements in the LTER recommendation. This process will yield three versions of the dataset: the absolute return of the evaluation, and the subset each recommendation pattern identified. Each version will be organized differently. All three versions will have an analysis applied called XpathOccurrence. It returns various information about the occurrence of each xpath used in the collection's records. The most important of these is the percentage of records that contained which elements.\n",
    "\n"
   ]
  },
  {
   "cell_type": "code",
   "execution_count": 5,
   "metadata": {},
   "outputs": [],
   "source": [
    "for collection in collectionsToProcess:\n",
    "    # places for all the evaluated and analyzed data\n",
    "    XpathEvaluated = os.path.join(\"../data/LTER/\", collection + \"_XpathEvaluated.csv.gz\")\n",
    "    XpathOccurrence = os.path.join(\"../data/LTER/\", collection +'_XpathOccurrence.csv')\n",
    "\n",
    "    # Read in the evaluated metadata\n",
    "    EvaluatedDF = pd.read_csv(XpathEvaluated)\n",
    "\n",
    "    # Use above dataframe and apply the xpathOccurrence functions from MDeval\n",
    "    md.XpathOccurrence(EvaluatedDF, collection, XpathOccurrence)\n",
    "    \n",
    "    # Apply the recommendation to the collection\n",
    "    md.applyRecommendation(LTERrecV2004Elements, 'BestPractices2004', collection)\n",
    "    \n",
    "    md.applyRecommendation(LTERrecV2011Elements, 'BestPractices2011', collection)\n",
    "    \n"
   ]
  },
  {
   "cell_type": "markdown",
   "metadata": {},
   "source": [
    "## Create reports \n",
    "\n",
    "#### LTER EML All Elements Useage and visualization\n",
    "* The first row is the number of records. Use the *RecordCount* column\n",
    "* Rows are Xpath in any record throughout the collection\n",
    "* Columns are XpathCount, RecordCount, AverageOccurrencePerRecord, CollectionOccurrence%\n",
    "\n",
    "#### Recommendation Elements Useage\n",
    "* same as the Element Usage Analysis, but limited to elements and their children that occurr in the conceptual recommendation.\n",
    "We will first apply a list of xpaths from a \"50 thousand foot view\". What is meant by this is that instead of  explicitly looking for each child element of /eml:eml/dataset/contact looking for xpaths that contain /eml:eml/dataset/contact. This will allow us to create a version of the evaluation that contains elements important to fulfilling specific recommendation needs. It will also allow for additional insight in how element choices shift over time. \n",
    "\n",
    "#### Recommendation Concepts Useage\n",
    "* Take the occurrence percentage from the most used child element for each recommendation level parent element, and assign it to the element to get a high level view on recommendations compliance over time.\n",
    "\n",
    "Use the analyzed data to create reports for each LTER site through time, and LTER the organization through time. All reports are created as Excel spreadsheets then uploaded and translated into Google Sheets, and shared as a viewable link. To manipulate any of the data yourself copy the Sheet or download as an Excel file.\n",
    "\n",
    "#### Completeness Through Time\n",
    "* Visualize the Best Practices versions completeness percentage for each LTER Site for the years 2005-2018 and take the mean of each year to visualize LTER's average completeness through time as a way to determine the likelyhood a catalog will address the information needs of LTER data users and producers. \n",
    "<p>Gordon, S 2019 Is your metadata catalog in shape?. Zenodo. https://doi.org/10.5281/zenodo.2558631</p>\n",
    "\n",
    "### Combine collection analyses then create reports for each site through time and for LTER as an organization"
   ]
  },
  {
   "cell_type": "code",
   "execution_count": 6,
   "metadata": {},
   "outputs": [
    {
     "data": {
      "text/html": [
       "<a href=\"https://docs.google.com/spreadsheets/d/13WZKGobtBtMcxncE2wrI-9AbN7AoCGZl-fO9CouoFJw/edit?usp=drivesdk\">AND</a>"
      ],
      "text/plain": [
       "<IPython.core.display.HTML object>"
      ]
     },
     "metadata": {},
     "output_type": "display_data"
    },
    {
     "data": {
      "text/html": [
       "<a href=\"https://docs.google.com/spreadsheets/d/10VNkX4P4q3cTACcBJn7dOVcWXVSpyPL6vjskePPQ4oY/edit?usp=drivesdk\">ARC</a>"
      ],
      "text/plain": [
       "<IPython.core.display.HTML object>"
      ]
     },
     "metadata": {},
     "output_type": "display_data"
    },
    {
     "data": {
      "text/html": [
       "<a href=\"https://docs.google.com/spreadsheets/d/10_Y2JKTdKBPUkxB19jz819Il9yGsaOTxuDDjKWsxQLs/edit?usp=drivesdk\">BES</a>"
      ],
      "text/plain": [
       "<IPython.core.display.HTML object>"
      ]
     },
     "metadata": {},
     "output_type": "display_data"
    },
    {
     "data": {
      "text/html": [
       "<a href=\"https://docs.google.com/spreadsheets/d/1kuI4O9FBH4fjjvfb-Y9ziZIyRL9e-HHMKlx_kAmjW1U/edit?usp=drivesdk\">BNZ</a>"
      ],
      "text/plain": [
       "<IPython.core.display.HTML object>"
      ]
     },
     "metadata": {},
     "output_type": "display_data"
    },
    {
     "data": {
      "text/html": [
       "<a href=\"https://docs.google.com/spreadsheets/d/1czY50HXaomo7jkvLh3CvacVgldhjB_llVGJOT9mNs74/edit?usp=drivesdk\">CCE</a>"
      ],
      "text/plain": [
       "<IPython.core.display.HTML object>"
      ]
     },
     "metadata": {},
     "output_type": "display_data"
    },
    {
     "data": {
      "text/html": [
       "<a href=\"https://docs.google.com/spreadsheets/d/1FhIFrkCUEscZAIBdC0tD8hXdLFpOG4h4-aVDGnNXm5E/edit?usp=drivesdk\">CDR</a>"
      ],
      "text/plain": [
       "<IPython.core.display.HTML object>"
      ]
     },
     "metadata": {},
     "output_type": "display_data"
    },
    {
     "data": {
      "text/html": [
       "<a href=\"https://docs.google.com/spreadsheets/d/1vlrWxGFDPD4D5Yh7ALf0O3gsHdhJNeYKy36876-K3wY/edit?usp=drivesdk\">CAP</a>"
      ],
      "text/plain": [
       "<IPython.core.display.HTML object>"
      ]
     },
     "metadata": {},
     "output_type": "display_data"
    },
    {
     "data": {
      "text/html": [
       "<a href=\"https://docs.google.com/spreadsheets/d/17taHI2PgYn6uVCIc0JK7JnuDbXygQwJKBGjcuDaLYGM/edit?usp=drivesdk\">CWT</a>"
      ],
      "text/plain": [
       "<IPython.core.display.HTML object>"
      ]
     },
     "metadata": {},
     "output_type": "display_data"
    },
    {
     "data": {
      "text/html": [
       "<a href=\"https://docs.google.com/spreadsheets/d/12hvvgEloXAAy-hcj5fPL5RD6240O3N07CVF3RSbtx9s/edit?usp=drivesdk\">FCE</a>"
      ],
      "text/plain": [
       "<IPython.core.display.HTML object>"
      ]
     },
     "metadata": {},
     "output_type": "display_data"
    },
    {
     "data": {
      "text/html": [
       "<a href=\"https://docs.google.com/spreadsheets/d/1_RbdBJOr-yVgBT_phkNrzuY1DrLk7blZaOo_-2D1YUc/edit?usp=drivesdk\">GCE</a>"
      ],
      "text/plain": [
       "<IPython.core.display.HTML object>"
      ]
     },
     "metadata": {},
     "output_type": "display_data"
    },
    {
     "data": {
      "text/html": [
       "<a href=\"https://docs.google.com/spreadsheets/d/1ywIicYyCcbneUt9zEsjMRaRBPLDgY632W4YNdNRrxZQ/edit?usp=drivesdk\">HFR</a>"
      ],
      "text/plain": [
       "<IPython.core.display.HTML object>"
      ]
     },
     "metadata": {},
     "output_type": "display_data"
    },
    {
     "data": {
      "text/html": [
       "<a href=\"https://docs.google.com/spreadsheets/d/1jOow2qMzQJVxF8dKvuYpk5OXgLiMvvfN0Jpq8gXMtVo/edit?usp=drivesdk\">HBR</a>"
      ],
      "text/plain": [
       "<IPython.core.display.HTML object>"
      ]
     },
     "metadata": {},
     "output_type": "display_data"
    },
    {
     "data": {
      "text/html": [
       "<a href=\"https://docs.google.com/spreadsheets/d/1iWN9rj_BMQZnEuNBKsmevdgb5Xwpvh5TUk2V6UfXCPU/edit?usp=drivesdk\">JRN</a>"
      ],
      "text/plain": [
       "<IPython.core.display.HTML object>"
      ]
     },
     "metadata": {},
     "output_type": "display_data"
    },
    {
     "data": {
      "text/html": [
       "<a href=\"https://docs.google.com/spreadsheets/d/1X6QtpTNztYFwoBjwYgFhPdTcU87uEKPLglGIsoAO6V0/edit?usp=drivesdk\">KBS</a>"
      ],
      "text/plain": [
       "<IPython.core.display.HTML object>"
      ]
     },
     "metadata": {},
     "output_type": "display_data"
    },
    {
     "data": {
      "text/html": [
       "<a href=\"https://docs.google.com/spreadsheets/d/1Oa467A687NkgZzZy5Xc3qbp4IdHCDbxkhnBqLXgwyHU/edit?usp=drivesdk\">KNZ</a>"
      ],
      "text/plain": [
       "<IPython.core.display.HTML object>"
      ]
     },
     "metadata": {},
     "output_type": "display_data"
    },
    {
     "data": {
      "text/html": [
       "<a href=\"https://docs.google.com/spreadsheets/d/1GS776FWh6ODr80N0Ow8p1VQvb1t3tetFVy7ckS2AKPk/edit?usp=drivesdk\">LUQ</a>"
      ],
      "text/plain": [
       "<IPython.core.display.HTML object>"
      ]
     },
     "metadata": {},
     "output_type": "display_data"
    },
    {
     "data": {
      "text/html": [
       "<a href=\"https://docs.google.com/spreadsheets/d/1soz9HXLM-U01xKZfKpA9H2UDlW51GFnDqburXesHTJQ/edit?usp=drivesdk\">MCM</a>"
      ],
      "text/plain": [
       "<IPython.core.display.HTML object>"
      ]
     },
     "metadata": {},
     "output_type": "display_data"
    },
    {
     "data": {
      "text/html": [
       "<a href=\"https://docs.google.com/spreadsheets/d/19SzyZ2VeNKStnYIZ39gTVcsh_xcLqK2fKeJOCxIKH-U/edit?usp=drivesdk\">MCR</a>"
      ],
      "text/plain": [
       "<IPython.core.display.HTML object>"
      ]
     },
     "metadata": {},
     "output_type": "display_data"
    },
    {
     "data": {
      "text/html": [
       "<a href=\"https://docs.google.com/spreadsheets/d/1KSJst_RN8N5bgh2Tt0hh2Ln1SY7XR0--FVSj9lDp-EU/edit?usp=drivesdk\">NWT</a>"
      ],
      "text/plain": [
       "<IPython.core.display.HTML object>"
      ]
     },
     "metadata": {},
     "output_type": "display_data"
    },
    {
     "data": {
      "text/html": [
       "<a href=\"https://docs.google.com/spreadsheets/d/1BmPZq7Qjxr7mrE89T5TRFlCPhrtGht4MRACxlH2KBJQ/edit?usp=drivesdk\">NTL</a>"
      ],
      "text/plain": [
       "<IPython.core.display.HTML object>"
      ]
     },
     "metadata": {},
     "output_type": "display_data"
    },
    {
     "data": {
      "text/html": [
       "<a href=\"https://docs.google.com/spreadsheets/d/11mtWxlrMALgIokHJT_PQIuazUxwkwOh05j4BgfW1sLU/edit?usp=drivesdk\">PAL</a>"
      ],
      "text/plain": [
       "<IPython.core.display.HTML object>"
      ]
     },
     "metadata": {},
     "output_type": "display_data"
    },
    {
     "data": {
      "text/html": [
       "<a href=\"https://docs.google.com/spreadsheets/d/1vtmPBldaUQpSahlsOCueU4Bg6U-kyVJYg1NzkgZfS4I/edit?usp=drivesdk\">PIE</a>"
      ],
      "text/plain": [
       "<IPython.core.display.HTML object>"
      ]
     },
     "metadata": {},
     "output_type": "display_data"
    },
    {
     "data": {
      "text/html": [
       "<a href=\"https://docs.google.com/spreadsheets/d/1RLvnH1221PG8Z6SZqj-Tf6Be7FvwSgxFWNbl7kd5Bdw/edit?usp=drivesdk\">SBC</a>"
      ],
      "text/plain": [
       "<IPython.core.display.HTML object>"
      ]
     },
     "metadata": {},
     "output_type": "display_data"
    },
    {
     "data": {
      "text/html": [
       "<a href=\"https://docs.google.com/spreadsheets/d/1whkcDCDYXBqrKmTmi3X2qd6JLGEtj7pDJLORovxo6mE/edit?usp=drivesdk\">SEV</a>"
      ],
      "text/plain": [
       "<IPython.core.display.HTML object>"
      ]
     },
     "metadata": {},
     "output_type": "display_data"
    },
    {
     "data": {
      "text/html": [
       "<a href=\"https://docs.google.com/spreadsheets/d/14lXhMr2SjXDDKqmKNLSYtuXlUs03JPw-kMTfRz_2pLs/edit?usp=drivesdk\">SGS</a>"
      ],
      "text/plain": [
       "<IPython.core.display.HTML object>"
      ]
     },
     "metadata": {},
     "output_type": "display_data"
    },
    {
     "data": {
      "text/html": [
       "<a href=\"https://docs.google.com/spreadsheets/d/1x6e_Nrc5zhpVra1FmCgD5zthzNc0abI3Ie-XrQOw9j8/edit?usp=drivesdk\">VCR</a>"
      ],
      "text/plain": [
       "<IPython.core.display.HTML object>"
      ]
     },
     "metadata": {},
     "output_type": "display_data"
    }
   ],
   "source": [
    "os.makedirs(\"../reports/LTER\", exist_ok=True)\n",
    "\n",
    "for Site in Sites:\n",
    "    # places for all the combined data and SiteThroughTimeReport\n",
    "    DataDestination = os.path.join('../reports/LTER/', Site.upper() + \".xlsx\")\n",
    "    XpathOccurrence = os.path.join(\"../data/LTER/\", Site.upper() + '_XpathOccurrence.csv')\n",
    "    BestPractices2004Occurrence = os.path.join(\"../data/LTER/\", Site.upper() + '_BestPractices2004Occurrence.csv')\n",
    "    BestPractices2004Concept = os.path.join('..','data','LTER', Site.upper() + '_BestPractices2004Completeness.csv')\n",
    "    BestPractices2004Graph = os.path.join('..','data','LTER', Site.upper() + '_BestPractices2004_.png')\n",
    "    BestPractices2011Occurrence = os.path.join(\"../data/LTER/\", Site.upper() + '_BestPractices2011Occurrence.csv')\n",
    "    BestPractices2011Concept = os.path.join('..','data','LTER', Site.upper() + '_BestPractices2011Completeness.csv')\n",
    "    BestPractices2011Graph = os.path.join('..','data','LTER', Site.upper() + '_BestPractices2011_.png')\n",
    "    \n",
    "    # combine the absolute occurance analysis for a site through time\n",
    "    XpathOccurrenceToCombine = [os.path.join(\"../data/LTER\", name) for name in os.listdir(\"../data/LTER\") if name.startswith(Site.upper() + \"__\") and name.endswith('_XpathOccurrence.csv') ]\n",
    "    md.CombineXPathOccurrence(XpathOccurrenceToCombine,\n",
    "                              XpathOccurrence, to_csv=True)\n",
    "    \n",
    "    # Build lists of recommendation specific occurrence analysis for a site through time  \n",
    "    BestPractices2004OccurrenceToCombine = [os.path.join(\"../data/LTER\", name) for name in os.listdir(\"../data/LTER\") if name.startswith(Site.upper() + \"__\") and name.endswith('_BestPractices2004Occurrence.csv') ]\n",
    "    BestPractices2011OccurrenceToCombine = [os.path.join(\"../data/LTER\", name) for name in os.listdir(\"../data/LTER\") if name.startswith(Site.upper() + \"__\") and name.endswith('_BestPractices2011Occurrence.csv') ]\n",
    "    \n",
    "    # utilize function to combine the recommendation specific analyses \n",
    "    md.CombineAppliedRecommendation(Site, LTERrecV2004Elements, 'BestPractices2004', BestPractices2004OccurrenceToCombine)\n",
    "    md.CombineAppliedRecommendation(Site, LTERrecV2011Elements, 'BestPractices2011', BestPractices2011OccurrenceToCombine)\n",
    "    \n",
    "    # create recommendation pivot tables and radar graphs to acess the parent elements useage through time\n",
    "    md.Site_ttConceptAnalysis(Site, 'BestPractices2004', RecDict2004, LevelOrder2004, ConceptOrder2004, ElementOrder2004, YearsInvestigated, folderID=MyfolderID)\n",
    "    md.Site_ttConceptAnalysis(Site, 'BestPractices2011', RecDict2011, LevelOrder2011, ConceptOrder2011, ElementOrder2011, YearsInvestigated, folderID=MyfolderID)\n",
    "    \n",
    "    #write full quality image to Google Drive and get a link to insert next to the lower-quality picture in the google sheet\n",
    "    BestPractices2004GraphLink = md.WriteToGoogle(\n",
    "        os.path.join('..','data','LTER',Site.upper() + '_BestPractices2004_.png'), folderID=MyfolderID, Convert=None, Link=True)\n",
    "    BestPractices2011GraphLink = md.WriteToGoogle(\n",
    "        os.path.join('..','data','LTER',Site.upper() + '_BestPractices2011_.png'), folderID=MyfolderID, Convert=None, Link=True)\n",
    "                                       \n",
    "    #create Excel report on all analyses, write additional functions on data to provide some collection analytics\n",
    "    md.CombinationSpreadsheet(XpathOccurrence, BestPractices2004Occurrence,\n",
    "                              BestPractices2004Concept, BestPractices2004Graph,\n",
    "                              BestPractices2004GraphLink, DataDestination,\n",
    "                              recommendationOccurrence2=BestPractices2011Occurrence,\n",
    "                              RecommendationConcept2=BestPractices2011Concept,\n",
    "                              RecommendationGraph2=BestPractices2011Graph,\n",
    "                              RecGraphLink2=BestPractices2011GraphLink\n",
    "                             )\n",
    "    # write the spreadsheet to Google Drive, convert to Sheet\n",
    "    md.WriteToGoogle(DataDestination, folderID=MyfolderID, Convert=True)"
   ]
  },
  {
   "cell_type": "markdown",
   "metadata": {},
   "source": [
    "### Create a report on the entire organization through time\n",
    "\n",
    "It may be valuable to directly compare site__year collections directly to see if trends occur in the recommendation elements across the sites in certain years. For example, do sites that start participating later go through similar improvement processes or do early adopters' experiences inform the structure(shape) of their metadata in observable ways?"
   ]
  },
  {
   "cell_type": "code",
   "execution_count": 7,
   "metadata": {},
   "outputs": [
    {
     "data": {
      "text/html": [
       "<a href=\"https://docs.google.com/spreadsheets/d/18JXOzzzrfxlECAGvEtEBoB8A2Aip0KlNcAdHRYH1byc/edit?usp=drivesdk\">All_LTER</a>"
      ],
      "text/plain": [
       "<IPython.core.display.HTML object>"
      ]
     },
     "metadata": {},
     "output_type": "display_data"
    }
   ],
   "source": [
    "# place for the report for the entire organization\n",
    "DataDestination = os.path.join('../reports/LTER/', \"All_LTER.xlsx\")\n",
    "\n",
    "#create variables for functions\n",
    "BestPractices2004Occurrence = os.path.join(\"../data/LTER/\", 'LTER_BestPractices2004Occurrence.csv')\n",
    "BestPractices2004Concept = os.path.join('..','data','LTER', 'LTER_BestPractices2004Completeness.csv')\n",
    "BestPractices2004Graph = os.path.join('..','data','LTER', 'LTER_BestPractices2004_.png')\n",
    "BestPractices2011Occurrence = os.path.join(\"../data/LTER/\", 'LTER_BestPractices2011Occurrence.csv')\n",
    "BestPractices2011Concept = os.path.join('..','data','LTER', 'LTER_BestPractices2011Completeness.csv')\n",
    "BestPractices2011Graph = os.path.join('..','data','LTER', 'LTER_BestPractices2011_.png')       \n",
    "XpathOccurrence = os.path.join('..','data','LTER','LTER_XpathOccurrence.csv')\n",
    "\n",
    "# combine individual analyses from each site__year\n",
    "XpathOccurrenceToCombine = [os.path.join('..','data','LTER', name) for name in os.listdir(\"../data/LTER\") if \"__\" in name and name.endswith('_XpathOccurrence.csv') ]\n",
    "\n",
    "md.CombineXPathOccurrence(XpathOccurrenceToCombine,\n",
    "                              XpathOccurrence, to_csv=True)\n",
    "\n",
    "# Lists of recommendation occurrence analyses to combine\n",
    "BestPractices2004OccurrenceToCombine = [os.path.join('..','data','LTER', name) for name in os.listdir(\"../data/LTER\") if \"__\" in name and name.endswith('_BestPractices2004Occurrence.csv') ]\n",
    "BestPractices2011OccurrenceToCombine = [os.path.join('..','data','LTER', name) for name in os.listdir(\"../data/LTER\") if \"__\" in name and name.endswith('_BestPractices2011Occurrence.csv') ]\n",
    "\n",
    "# utilize function to combine the recommendation specific analyses \n",
    "md.CombineAppliedRecommendation('LTER', LTERrecV2004Elements, 'BestPractices2004', BestPractices2004OccurrenceToCombine)\n",
    "md.CombineAppliedRecommendation('LTER', LTERrecV2011Elements, 'BestPractices2011', BestPractices2011OccurrenceToCombine)\n",
    "\n",
    "# create recommendation pivot tables and radar graphs\n",
    "md.Organization_ttConceptAnalysis(Sites, 'BestPractices2004', RecDict2004, LevelOrder2004,\n",
    "                          ConceptOrder2004, ElementOrder2004,\n",
    "                          YearsInvestigated, MyfolderID\n",
    "                         )\n",
    "md.Organization_ttConceptAnalysis(Sites, 'BestPractices2011', RecDict2011, LevelOrder2011,\n",
    "                          ConceptOrder2011, ElementOrder2011,\n",
    "                          YearsInvestigated, MyfolderID\n",
    "                         )\n",
    "\n",
    "#write full quality image to Google Drive and get a link to insert next to the picture in the google sheet\n",
    "BestPractices2004GraphLink = md.WriteToGoogle(\n",
    "    os.path.join('..','data','LTER', 'LTER_BestPractices2004_.png'), folderID=MyfolderID, Convert=None, Link=True)\n",
    "BestPractices2011GraphLink = md.WriteToGoogle(\n",
    "    os.path.join('..','data','LTER','LTER_BestPractices2011_.png'), folderID=MyfolderID, Convert=None, Link=True)\n",
    "\n",
    "#create Excel report on all analyses, write additional functions on data to provide some collection analytics\n",
    "md.CombinationSpreadsheet(XpathOccurrence, BestPractices2004Occurrence,\n",
    "                          BestPractices2004Concept, BestPractices2004Graph,\n",
    "                          BestPractices2004GraphLink, DataDestination,\n",
    "                          recommendationOccurrence2=BestPractices2011Occurrence,\n",
    "                          RecommendationConcept2=BestPractices2011Concept,\n",
    "                          RecommendationGraph2=BestPractices2011Graph,\n",
    "                          RecGraphLink2=BestPractices2011GraphLink,\n",
    "                         )\n",
    "# Create a linked Google sheet to share\n",
    "md.WriteToGoogle(DataDestination, folderID=MyfolderID, Convert=True)"
   ]
  },
  {
   "cell_type": "markdown",
   "metadata": {},
   "source": [
    "### [Prepare the data and code for release so they can be cited in publication](CleanRepository_UploadToZenodo.ipynb)"
   ]
  }
 ],
 "metadata": {
  "kernelspec": {
   "display_name": "Python 3",
   "language": "python",
   "name": "python3"
  },
  "language_info": {
   "codemirror_mode": {
    "name": "ipython",
    "version": 3
   },
   "file_extension": ".py",
   "mimetype": "text/x-python",
   "name": "python",
   "nbconvert_exporter": "python",
   "pygments_lexer": "ipython3",
   "version": "3.7.1"
  },
  "nbmeta": {
   "@context": [
    "https://doi.org/10.5063/schema/codemeta-2.0",
    "http://schema.org"
   ],
   "@type": "SoftwareSourceCode",
   "author": [
    {
     "@id": "https://orcid.org/0000-0001-9050-6141",
     "@type": "Person",
     "email": "scgordon@hdfgroup.org",
     "familyName": "Gordon",
     "givenName": "Sean"
    },
    {
     "@id": "https://orcid.org/0000-0003-3585-6733",
     "@type": "Person",
     "familyName": "Habermann",
     "givenName": "Ted"
    }
   ],
   "codeRepository": "https://github.com/scgordon/LTERsitesAnalysis",
   "contIntegration": [
    "https://travis-ci.org/scgordon/LTERsitesAnalysis"
   ],
   "contributor": [
    {
     "@type": "Person",
     "familyName": "Jelenak",
     "givenName": "Aleksandar"
    }
   ],
   "copyrightHolder": [
    {
     "@id": "https://orcid.org/0000-0001-9050-6141",
     "@type": "Person",
     "email": "scgordon@hdfgroup.org",
     "familyName": "Gordon",
     "givenName": "Sean"
    }
   ],
   "description": "Notebook to run an analysis of the DataONE LTER science metadata to study how community information needs evolve over time",
   "developmentStatus": "http://www.repostatus.org/#active",
   "funder": [
    {
     "@type": "Organization",
     "name": "National Science Foundation"
    }
   ],
   "funding": "Award #1443062",
   "identifier": "LTERsitesAnalysis",
   "issueTracker": "https://github.com/scgordon/LTERsitesAnalysis/issues",
   "keywords": [
    "metadata",
    "codemeta",
    "nbmeta",
    "citation",
    "credit",
    "linked-data",
    "json-ld",
    "python",
    "jupyter",
    "notebooks",
    "DataONE",
    "LTER",
    "recommendation",
    "information need",
    "shape of completeness",
    "evaluation",
    "analysis",
    "reports",
    "EAR",
    "metadig",
    "DIBBs"
   ],
   "license": "https://creativecommons.org/licenses/by/4.0/",
   "maintainer": [
    {
     "@id": "https://orcid.org/0000-0001-9050-6141",
     "@type": "Person",
     "email": "scgordon@hdfgroup.org",
     "familyName": "Gordon",
     "givenName": "Sean"
    }
   ],
   "name": "Evaluate_Analyze_and_Report_on_a_metadataset",
   "programmingLanguage": {
    "@type": "ComputerLanguage",
    "name": "Python",
    "url": "https://www.python.org/",
    "version": "3.7.1"
   },
   "relatedLink": [
    "https://doi.org/10.5281/zenodo.2529530",
    "https://github.com/scgordon/LTERsitesAnalysis/blob/master/Create_a_metadataset_nbmeta.json",
    "https://github.com/scgordon/LTERsitesAnalysis/blob/master/packageMetadata_nbmeta.json"
   ],
   "runtimePlatform": "Jupyterlab version 0.35.4 (2018-11-03)",
   "softwareRequirements": [
    {
     "@type": "SoftwareApplication",
     "identifier": "Python",
     "name": "Python",
     "version": ">= 3.0.0"
    },
    {
     "@type": "SoftwareApplication",
     "identifier": "jupyter",
     "name": "jupyter",
     "provider": {
      "@id": "https://jupyter.org",
      "@type": "Organization",
      "name": "Jupyter Team",
      "url": "https://jupyter.org"
     },
     "version": ">= 5.0.0"
    },
    {
     "@type": "SoftwareApplication",
     "identifier": "java",
     "name": "Java Runtime Environment",
     "provider": {
      "@id": "https://www.java.com",
      "@type": "Organization",
      "name": "Oracle",
      "url": "https://www.java.com"
     }
    },
    {
     "@type": "SoftwareApplication",
     "identifier": "saxon-B",
     "name": "Saxon",
     "provider": {
      "@id": "http://www.saxonica.com/",
      "@type": "Organization",
      "name": "Saxonica",
      "url": " http://www.saxonica.com/"
     },
     "sameAs": "https://sourceforge.net/projects/saxon/files/Saxon-B/9.1.0.8/saxonb9-1-0-8j.zip/download"
    },
    {
     "@type": "SoftwareApplication",
     "identifier": "sys",
     "sameAs": "https://pypi.org/project/sys"
    },
    {
     "@type": "SoftwareApplication",
     "identifier": "os",
     "sameAs": "https://pypi.org/project/os"
    },
    {
     "@type": "SoftwareApplication",
     "identifier": "pandas",
     "sameAs": "https://pypi.org/project/pandas"
    },
    {
     "@type": "SoftwareApplication",
     "identifier": "gzip",
     "sameAs": "https://pypi.org/project/gzip"
    },
    {
     "@type": "SoftwareApplication",
     "identifier": "shutil",
     "sameAs": "https://pypi.org/project/shutil"
    },
    {
     "@type": "SoftwareApplication",
     "identifier": "subprocess",
     "sameAs": "https://pypi.org/project/subprocess"
    },
    {
     "@type": "SoftwareApplication",
     "identifier": "tarfile",
     "sameAs": "https://pypi.org/project/tarfile"
    },
    {
     "@type": "SoftwareApplication",
     "identifier": "MDeval",
     "sameAs": "https://www.github.com/scgordon/MDeval"
    },
    {
     "@type": "SoftwareApplication",
     "identifier": "glob",
     "sameAs": "https://pypi.org/project/glob"
    },
    {
     "@type": "SoftwareApplication",
     "identifier": "requests",
     "sameAs": "https://pypi.org/project/requests"
    },
    {
     "@type": "SoftwareApplication",
     "identifier": "xlsxwriter",
     "sameAs": "https://pypi.org/project/xlsxwriter"
    },
    {
     "@type": "SoftwareApplication",
     "identifier": "lxml",
     "sameAs": "https://pypi.org/project/lxml"
    },
    {
     "@type": "SoftwareApplication",
     "identifier": "csv",
     "sameAs": "https://pypi.org/project/csv"
    },
    {
     "@type": "SoftwareApplication",
     "identifier": "logging",
     "sameAs": "https://pypi.org/project/logging"
    },
    {
     "@type": "SoftwareApplication",
     "identifier": "plotly",
     "sameAs": "https://pypi.org/project/plotly"
    },
    {
     "@type": "SoftwareApplication",
     "identifier": "itertools",
     "sameAs": "https://pypi.org/project/itertools"
    }
   ],
   "softwareSuggestions": [
    {
     "@type": "SoftwareApplication",
     "identifier": "pydrive",
     "name": "pydrive",
     "provider": {
      "@id": "https://github.com/gsuitedevs/PyDrive",
      "@type": "Organization",
      "name": "Google",
      "url": "https://github.com/gsuitedevs/PyDrive"
     },
     "sameAs": "https://pypi.org/project/PyDrive/"
    },
    {
     "@type": "SoftwareApplication",
     "identifier": "java 1.8.0_20",
     "name": "Java Runtime Environment",
     "provider": {
      "@id": "https://www.java.com",
      "@type": "Organization",
      "name": "Oracle",
      "url": "https://www.java.com"
     }
    }
   ],
   "version": "0.0.4"
  }
 },
 "nbformat": 4,
 "nbformat_minor": 2
}
