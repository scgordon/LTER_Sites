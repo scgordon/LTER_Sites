{
 "cells": [
  {
   "cell_type": "markdown",
   "metadata": {},
   "source": [
    "# Data mining big metadata at DataONE: Creating a (meta)dataset\n",
    "###  Identifying and preparing EML records uploaded to DataONE by individual LTER sites, 2005-2018 for analysis\n",
    "\n",
    "This notebook chronicles the research process in creating a dataset to look at the evolution of LTER metadata, as it was uploaded to DataONE. \n",
    "\n",
    "This is a description of the hardware and software used in this research:\n",
    "\n",
    "[Hardware_and_Software.md](../scripts/Hardware_and_Software.md)\n",
    "\n",
    "This is the NbMeta metadata record for this notebook:\n",
    "\n",
    "[Create_a_metadataset_nbmeta.json](../metadata/Create_a_metadataset_nbmeta.json)\n",
    "\n",
    "During a 2016 investigation of LTER recommendation completeness through time, it was discovered that records from a later year were no more likely to be complete than those of an earlier year. This result came from a dataset that was a random sample of LTER. \n",
    "\n",
    "[2016 AGU poster](https://agu.confex.com/agu/fm16/mediafile/Handout/Paper197117/DoCommunityRecommendationsImproveMetadataFINAL.pdf)\n",
    "\n",
    "The data on the investigation into the LTER DataONE Member node's useage of the LTER Recommendation seemed to indicate that either there was not an organization knowledge of how to use recommendation or the recommendation was followed to varying degrees by individuals. Upon learning that LTER was actually comprised of several sites with varying start dates and technical knowledge, I decided to investigate if the DataONE metadata catalog for LTER could be reliably broken up by site and by year to see how the community evolved the useage of the recommendations.\n",
    "\n",
    "I learned from the EDI that the packageid element and DataONE identifier convention included the three letter site abbreviation. With this information I began to dig into DataONE's central node to see if I could build a dataset that could allow me to investigate each site over time. \n",
    "\n",
    "This notebook describes the data mining and analysis used to decide which records would make a dataset that could be used to investigate the knowledge and understanding of the LTER Recommendation for completeness.\n",
    "\n",
    "Once the records are identified they are downloaded to directories following the convention \"Site__Year\".\n",
    "\n",
    "This precise dataset building is neccessary to get a clear view as we expect to see that different sites have different rates of improvement from different starting points. Additionally, even though they are all a part of LTER, they have different information needs and are likely to use slightly different metadata .\n",
    "\n",
    " To do this we'll need a list of all the sites and some metadata about records from DataONE's Solr index to see if it's possible to use part of the record name or idenifier to create collections of records for each site.\n",
    "\n",
    "I obtained a list of sites from https://lternet.edu/site/\n",
    "\n",
    "* Andrews Forest LTER (AND)\n",
    "* Arctic LTER (ARC)\n",
    "* Baltimore Ecosystem Study (BES)\n",
    "* Beaufort Lagoon Ecosystem LTER (BLE)\n",
    "* Bonanza Creek LTER (BNZ)\n",
    "* California Current Ecosystem LTER (CCE)\n",
    "* Cedar Creek Ecosystem Science Reserve (CDR)\n",
    "* Central Arizona – Phoenix LTER (CAP)\n",
    "* Coweeta LTER (CWT)\n",
    "* Florida Coastal Everglades LTER (FCE)\n",
    "* Georgia Coastal Ecosystems LTER (GCE)\n",
    "* Harvard Forest LTER (HFR)\n",
    "* Hubbard Brook LTER (HBR)\n",
    "* Jornada Basin LTER (JRN)\n",
    "* Kellogg Biological Station LTER (KBS)\n",
    "* Konza Prairie LTER (KNZ)\n",
    "* LTER Network (NWK)\n",
    "* LTER Network Communications Office (NCO)\n",
    "* Luquillo LTER (LUQ)\n",
    "* McMurdo Dry Valleys LTER (MCM)\n",
    "* Moorea Coral Reef LTER (MCR)\n",
    "* Niwot Ridge LTER (NWT)\n",
    "* North Temperate Lakes LTER (NTL)\n",
    "* Northeast U.S. Shelf (NES)\n",
    "* Northern Gulf of Alaska (NGA)\n",
    "* Palmer Antarctica LTER (PAL)\n",
    "* Plum Island Ecosystems LTER (PIE)\n",
    "* Santa Barbara Coastal LTER (SBC)\n",
    "* Sevilleta LTER (SEV)\n",
    "* Virginia Coast Reserve LTER (VCR)"
   ]
  },
  {
   "cell_type": "markdown",
   "metadata": {},
   "source": [
    "### DataONE SOLR queries \n",
    "\n",
    "I queried DataONE using their SOLR index: https://cn.dataone.org/cn/v2/query/solr  \n",
    "\n",
    "First I determined how many metadata records were in the LTER collection at DataONE: http://cn.dataone.org/cn/v2/query/solr/?q=formatType:METADATA+AND+authoritativeMN:*LTER&rows=1\n",
    "\n",
    "On November 29th the LTER network had 77301 metadata records in DataONE. The response contains a subsection of the indexed metadata from the record. It's fairly complete and contains a couple of elements in the doc element that look promising, namely the identifier and the dataUrl.\n",
    "\n",
    "\n",
    "\n"
   ]
  },
  {
   "cell_type": "markdown",
   "metadata": {},
   "source": [
    "<response>\n",
    "<lst name=\"responseHeader\">\n",
    "<int name=\"status\">0</int>\n",
    "<int name=\"QTime\">18</int>\n",
    "<lst name=\"params\">\n",
    "<str name=\"q\">formatType:METADATA AND authoritativeMN:*LTER</str>\n",
    "<str name=\"rows\">1</str>\n",
    "</lst>\n",
    "</lst>\n",
    "<result name=\"response\" numFound=\"77194\" start=\"0\">\n",
    "<doc>\n",
    "<str name=\"id\">doi:10.6073/AA/knb-lter-sbc.1016.4</str>\n",
    "<str name=\"identifier\">doi:10.6073/AA/knb-lter-sbc.1016.4</str>\n",
    "<str name=\"formatId\">eml://ecoinformatics.org/eml-2.0.1</str>\n",
    "<str name=\"formatType\">METADATA</str>\n",
    "<long name=\"size\">15736</long>\n",
    "<str name=\"checksum\">dbb22b723005888b41fef9b8e2a0a42b</str>\n",
    "<str name=\"submitter\">uid=sbc,o=LTER,dc=ecoinformatics,dc=org</str>\n",
    "<str name=\"checksumAlgorithm\">MD5</str>\n",
    "<str name=\"rightsHolder\">uid=sbc,o=LTER,dc=ecoinformatics,dc=org</str>\n",
    "<bool name=\"replicationAllowed\">false</bool>\n",
    "<str name=\"obsoletes\">doi:10.6073/AA/knb-lter-sbc.1016.3</str>\n",
    "<str name=\"obsoletedBy\">doi:10.6073/AA/knb-lter-sbc.1016.5</str>\n",
    "<date name=\"dateUploaded\">2009-04-27T23:00:00Z</date>\n",
    "<date name=\"updateDate\">2009-04-27T23:00:00Z</date>\n",
    "<date name=\"dateModified\">2012-06-26T17:14:17.18Z</date>\n",
    "<str name=\"datasource\">urn:node:LTER</str>\n",
    "<str name=\"authoritativeMN\">urn:node:LTER</str>\n",
    "<arr name=\"replicaMN\">\n",
    "<str>urn:node:CN</str>\n",
    "<str>urn:node:LTER</str>\n",
    "<.../>\n",
    "<str name=\"dataUrl\">\n",
    "https://cn.dataone.org/cn/v2/resolve/doi%3A10.6073%2FAA%2Fknb-lter-sbc.1016.4\n",
    "<.../>\n",
    "</doc>\n",
    "</result>\n",
    "</response>"
   ]
  },
  {
   "cell_type": "markdown",
   "metadata": {},
   "source": [
    "Let's look at 5 records to determine if we can identify the sites by the record's identifier or dataUrl elements in a consistent way.\n",
    "\n",
    "http://cn.dataone.org/cn/v2/query/solr/?q=formatType:METADATA+AND+authoritativeMN:*LTER&fl=identifier,dataUrl&rows=5\n",
    "\n",
    "It looks like the identifier and the DataUrl contain site abbreviations from three of the sites in just 5 responses, and one, \"bes\" repeats three times in the same section of the string."
   ]
  },
  {
   "cell_type": "markdown",
   "metadata": {},
   "source": [
    "```xml\n",
    "<response>\n",
    "<lst name=\"responseHeader\">\n",
    "<int name=\"status\">0</int>\n",
    "<int name=\"QTime\">16</int>\n",
    "<lst name=\"params\">\n",
    "<str name=\"q\">formatType:METADATA AND authoritativeMN:*LTER</str>\n",
    "<str name=\"fl\">identifier,dataUrl</str>\n",
    "<str name=\"rows\">10</str>\n",
    "</lst>\n",
    "</lst>\n",
    "<result name=\"response\" numFound=\"77194\" start=\"0\">\n",
    "<doc>\n",
    "<str name=\"identifier\">doi:10.6073/AA/knb-lter-sbc.1016.4</str>\n",
    "<str name=\"dataUrl\">\n",
    "https://cn.dataone.org/cn/v2/resolve/doi%3A10.6073%2FAA%2Fknb-lter-sbc.1016.4\n",
    "</str>\n",
    "</doc>\n",
    "<doc>\n",
    "<str name=\"identifier\">doi:10.6073/AA/knb-lter-arc.584.1</str>\n",
    "<str name=\"dataUrl\">\n",
    "https://cn.dataone.org/cn/v2/resolve/doi%3A10.6073%2FAA%2Fknb-lter-arc.584.1\n",
    "</str>\n",
    "</doc>\n",
    "<doc>\n",
    "<str name=\"identifier\">doi:10.6073/AA/knb-lter-bes.10.37</str>\n",
    "<str name=\"dataUrl\">\n",
    "https://cn.dataone.org/cn/v2/resolve/doi%3A10.6073%2FAA%2Fknb-lter-bes.10.37\n",
    "</str>\n",
    "</doc>\n",
    "<doc>\n",
    "<str name=\"identifier\">doi:10.6073/AA/knb-lter-bes.12.48</str>\n",
    "<str name=\"dataUrl\">\n",
    "https://cn.dataone.org/cn/v2/resolve/doi%3A10.6073%2FAA%2Fknb-lter-bes.12.48\n",
    "</str>\n",
    "</doc>\n",
    "<doc>\n",
    "<str name=\"identifier\">doi:10.6073/AA/knb-lter-bes.432.53</str>\n",
    "<str name=\"dataUrl\">\n",
    "https://cn.dataone.org/cn/v2/resolve/doi%3A10.6073%2FAA%2Fknb-lter-bes.432.53\n",
    "</str>\n",
    "</doc>\n",
    "</result>\n",
    "</response>\n",
    "```"
   ]
  },
  {
   "cell_type": "markdown",
   "metadata": {},
   "source": [
    " Are there a lot of records with this convention? Back to Solr to add parameters to our query. Let's see how many records contain the substring lter-bes in their identifiers.\n",
    "\n",
    "http://cn.dataone.org/cn/v2/query/solr/?q=formatType:METADATA+AND+authoritativeMN:*LTER+AND+identifier:%27-lter-bes%27&rows=0\n",
    "\n",
    "Over 4000 records! I think we're on to something, how about the rest of the sites?"
   ]
  },
  {
   "cell_type": "code",
   "execution_count": 2,
   "metadata": {},
   "outputs": [
    {
     "data": {
      "text/html": [
       "<a href=\"http://cn.dataone.org/cn/v2/query/solr/?q=formatType:METADATA+AND+authoritativeMN:*LTER+AND+identifier:%27-lter-and%27&rows=0\"/>http://cn.dataone.org/cn/v2/query/solr/?q=formatType:METADATA+AND+authoritativeMN:*LTER+AND+identifier:%27-lter-and%27&rows=0</a>"
      ],
      "text/plain": [
       "<IPython.core.display.HTML object>"
      ]
     },
     "metadata": {},
     "output_type": "display_data"
    },
    {
     "data": {
      "text/html": [
       "<a href=\"http://cn.dataone.org/cn/v2/query/solr/?q=formatType:METADATA+AND+authoritativeMN:*LTER+AND+identifier:%27-lter-arc%27&rows=0\"/>http://cn.dataone.org/cn/v2/query/solr/?q=formatType:METADATA+AND+authoritativeMN:*LTER+AND+identifier:%27-lter-arc%27&rows=0</a>"
      ],
      "text/plain": [
       "<IPython.core.display.HTML object>"
      ]
     },
     "metadata": {},
     "output_type": "display_data"
    },
    {
     "data": {
      "text/html": [
       "<a href=\"http://cn.dataone.org/cn/v2/query/solr/?q=formatType:METADATA+AND+authoritativeMN:*LTER+AND+identifier:%27-lter-bes%27&rows=0\"/>http://cn.dataone.org/cn/v2/query/solr/?q=formatType:METADATA+AND+authoritativeMN:*LTER+AND+identifier:%27-lter-bes%27&rows=0</a>"
      ],
      "text/plain": [
       "<IPython.core.display.HTML object>"
      ]
     },
     "metadata": {},
     "output_type": "display_data"
    },
    {
     "data": {
      "text/html": [
       "<a href=\"http://cn.dataone.org/cn/v2/query/solr/?q=formatType:METADATA+AND+authoritativeMN:*LTER+AND+identifier:%27-lter-ble%27&rows=0\"/>http://cn.dataone.org/cn/v2/query/solr/?q=formatType:METADATA+AND+authoritativeMN:*LTER+AND+identifier:%27-lter-ble%27&rows=0</a>"
      ],
      "text/plain": [
       "<IPython.core.display.HTML object>"
      ]
     },
     "metadata": {},
     "output_type": "display_data"
    },
    {
     "data": {
      "text/html": [
       "<a href=\"http://cn.dataone.org/cn/v2/query/solr/?q=formatType:METADATA+AND+authoritativeMN:*LTER+AND+identifier:%27-lter-bnz%27&rows=0\"/>http://cn.dataone.org/cn/v2/query/solr/?q=formatType:METADATA+AND+authoritativeMN:*LTER+AND+identifier:%27-lter-bnz%27&rows=0</a>"
      ],
      "text/plain": [
       "<IPython.core.display.HTML object>"
      ]
     },
     "metadata": {},
     "output_type": "display_data"
    },
    {
     "data": {
      "text/html": [
       "<a href=\"http://cn.dataone.org/cn/v2/query/solr/?q=formatType:METADATA+AND+authoritativeMN:*LTER+AND+identifier:%27-lter-cce%27&rows=0\"/>http://cn.dataone.org/cn/v2/query/solr/?q=formatType:METADATA+AND+authoritativeMN:*LTER+AND+identifier:%27-lter-cce%27&rows=0</a>"
      ],
      "text/plain": [
       "<IPython.core.display.HTML object>"
      ]
     },
     "metadata": {},
     "output_type": "display_data"
    },
    {
     "data": {
      "text/html": [
       "<a href=\"http://cn.dataone.org/cn/v2/query/solr/?q=formatType:METADATA+AND+authoritativeMN:*LTER+AND+identifier:%27-lter-cdr%27&rows=0\"/>http://cn.dataone.org/cn/v2/query/solr/?q=formatType:METADATA+AND+authoritativeMN:*LTER+AND+identifier:%27-lter-cdr%27&rows=0</a>"
      ],
      "text/plain": [
       "<IPython.core.display.HTML object>"
      ]
     },
     "metadata": {},
     "output_type": "display_data"
    },
    {
     "data": {
      "text/html": [
       "<a href=\"http://cn.dataone.org/cn/v2/query/solr/?q=formatType:METADATA+AND+authoritativeMN:*LTER+AND+identifier:%27-lter-cap%27&rows=0\"/>http://cn.dataone.org/cn/v2/query/solr/?q=formatType:METADATA+AND+authoritativeMN:*LTER+AND+identifier:%27-lter-cap%27&rows=0</a>"
      ],
      "text/plain": [
       "<IPython.core.display.HTML object>"
      ]
     },
     "metadata": {},
     "output_type": "display_data"
    },
    {
     "data": {
      "text/html": [
       "<a href=\"http://cn.dataone.org/cn/v2/query/solr/?q=formatType:METADATA+AND+authoritativeMN:*LTER+AND+identifier:%27-lter-cwt%27&rows=0\"/>http://cn.dataone.org/cn/v2/query/solr/?q=formatType:METADATA+AND+authoritativeMN:*LTER+AND+identifier:%27-lter-cwt%27&rows=0</a>"
      ],
      "text/plain": [
       "<IPython.core.display.HTML object>"
      ]
     },
     "metadata": {},
     "output_type": "display_data"
    },
    {
     "data": {
      "text/html": [
       "<a href=\"http://cn.dataone.org/cn/v2/query/solr/?q=formatType:METADATA+AND+authoritativeMN:*LTER+AND+identifier:%27-lter-fce%27&rows=0\"/>http://cn.dataone.org/cn/v2/query/solr/?q=formatType:METADATA+AND+authoritativeMN:*LTER+AND+identifier:%27-lter-fce%27&rows=0</a>"
      ],
      "text/plain": [
       "<IPython.core.display.HTML object>"
      ]
     },
     "metadata": {},
     "output_type": "display_data"
    },
    {
     "data": {
      "text/html": [
       "<a href=\"http://cn.dataone.org/cn/v2/query/solr/?q=formatType:METADATA+AND+authoritativeMN:*LTER+AND+identifier:%27-lter-gce%27&rows=0\"/>http://cn.dataone.org/cn/v2/query/solr/?q=formatType:METADATA+AND+authoritativeMN:*LTER+AND+identifier:%27-lter-gce%27&rows=0</a>"
      ],
      "text/plain": [
       "<IPython.core.display.HTML object>"
      ]
     },
     "metadata": {},
     "output_type": "display_data"
    },
    {
     "data": {
      "text/html": [
       "<a href=\"http://cn.dataone.org/cn/v2/query/solr/?q=formatType:METADATA+AND+authoritativeMN:*LTER+AND+identifier:%27-lter-hfr%27&rows=0\"/>http://cn.dataone.org/cn/v2/query/solr/?q=formatType:METADATA+AND+authoritativeMN:*LTER+AND+identifier:%27-lter-hfr%27&rows=0</a>"
      ],
      "text/plain": [
       "<IPython.core.display.HTML object>"
      ]
     },
     "metadata": {},
     "output_type": "display_data"
    },
    {
     "data": {
      "text/html": [
       "<a href=\"http://cn.dataone.org/cn/v2/query/solr/?q=formatType:METADATA+AND+authoritativeMN:*LTER+AND+identifier:%27-lter-hbr%27&rows=0\"/>http://cn.dataone.org/cn/v2/query/solr/?q=formatType:METADATA+AND+authoritativeMN:*LTER+AND+identifier:%27-lter-hbr%27&rows=0</a>"
      ],
      "text/plain": [
       "<IPython.core.display.HTML object>"
      ]
     },
     "metadata": {},
     "output_type": "display_data"
    },
    {
     "data": {
      "text/html": [
       "<a href=\"http://cn.dataone.org/cn/v2/query/solr/?q=formatType:METADATA+AND+authoritativeMN:*LTER+AND+identifier:%27-lter-jrn%27&rows=0\"/>http://cn.dataone.org/cn/v2/query/solr/?q=formatType:METADATA+AND+authoritativeMN:*LTER+AND+identifier:%27-lter-jrn%27&rows=0</a>"
      ],
      "text/plain": [
       "<IPython.core.display.HTML object>"
      ]
     },
     "metadata": {},
     "output_type": "display_data"
    },
    {
     "data": {
      "text/html": [
       "<a href=\"http://cn.dataone.org/cn/v2/query/solr/?q=formatType:METADATA+AND+authoritativeMN:*LTER+AND+identifier:%27-lter-kbs%27&rows=0\"/>http://cn.dataone.org/cn/v2/query/solr/?q=formatType:METADATA+AND+authoritativeMN:*LTER+AND+identifier:%27-lter-kbs%27&rows=0</a>"
      ],
      "text/plain": [
       "<IPython.core.display.HTML object>"
      ]
     },
     "metadata": {},
     "output_type": "display_data"
    },
    {
     "data": {
      "text/html": [
       "<a href=\"http://cn.dataone.org/cn/v2/query/solr/?q=formatType:METADATA+AND+authoritativeMN:*LTER+AND+identifier:%27-lter-knz%27&rows=0\"/>http://cn.dataone.org/cn/v2/query/solr/?q=formatType:METADATA+AND+authoritativeMN:*LTER+AND+identifier:%27-lter-knz%27&rows=0</a>"
      ],
      "text/plain": [
       "<IPython.core.display.HTML object>"
      ]
     },
     "metadata": {},
     "output_type": "display_data"
    },
    {
     "data": {
      "text/html": [
       "<a href=\"http://cn.dataone.org/cn/v2/query/solr/?q=formatType:METADATA+AND+authoritativeMN:*LTER+AND+identifier:%27-lter-luq%27&rows=0\"/>http://cn.dataone.org/cn/v2/query/solr/?q=formatType:METADATA+AND+authoritativeMN:*LTER+AND+identifier:%27-lter-luq%27&rows=0</a>"
      ],
      "text/plain": [
       "<IPython.core.display.HTML object>"
      ]
     },
     "metadata": {},
     "output_type": "display_data"
    },
    {
     "data": {
      "text/html": [
       "<a href=\"http://cn.dataone.org/cn/v2/query/solr/?q=formatType:METADATA+AND+authoritativeMN:*LTER+AND+identifier:%27-lter-mcm%27&rows=0\"/>http://cn.dataone.org/cn/v2/query/solr/?q=formatType:METADATA+AND+authoritativeMN:*LTER+AND+identifier:%27-lter-mcm%27&rows=0</a>"
      ],
      "text/plain": [
       "<IPython.core.display.HTML object>"
      ]
     },
     "metadata": {},
     "output_type": "display_data"
    },
    {
     "data": {
      "text/html": [
       "<a href=\"http://cn.dataone.org/cn/v2/query/solr/?q=formatType:METADATA+AND+authoritativeMN:*LTER+AND+identifier:%27-lter-mcr%27&rows=0\"/>http://cn.dataone.org/cn/v2/query/solr/?q=formatType:METADATA+AND+authoritativeMN:*LTER+AND+identifier:%27-lter-mcr%27&rows=0</a>"
      ],
      "text/plain": [
       "<IPython.core.display.HTML object>"
      ]
     },
     "metadata": {},
     "output_type": "display_data"
    },
    {
     "data": {
      "text/html": [
       "<a href=\"http://cn.dataone.org/cn/v2/query/solr/?q=formatType:METADATA+AND+authoritativeMN:*LTER+AND+identifier:%27-lter-nwk%27&rows=0\"/>http://cn.dataone.org/cn/v2/query/solr/?q=formatType:METADATA+AND+authoritativeMN:*LTER+AND+identifier:%27-lter-nwk%27&rows=0</a>"
      ],
      "text/plain": [
       "<IPython.core.display.HTML object>"
      ]
     },
     "metadata": {},
     "output_type": "display_data"
    },
    {
     "data": {
      "text/html": [
       "<a href=\"http://cn.dataone.org/cn/v2/query/solr/?q=formatType:METADATA+AND+authoritativeMN:*LTER+AND+identifier:%27-lter-nco%27&rows=0\"/>http://cn.dataone.org/cn/v2/query/solr/?q=formatType:METADATA+AND+authoritativeMN:*LTER+AND+identifier:%27-lter-nco%27&rows=0</a>"
      ],
      "text/plain": [
       "<IPython.core.display.HTML object>"
      ]
     },
     "metadata": {},
     "output_type": "display_data"
    },
    {
     "data": {
      "text/html": [
       "<a href=\"http://cn.dataone.org/cn/v2/query/solr/?q=formatType:METADATA+AND+authoritativeMN:*LTER+AND+identifier:%27-lter-nwt%27&rows=0\"/>http://cn.dataone.org/cn/v2/query/solr/?q=formatType:METADATA+AND+authoritativeMN:*LTER+AND+identifier:%27-lter-nwt%27&rows=0</a>"
      ],
      "text/plain": [
       "<IPython.core.display.HTML object>"
      ]
     },
     "metadata": {},
     "output_type": "display_data"
    },
    {
     "data": {
      "text/html": [
       "<a href=\"http://cn.dataone.org/cn/v2/query/solr/?q=formatType:METADATA+AND+authoritativeMN:*LTER+AND+identifier:%27-lter-ntl%27&rows=0\"/>http://cn.dataone.org/cn/v2/query/solr/?q=formatType:METADATA+AND+authoritativeMN:*LTER+AND+identifier:%27-lter-ntl%27&rows=0</a>"
      ],
      "text/plain": [
       "<IPython.core.display.HTML object>"
      ]
     },
     "metadata": {},
     "output_type": "display_data"
    },
    {
     "data": {
      "text/html": [
       "<a href=\"http://cn.dataone.org/cn/v2/query/solr/?q=formatType:METADATA+AND+authoritativeMN:*LTER+AND+identifier:%27-lter-nes%27&rows=0\"/>http://cn.dataone.org/cn/v2/query/solr/?q=formatType:METADATA+AND+authoritativeMN:*LTER+AND+identifier:%27-lter-nes%27&rows=0</a>"
      ],
      "text/plain": [
       "<IPython.core.display.HTML object>"
      ]
     },
     "metadata": {},
     "output_type": "display_data"
    },
    {
     "data": {
      "text/html": [
       "<a href=\"http://cn.dataone.org/cn/v2/query/solr/?q=formatType:METADATA+AND+authoritativeMN:*LTER+AND+identifier:%27-lter-nga%27&rows=0\"/>http://cn.dataone.org/cn/v2/query/solr/?q=formatType:METADATA+AND+authoritativeMN:*LTER+AND+identifier:%27-lter-nga%27&rows=0</a>"
      ],
      "text/plain": [
       "<IPython.core.display.HTML object>"
      ]
     },
     "metadata": {},
     "output_type": "display_data"
    },
    {
     "data": {
      "text/html": [
       "<a href=\"http://cn.dataone.org/cn/v2/query/solr/?q=formatType:METADATA+AND+authoritativeMN:*LTER+AND+identifier:%27-lter-pal%27&rows=0\"/>http://cn.dataone.org/cn/v2/query/solr/?q=formatType:METADATA+AND+authoritativeMN:*LTER+AND+identifier:%27-lter-pal%27&rows=0</a>"
      ],
      "text/plain": [
       "<IPython.core.display.HTML object>"
      ]
     },
     "metadata": {},
     "output_type": "display_data"
    },
    {
     "data": {
      "text/html": [
       "<a href=\"http://cn.dataone.org/cn/v2/query/solr/?q=formatType:METADATA+AND+authoritativeMN:*LTER+AND+identifier:%27-lter-pie%27&rows=0\"/>http://cn.dataone.org/cn/v2/query/solr/?q=formatType:METADATA+AND+authoritativeMN:*LTER+AND+identifier:%27-lter-pie%27&rows=0</a>"
      ],
      "text/plain": [
       "<IPython.core.display.HTML object>"
      ]
     },
     "metadata": {},
     "output_type": "display_data"
    },
    {
     "data": {
      "text/html": [
       "<a href=\"http://cn.dataone.org/cn/v2/query/solr/?q=formatType:METADATA+AND+authoritativeMN:*LTER+AND+identifier:%27-lter-sbc%27&rows=0\"/>http://cn.dataone.org/cn/v2/query/solr/?q=formatType:METADATA+AND+authoritativeMN:*LTER+AND+identifier:%27-lter-sbc%27&rows=0</a>"
      ],
      "text/plain": [
       "<IPython.core.display.HTML object>"
      ]
     },
     "metadata": {},
     "output_type": "display_data"
    },
    {
     "data": {
      "text/html": [
       "<a href=\"http://cn.dataone.org/cn/v2/query/solr/?q=formatType:METADATA+AND+authoritativeMN:*LTER+AND+identifier:%27-lter-sev%27&rows=0\"/>http://cn.dataone.org/cn/v2/query/solr/?q=formatType:METADATA+AND+authoritativeMN:*LTER+AND+identifier:%27-lter-sev%27&rows=0</a>"
      ],
      "text/plain": [
       "<IPython.core.display.HTML object>"
      ]
     },
     "metadata": {},
     "output_type": "display_data"
    },
    {
     "data": {
      "text/html": [
       "<a href=\"http://cn.dataone.org/cn/v2/query/solr/?q=formatType:METADATA+AND+authoritativeMN:*LTER+AND+identifier:%27-lter-sgs%27&rows=0\"/>http://cn.dataone.org/cn/v2/query/solr/?q=formatType:METADATA+AND+authoritativeMN:*LTER+AND+identifier:%27-lter-sgs%27&rows=0</a>"
      ],
      "text/plain": [
       "<IPython.core.display.HTML object>"
      ]
     },
     "metadata": {},
     "output_type": "display_data"
    },
    {
     "data": {
      "text/html": [
       "<a href=\"http://cn.dataone.org/cn/v2/query/solr/?q=formatType:METADATA+AND+authoritativeMN:*LTER+AND+identifier:%27-lter-vcr%27&rows=0\"/>http://cn.dataone.org/cn/v2/query/solr/?q=formatType:METADATA+AND+authoritativeMN:*LTER+AND+identifier:%27-lter-vcr%27&rows=0</a>"
      ],
      "text/plain": [
       "<IPython.core.display.HTML object>"
      ]
     },
     "metadata": {},
     "output_type": "display_data"
    }
   ],
   "source": [
    "# combine the results and create a table with records that share the same identifier grouped together\n",
    "\n",
    "import glob\n",
    "import pandas as pd\n",
    "import sys \n",
    "import os\n",
    "import random\n",
    "import subprocess\n",
    "\n",
    "from IPython.core.display import display, HTML\n",
    "\n",
    "sys.path.append(os.path.join(os.path.dirname(sys.path[0]),'../scripts'))\n",
    "\n",
    "import MDeval as md\n",
    "\n",
    "\n",
    "Sites = ['and','arc','bes','ble','bnz',\n",
    "         'cce','cdr','cap','cwt','fce',\n",
    "         'gce','hfr','hbr','jrn','kbs',\n",
    "         'knz','luq','mcm', 'mcr','nwk',\n",
    "         'nco','nwt','ntl','nes','nga',\n",
    "         'pal','pie','sbc','sev','sgs','vcr']\n",
    "# create a url for each of the sites\n",
    "for site in Sites:\n",
    "    dataURLprefix = \"http://cn.dataone.org/cn/v2/query/solr/?q=formatType:METADATA+AND+authoritativeMN:*LTER+AND+identifier:%27-lter-\"\n",
    "    dataURLsuffix = \"%27&rows=0\"\n",
    "    hyperlink = str(dataURLprefix + site + dataURLsuffix)\n",
    "    href = '<a href=\"' + hyperlink + '\"/>' + hyperlink + '</a>'\n",
    "    display(HTML(href))"
   ]
  },
  {
   "cell_type": "markdown",
   "metadata": {},
   "source": [
    "### Site record counts\n",
    "\n",
    "I retrieved total collection size for each site on October 30th, 2018 using the above query urls\n",
    "\n",
    "* Andrews Forest LTER (AND) = 429\n",
    "* Arctic LTER (ARC) = 4495\n",
    "* Baltimore Ecosystem Study (BES) = 4320\n",
    "* Beaufort Lagoon Ecosystem (BLE) = 0\n",
    "* Bonanza Creek LTER (BNZ) = 5501\n",
    "* California Current Ecosystem LTER (CCE) = 219\n",
    "* Cedar Creek Ecosystem Science Reserve (CDR) = 3063\n",
    "* Central Arizona – Phoenix LTER (CAP) = 1775\n",
    "* Coweeta LTER (CWT) = 459\n",
    "* Florida Coastal Everglades LTER (FCE) = 2216\n",
    "* Georgia Coastal Ecosystems LTER (GCE) = 3777\n",
    "* Harvard Forest LTER (HFR) = 2199\n",
    "* Hubbard Brook LTER (HBR) = 406\n",
    "* Jornada Basin LTER (JRN) = 450\n",
    "* Kellogg Biological Station LTER (KBS) = 927\n",
    "* Konza Prairie LTER (KNZ) = 515\n",
    "* LTER Network (NWK) = 6\n",
    "* LTER Network Communications Office (NCO) = 0\n",
    "* Luquillo LTER (LUQ) = 571\n",
    "* McMurdo Dry Valleys LTER (MCM) = 918\n",
    "* Moorea Coral Reef LTER (MCR) = 449\n",
    "* Niwot Ridge LTER (NWT) = 464\n",
    "* North Temperate Lakes LTER (NTL) = 1337\n",
    "* Northeast U.S. Shelf (NES) = 2\n",
    "* Northern Gulf of Alaska (NGA) = 0 \n",
    "* Palmer Antarctica LTER (PAL) = 308\n",
    "* Plum Island Ecosystems LTER (PIE) = 1190\n",
    "* Santa Barbara Coastal LTER (SBC) = 1165\n",
    "* Sevilleta LTER (SEV) = 1113\n",
    "* Shortgrass Steppe (No longer funded by NSF LTER) (SGS) = 504\n",
    "* Virginia Coast Reserve LTER (VCR) = 1965\n",
    "\n"
   ]
  },
  {
   "cell_type": "markdown",
   "metadata": {},
   "source": [
    "### Something doesn't add up!\n",
    "\n",
    "Grand total found at sites: 40743\n",
    "\n",
    "Total DataONE gave: 77194\n",
    "\n",
    "That means almost half the collection's identifiers did not follow the convention or were otherwise unavailable. Are there other LTER sites not in their list?\n",
    "\n",
    "I found Landsat records while searching for a string that contained and.\n",
    "\n",
    "LTER-Landsat-LEDAPS had 20593 records. They are all uploaded at the same time, so it is likely a batch transform to EML from CSDGM, and would not yield any data concerning improvement through time.\n",
    "\n",
    "Leaving a total of 15,858 records still unaccounted for. there are identifier substrings like lter-nin that have a couple hundred records, but for the majority of the records we can use the identifier to search and retrieve by site.\n",
    "\n",
    "40743 records is still a lot of metadata and most sites have hundreds if not thousands of records. Are the record uploads spread throughout the years in question?\n",
    "\n",
    "Let's look at the returned queries created below to see if we can break up the records by year uploaded using the dateUploaded element. Most sites appear to upload multiple years worth of records in their first year, and continue to deposit some records for most of the following years.\n",
    "\n",
    "### Do LTER sites deposit through time?\n",
    "Once we've removed the sites with less than 10 records, we can facet the Solr query for each of the 26 sites to count records for each of the remaining sites and each year."
   ]
  },
  {
   "cell_type": "code",
   "execution_count": 3,
   "metadata": {},
   "outputs": [
    {
     "data": {
      "text/html": [
       "<a href=\"http://cn.dataone.org/cn/v2/query/solr/?q=formatType:METADATA+AND+authoritativeMN:*LTER+AND+identifier:%27-lter-and%27&fl=dateUploaded,datePublished,dataUrl&rows=0&sort=dateUploaded+asc&facet=true&facet.missing=true&facet.limit=-1&facet.range=dateUploaded&facet.range.start=2005-01-01T00:00:00Z&facet.range.end=2018-12-31T23:59:59.999Z&facet.range.gap=%2B1YEAR&wt=xml\"/>and</a>"
      ],
      "text/plain": [
       "<IPython.core.display.HTML object>"
      ]
     },
     "metadata": {},
     "output_type": "display_data"
    },
    {
     "data": {
      "text/html": [
       "<a href=\"http://cn.dataone.org/cn/v2/query/solr/?q=formatType:METADATA+AND+authoritativeMN:*LTER+AND+identifier:%27-lter-arc%27&fl=dateUploaded,datePublished,dataUrl&rows=0&sort=dateUploaded+asc&facet=true&facet.missing=true&facet.limit=-1&facet.range=dateUploaded&facet.range.start=2005-01-01T00:00:00Z&facet.range.end=2018-12-31T23:59:59.999Z&facet.range.gap=%2B1YEAR&wt=xml\"/>arc</a>"
      ],
      "text/plain": [
       "<IPython.core.display.HTML object>"
      ]
     },
     "metadata": {},
     "output_type": "display_data"
    },
    {
     "data": {
      "text/html": [
       "<a href=\"http://cn.dataone.org/cn/v2/query/solr/?q=formatType:METADATA+AND+authoritativeMN:*LTER+AND+identifier:%27-lter-bes%27&fl=dateUploaded,datePublished,dataUrl&rows=0&sort=dateUploaded+asc&facet=true&facet.missing=true&facet.limit=-1&facet.range=dateUploaded&facet.range.start=2005-01-01T00:00:00Z&facet.range.end=2018-12-31T23:59:59.999Z&facet.range.gap=%2B1YEAR&wt=xml\"/>bes</a>"
      ],
      "text/plain": [
       "<IPython.core.display.HTML object>"
      ]
     },
     "metadata": {},
     "output_type": "display_data"
    },
    {
     "data": {
      "text/html": [
       "<a href=\"http://cn.dataone.org/cn/v2/query/solr/?q=formatType:METADATA+AND+authoritativeMN:*LTER+AND+identifier:%27-lter-bnz%27&fl=dateUploaded,datePublished,dataUrl&rows=0&sort=dateUploaded+asc&facet=true&facet.missing=true&facet.limit=-1&facet.range=dateUploaded&facet.range.start=2005-01-01T00:00:00Z&facet.range.end=2018-12-31T23:59:59.999Z&facet.range.gap=%2B1YEAR&wt=xml\"/>bnz</a>"
      ],
      "text/plain": [
       "<IPython.core.display.HTML object>"
      ]
     },
     "metadata": {},
     "output_type": "display_data"
    },
    {
     "data": {
      "text/html": [
       "<a href=\"http://cn.dataone.org/cn/v2/query/solr/?q=formatType:METADATA+AND+authoritativeMN:*LTER+AND+identifier:%27-lter-cce%27&fl=dateUploaded,datePublished,dataUrl&rows=0&sort=dateUploaded+asc&facet=true&facet.missing=true&facet.limit=-1&facet.range=dateUploaded&facet.range.start=2005-01-01T00:00:00Z&facet.range.end=2018-12-31T23:59:59.999Z&facet.range.gap=%2B1YEAR&wt=xml\"/>cce</a>"
      ],
      "text/plain": [
       "<IPython.core.display.HTML object>"
      ]
     },
     "metadata": {},
     "output_type": "display_data"
    },
    {
     "data": {
      "text/html": [
       "<a href=\"http://cn.dataone.org/cn/v2/query/solr/?q=formatType:METADATA+AND+authoritativeMN:*LTER+AND+identifier:%27-lter-cdr%27&fl=dateUploaded,datePublished,dataUrl&rows=0&sort=dateUploaded+asc&facet=true&facet.missing=true&facet.limit=-1&facet.range=dateUploaded&facet.range.start=2005-01-01T00:00:00Z&facet.range.end=2018-12-31T23:59:59.999Z&facet.range.gap=%2B1YEAR&wt=xml\"/>cdr</a>"
      ],
      "text/plain": [
       "<IPython.core.display.HTML object>"
      ]
     },
     "metadata": {},
     "output_type": "display_data"
    },
    {
     "data": {
      "text/html": [
       "<a href=\"http://cn.dataone.org/cn/v2/query/solr/?q=formatType:METADATA+AND+authoritativeMN:*LTER+AND+identifier:%27-lter-cap%27&fl=dateUploaded,datePublished,dataUrl&rows=0&sort=dateUploaded+asc&facet=true&facet.missing=true&facet.limit=-1&facet.range=dateUploaded&facet.range.start=2005-01-01T00:00:00Z&facet.range.end=2018-12-31T23:59:59.999Z&facet.range.gap=%2B1YEAR&wt=xml\"/>cap</a>"
      ],
      "text/plain": [
       "<IPython.core.display.HTML object>"
      ]
     },
     "metadata": {},
     "output_type": "display_data"
    },
    {
     "data": {
      "text/html": [
       "<a href=\"http://cn.dataone.org/cn/v2/query/solr/?q=formatType:METADATA+AND+authoritativeMN:*LTER+AND+identifier:%27-lter-cwt%27&fl=dateUploaded,datePublished,dataUrl&rows=0&sort=dateUploaded+asc&facet=true&facet.missing=true&facet.limit=-1&facet.range=dateUploaded&facet.range.start=2005-01-01T00:00:00Z&facet.range.end=2018-12-31T23:59:59.999Z&facet.range.gap=%2B1YEAR&wt=xml\"/>cwt</a>"
      ],
      "text/plain": [
       "<IPython.core.display.HTML object>"
      ]
     },
     "metadata": {},
     "output_type": "display_data"
    },
    {
     "data": {
      "text/html": [
       "<a href=\"http://cn.dataone.org/cn/v2/query/solr/?q=formatType:METADATA+AND+authoritativeMN:*LTER+AND+identifier:%27-lter-fce%27&fl=dateUploaded,datePublished,dataUrl&rows=0&sort=dateUploaded+asc&facet=true&facet.missing=true&facet.limit=-1&facet.range=dateUploaded&facet.range.start=2005-01-01T00:00:00Z&facet.range.end=2018-12-31T23:59:59.999Z&facet.range.gap=%2B1YEAR&wt=xml\"/>fce</a>"
      ],
      "text/plain": [
       "<IPython.core.display.HTML object>"
      ]
     },
     "metadata": {},
     "output_type": "display_data"
    },
    {
     "data": {
      "text/html": [
       "<a href=\"http://cn.dataone.org/cn/v2/query/solr/?q=formatType:METADATA+AND+authoritativeMN:*LTER+AND+identifier:%27-lter-gce%27&fl=dateUploaded,datePublished,dataUrl&rows=0&sort=dateUploaded+asc&facet=true&facet.missing=true&facet.limit=-1&facet.range=dateUploaded&facet.range.start=2005-01-01T00:00:00Z&facet.range.end=2018-12-31T23:59:59.999Z&facet.range.gap=%2B1YEAR&wt=xml\"/>gce</a>"
      ],
      "text/plain": [
       "<IPython.core.display.HTML object>"
      ]
     },
     "metadata": {},
     "output_type": "display_data"
    },
    {
     "data": {
      "text/html": [
       "<a href=\"http://cn.dataone.org/cn/v2/query/solr/?q=formatType:METADATA+AND+authoritativeMN:*LTER+AND+identifier:%27-lter-hfr%27&fl=dateUploaded,datePublished,dataUrl&rows=0&sort=dateUploaded+asc&facet=true&facet.missing=true&facet.limit=-1&facet.range=dateUploaded&facet.range.start=2005-01-01T00:00:00Z&facet.range.end=2018-12-31T23:59:59.999Z&facet.range.gap=%2B1YEAR&wt=xml\"/>hfr</a>"
      ],
      "text/plain": [
       "<IPython.core.display.HTML object>"
      ]
     },
     "metadata": {},
     "output_type": "display_data"
    },
    {
     "data": {
      "text/html": [
       "<a href=\"http://cn.dataone.org/cn/v2/query/solr/?q=formatType:METADATA+AND+authoritativeMN:*LTER+AND+identifier:%27-lter-hbr%27&fl=dateUploaded,datePublished,dataUrl&rows=0&sort=dateUploaded+asc&facet=true&facet.missing=true&facet.limit=-1&facet.range=dateUploaded&facet.range.start=2005-01-01T00:00:00Z&facet.range.end=2018-12-31T23:59:59.999Z&facet.range.gap=%2B1YEAR&wt=xml\"/>hbr</a>"
      ],
      "text/plain": [
       "<IPython.core.display.HTML object>"
      ]
     },
     "metadata": {},
     "output_type": "display_data"
    },
    {
     "data": {
      "text/html": [
       "<a href=\"http://cn.dataone.org/cn/v2/query/solr/?q=formatType:METADATA+AND+authoritativeMN:*LTER+AND+identifier:%27-lter-jrn%27&fl=dateUploaded,datePublished,dataUrl&rows=0&sort=dateUploaded+asc&facet=true&facet.missing=true&facet.limit=-1&facet.range=dateUploaded&facet.range.start=2005-01-01T00:00:00Z&facet.range.end=2018-12-31T23:59:59.999Z&facet.range.gap=%2B1YEAR&wt=xml\"/>jrn</a>"
      ],
      "text/plain": [
       "<IPython.core.display.HTML object>"
      ]
     },
     "metadata": {},
     "output_type": "display_data"
    },
    {
     "data": {
      "text/html": [
       "<a href=\"http://cn.dataone.org/cn/v2/query/solr/?q=formatType:METADATA+AND+authoritativeMN:*LTER+AND+identifier:%27-lter-kbs%27&fl=dateUploaded,datePublished,dataUrl&rows=0&sort=dateUploaded+asc&facet=true&facet.missing=true&facet.limit=-1&facet.range=dateUploaded&facet.range.start=2005-01-01T00:00:00Z&facet.range.end=2018-12-31T23:59:59.999Z&facet.range.gap=%2B1YEAR&wt=xml\"/>kbs</a>"
      ],
      "text/plain": [
       "<IPython.core.display.HTML object>"
      ]
     },
     "metadata": {},
     "output_type": "display_data"
    },
    {
     "data": {
      "text/html": [
       "<a href=\"http://cn.dataone.org/cn/v2/query/solr/?q=formatType:METADATA+AND+authoritativeMN:*LTER+AND+identifier:%27-lter-knz%27&fl=dateUploaded,datePublished,dataUrl&rows=0&sort=dateUploaded+asc&facet=true&facet.missing=true&facet.limit=-1&facet.range=dateUploaded&facet.range.start=2005-01-01T00:00:00Z&facet.range.end=2018-12-31T23:59:59.999Z&facet.range.gap=%2B1YEAR&wt=xml\"/>knz</a>"
      ],
      "text/plain": [
       "<IPython.core.display.HTML object>"
      ]
     },
     "metadata": {},
     "output_type": "display_data"
    },
    {
     "data": {
      "text/html": [
       "<a href=\"http://cn.dataone.org/cn/v2/query/solr/?q=formatType:METADATA+AND+authoritativeMN:*LTER+AND+identifier:%27-lter-luq%27&fl=dateUploaded,datePublished,dataUrl&rows=0&sort=dateUploaded+asc&facet=true&facet.missing=true&facet.limit=-1&facet.range=dateUploaded&facet.range.start=2005-01-01T00:00:00Z&facet.range.end=2018-12-31T23:59:59.999Z&facet.range.gap=%2B1YEAR&wt=xml\"/>luq</a>"
      ],
      "text/plain": [
       "<IPython.core.display.HTML object>"
      ]
     },
     "metadata": {},
     "output_type": "display_data"
    },
    {
     "data": {
      "text/html": [
       "<a href=\"http://cn.dataone.org/cn/v2/query/solr/?q=formatType:METADATA+AND+authoritativeMN:*LTER+AND+identifier:%27-lter-mcm%27&fl=dateUploaded,datePublished,dataUrl&rows=0&sort=dateUploaded+asc&facet=true&facet.missing=true&facet.limit=-1&facet.range=dateUploaded&facet.range.start=2005-01-01T00:00:00Z&facet.range.end=2018-12-31T23:59:59.999Z&facet.range.gap=%2B1YEAR&wt=xml\"/>mcm</a>"
      ],
      "text/plain": [
       "<IPython.core.display.HTML object>"
      ]
     },
     "metadata": {},
     "output_type": "display_data"
    },
    {
     "data": {
      "text/html": [
       "<a href=\"http://cn.dataone.org/cn/v2/query/solr/?q=formatType:METADATA+AND+authoritativeMN:*LTER+AND+identifier:%27-lter-mcr%27&fl=dateUploaded,datePublished,dataUrl&rows=0&sort=dateUploaded+asc&facet=true&facet.missing=true&facet.limit=-1&facet.range=dateUploaded&facet.range.start=2005-01-01T00:00:00Z&facet.range.end=2018-12-31T23:59:59.999Z&facet.range.gap=%2B1YEAR&wt=xml\"/>mcr</a>"
      ],
      "text/plain": [
       "<IPython.core.display.HTML object>"
      ]
     },
     "metadata": {},
     "output_type": "display_data"
    },
    {
     "data": {
      "text/html": [
       "<a href=\"http://cn.dataone.org/cn/v2/query/solr/?q=formatType:METADATA+AND+authoritativeMN:*LTER+AND+identifier:%27-lter-nwt%27&fl=dateUploaded,datePublished,dataUrl&rows=0&sort=dateUploaded+asc&facet=true&facet.missing=true&facet.limit=-1&facet.range=dateUploaded&facet.range.start=2005-01-01T00:00:00Z&facet.range.end=2018-12-31T23:59:59.999Z&facet.range.gap=%2B1YEAR&wt=xml\"/>nwt</a>"
      ],
      "text/plain": [
       "<IPython.core.display.HTML object>"
      ]
     },
     "metadata": {},
     "output_type": "display_data"
    },
    {
     "data": {
      "text/html": [
       "<a href=\"http://cn.dataone.org/cn/v2/query/solr/?q=formatType:METADATA+AND+authoritativeMN:*LTER+AND+identifier:%27-lter-ntl%27&fl=dateUploaded,datePublished,dataUrl&rows=0&sort=dateUploaded+asc&facet=true&facet.missing=true&facet.limit=-1&facet.range=dateUploaded&facet.range.start=2005-01-01T00:00:00Z&facet.range.end=2018-12-31T23:59:59.999Z&facet.range.gap=%2B1YEAR&wt=xml\"/>ntl</a>"
      ],
      "text/plain": [
       "<IPython.core.display.HTML object>"
      ]
     },
     "metadata": {},
     "output_type": "display_data"
    },
    {
     "data": {
      "text/html": [
       "<a href=\"http://cn.dataone.org/cn/v2/query/solr/?q=formatType:METADATA+AND+authoritativeMN:*LTER+AND+identifier:%27-lter-pal%27&fl=dateUploaded,datePublished,dataUrl&rows=0&sort=dateUploaded+asc&facet=true&facet.missing=true&facet.limit=-1&facet.range=dateUploaded&facet.range.start=2005-01-01T00:00:00Z&facet.range.end=2018-12-31T23:59:59.999Z&facet.range.gap=%2B1YEAR&wt=xml\"/>pal</a>"
      ],
      "text/plain": [
       "<IPython.core.display.HTML object>"
      ]
     },
     "metadata": {},
     "output_type": "display_data"
    },
    {
     "data": {
      "text/html": [
       "<a href=\"http://cn.dataone.org/cn/v2/query/solr/?q=formatType:METADATA+AND+authoritativeMN:*LTER+AND+identifier:%27-lter-pie%27&fl=dateUploaded,datePublished,dataUrl&rows=0&sort=dateUploaded+asc&facet=true&facet.missing=true&facet.limit=-1&facet.range=dateUploaded&facet.range.start=2005-01-01T00:00:00Z&facet.range.end=2018-12-31T23:59:59.999Z&facet.range.gap=%2B1YEAR&wt=xml\"/>pie</a>"
      ],
      "text/plain": [
       "<IPython.core.display.HTML object>"
      ]
     },
     "metadata": {},
     "output_type": "display_data"
    },
    {
     "data": {
      "text/html": [
       "<a href=\"http://cn.dataone.org/cn/v2/query/solr/?q=formatType:METADATA+AND+authoritativeMN:*LTER+AND+identifier:%27-lter-sbc%27&fl=dateUploaded,datePublished,dataUrl&rows=0&sort=dateUploaded+asc&facet=true&facet.missing=true&facet.limit=-1&facet.range=dateUploaded&facet.range.start=2005-01-01T00:00:00Z&facet.range.end=2018-12-31T23:59:59.999Z&facet.range.gap=%2B1YEAR&wt=xml\"/>sbc</a>"
      ],
      "text/plain": [
       "<IPython.core.display.HTML object>"
      ]
     },
     "metadata": {},
     "output_type": "display_data"
    },
    {
     "data": {
      "text/html": [
       "<a href=\"http://cn.dataone.org/cn/v2/query/solr/?q=formatType:METADATA+AND+authoritativeMN:*LTER+AND+identifier:%27-lter-sev%27&fl=dateUploaded,datePublished,dataUrl&rows=0&sort=dateUploaded+asc&facet=true&facet.missing=true&facet.limit=-1&facet.range=dateUploaded&facet.range.start=2005-01-01T00:00:00Z&facet.range.end=2018-12-31T23:59:59.999Z&facet.range.gap=%2B1YEAR&wt=xml\"/>sev</a>"
      ],
      "text/plain": [
       "<IPython.core.display.HTML object>"
      ]
     },
     "metadata": {},
     "output_type": "display_data"
    },
    {
     "data": {
      "text/html": [
       "<a href=\"http://cn.dataone.org/cn/v2/query/solr/?q=formatType:METADATA+AND+authoritativeMN:*LTER+AND+identifier:%27-lter-sgs%27&fl=dateUploaded,datePublished,dataUrl&rows=0&sort=dateUploaded+asc&facet=true&facet.missing=true&facet.limit=-1&facet.range=dateUploaded&facet.range.start=2005-01-01T00:00:00Z&facet.range.end=2018-12-31T23:59:59.999Z&facet.range.gap=%2B1YEAR&wt=xml\"/>sgs</a>"
      ],
      "text/plain": [
       "<IPython.core.display.HTML object>"
      ]
     },
     "metadata": {},
     "output_type": "display_data"
    },
    {
     "data": {
      "text/html": [
       "<a href=\"http://cn.dataone.org/cn/v2/query/solr/?q=formatType:METADATA+AND+authoritativeMN:*LTER+AND+identifier:%27-lter-vcr%27&fl=dateUploaded,datePublished,dataUrl&rows=0&sort=dateUploaded+asc&facet=true&facet.missing=true&facet.limit=-1&facet.range=dateUploaded&facet.range.start=2005-01-01T00:00:00Z&facet.range.end=2018-12-31T23:59:59.999Z&facet.range.gap=%2B1YEAR&wt=xml\"/>vcr</a>"
      ],
      "text/plain": [
       "<IPython.core.display.HTML object>"
      ]
     },
     "metadata": {},
     "output_type": "display_data"
    }
   ],
   "source": [
    "# rebuild the sites list with collections from the LTER list that have more than 10 records that follow the predictible identifier pattern\n",
    "\n",
    "Sites = ['and','arc','bes','bnz','cce',\n",
    "         'cdr','cap','cwt','fce','gce',\n",
    "         'hfr','hbr','jrn','kbs','knz',\n",
    "         'luq','mcm', 'mcr','nwt','ntl',\n",
    "         'pal','pie','sbc','sev','sgs','vcr']\n",
    "# create a hyperlink that queries each site\n",
    "for site in Sites:\n",
    "    dataURLprefix = \"http://cn.dataone.org/cn/v2/query/solr/?q=formatType:METADATA+AND+authoritativeMN:*LTER+AND+identifier:%27-lter-\"\n",
    "    dataURLsuffix = \"%27&fl=dateUploaded,datePublished,dataUrl&rows=0&sort=dateUploaded+asc&facet=true&facet.missing=true&facet.limit=-1&facet.range=dateUploaded&facet.range.start=2005-01-01T00:00:00Z&facet.range.end=2018-12-31T23:59:59.999Z&facet.range.gap=%2B1YEAR&wt=xml\"\n",
    "    hyperlink = str(dataURLprefix + site + dataURLsuffix)\n",
    "    href = '<a href=\"' + hyperlink + '\"/>' + site + '</a>'\n",
    "    display(HTML(href))"
   ]
  },
  {
   "cell_type": "markdown",
   "metadata": {},
   "source": [
    "#### Sample from GCE"
   ]
  },
  {
   "cell_type": "markdown",
   "metadata": {},
   "source": [
    "```xml \n",
    "<lst name=\"dateUploaded\">\n",
    "<lst name=\"counts\">\n",
    "<int name=\"2005-01-01T00:00:00Z\">1443</int>\n",
    "<int name=\"2006-01-01T00:00:00Z\">158</int>\n",
    "<int name=\"2007-01-01T00:00:00Z\">31</int>\n",
    "<int name=\"2008-01-01T00:00:00Z\">66</int>\n",
    "<int name=\"2009-01-01T00:00:00Z\">8</int>\n",
    "<int name=\"2010-01-01T00:00:00Z\">63</int>\n",
    "<int name=\"2011-01-01T00:00:00Z\">3</int>\n",
    "<int name=\"2012-01-01T00:00:00Z\">65</int>\n",
    "<int name=\"2013-01-01T00:00:00Z\">42</int>\n",
    "<int name=\"2014-01-01T00:00:00Z\">47</int>\n",
    "<int name=\"2015-01-01T00:00:00Z\">982</int>\n",
    "<int name=\"2016-01-01T00:00:00Z\">41</int>\n",
    "<int name=\"2017-01-01T00:00:00Z\">23</int>\n",
    "<int name=\"2018-01-01T00:00:00Z\">53</int>\n",
    "</lst>\n",
    "<str name=\"gap\">+1YEAR</str>\n",
    "<date name=\"start\">2005-01-01T00:00:00Z</date>\n",
    "<date name=\"end\">2019-01-01T00:00:00Z</date>\n",
    "```"
   ]
  },
  {
   "cell_type": "markdown",
   "metadata": {},
   "source": [
    "As you can see, some years have significantly more activity but there is at least some demonstration of metadata records uploaded in each of the 14 years. Other sites will have years they do not upload metadata and the directory structure should reflect that. \n",
    "### Using python to create, submit, and retrieve the SOLR queries's responses as XML\n",
    "\n",
    "Here we are creating similar queries but instead of counts we are interested in not just the site and the dateUploaded, we'd also like to gather the identifier, dataUrl, and if the record was obsoleted and which record it was obsoleted by."
   ]
  },
  {
   "cell_type": "code",
   "execution_count": 4,
   "metadata": {},
   "outputs": [],
   "source": [
    "Sites = ['and','arc','bes','bnz','cce',\n",
    "         'cdr','cap','cwt','fce','gce',\n",
    "         'hfr','hbr','jrn','kbs','knz',\n",
    "         'luq','mcm', 'mcr','nwt','ntl',\n",
    "         'pal','pie','sbc','sev','sgs','vcr']\n",
    "\n",
    "dataURLprefix = \"http://cn.dataone.org/cn/v2/query/solr/?q=formatType:METADATA+AND+authoritativeMN:*LTER+AND+identifier:%27-lter-\"\n",
    "dataURLsuffix = \"%27&fl=identifier,dateUploaded,datePublished,dataUrl,obsoletes,obsoletedBy&rows=6000&sort=dateUploaded+asc&facet=true&facet.missing=true&facet.limit=-1&facet.range=dateUploaded&facet.range.start=2005-01-01T00:00:00Z&facet.range.end=2018-12-31T23:59:59.999Z&facet.range.gap=%2B1YEAR&wt=xml\" \n",
    "filePath = \"../Solr/Responses/\"\n",
    "if not os.path.exists(filePath):\n",
    "    os.makedirs(filePath)\n",
    "fileType = \".xml\"\n",
    "\n",
    "dataURLs = [dataURLprefix + Site + dataURLsuffix for Site in Sites]\n",
    "   \n",
    "\n",
    "XMLnames = [filePath + Site.upper() + fileType for Site in Sites]\n",
    "\n",
    "# download the query responses\n",
    "md.get_records(dataURLs, XMLnames, well_formed=False)\n"
   ]
  },
  {
   "cell_type": "markdown",
   "metadata": {},
   "source": [
    "### Digging in to the Solr responses \n",
    "\n",
    "We need to determine a few things about the records returned in the query to see if all of them are appropriate for inclusion in the metadataset.\n",
    "\n",
    "First, do the LTER records get updated in DataONE, or do LTER sites contribute records without active curation?\n",
    "\n",
    "Second, if records get updated, what is the rate of curation? Are records iteratively created in a short period of time? If so, the iterations to a complete record may add noise to measures of yearly collection completeness. Are records improved over a series of years? These records would be valuable as they may reflect an improvement in the understanding of the levels of the LTER Recommendation for Completeness. This means we would not want to only collect unobsoleted records.\n",
    "\n",
    "Finally are there any issues with collections? Metadata quality is not merely curation of an individual record, but creating a collection of records that serve the needs of the user. Can analysis tools expose opportunities for the curators to improve the clarity of their communication of contextualizing data that turns datasets into information for the user?\n",
    "\n",
    "To see if contributors are curating the representation of their resources, let's use the SolrResponses directory of XML. If we follow a chain of obsoletedBy elements, we can see that record versions are the final part of the identifier. We can apply an XSL transform to extract the base identifier and year, the record identifier, and the year, and write it to a csv for each site. This will result in a table that allows us to see if records are iteratively created and to what degree active curation plays a role in the metadata collection. We can also check to see if record identifiers are reused in the collection."
   ]
  },
  {
   "cell_type": "code",
   "execution_count": 5,
   "metadata": {},
   "outputs": [],
   "source": [
    "# driving the XSL transformation for each of the SolrResponses\n",
    "\n",
    "os.makedirs(\"../Solr/Requests/\", exist_ok=True)\n",
    "os.makedirs(\"../Solr/Versions/\", exist_ok=True)\n",
    "\n",
    "# use Sites list to iterate over the creation of a dataset of csv describing each record at each site\n",
    "\n",
    "for Site in Sites:\n",
    "    version = [\"/usr/bin/java\",\n",
    "           '-jar', \"../scripts/saxon-b-9.0.jar\",\n",
    "           '-xsl:' + \"../scripts/findIdentifiers.xsl\",\n",
    "           '-s:' + \"../Solr/Responses/\" + Site.upper() + \".xml\",\n",
    "           '-o:' + \"../Solr/Versions/\" + Site.upper() + '.csv'\n",
    "          ]  \n",
    " \n",
    "    subprocess.run(' '.join(version), shell=True, check=True)"
   ]
  },
  {
   "cell_type": "code",
   "execution_count": 6,
   "metadata": {},
   "outputs": [
    {
     "data": {
      "text/html": [
       "<div>\n",
       "<style scoped>\n",
       "    .dataframe tbody tr th:only-of-type {\n",
       "        vertical-align: middle;\n",
       "    }\n",
       "\n",
       "    .dataframe tbody tr th {\n",
       "        vertical-align: top;\n",
       "    }\n",
       "\n",
       "    .dataframe thead th {\n",
       "        text-align: right;\n",
       "    }\n",
       "</style>\n",
       "<table border=\"1\" class=\"dataframe\">\n",
       "  <thead>\n",
       "    <tr style=\"text-align: right;\">\n",
       "      <th></th>\n",
       "      <th>baseIDyear</th>\n",
       "      <th>Identifier</th>\n",
       "      <th>Year</th>\n",
       "      <th>ObsoletedByID</th>\n",
       "      <th>dataUrl</th>\n",
       "    </tr>\n",
       "  </thead>\n",
       "  <tbody>\n",
       "    <tr>\n",
       "      <th>0</th>\n",
       "      <td>arc.584 2005</td>\n",
       "      <td>arc.584.1</td>\n",
       "      <td>2005</td>\n",
       "      <td>None</td>\n",
       "      <td>https://cn.dataone.org/cn/v2/resolve/doi%3A10....</td>\n",
       "    </tr>\n",
       "    <tr>\n",
       "      <th>1</th>\n",
       "      <td>arc.994 2005</td>\n",
       "      <td>arc.994.10</td>\n",
       "      <td>2005</td>\n",
       "      <td>arc.994.11</td>\n",
       "      <td>https://cn.dataone.org/cn/v2/resolve/knb-lter-...</td>\n",
       "    </tr>\n",
       "    <tr>\n",
       "      <th>2</th>\n",
       "      <td>arc.1406 2005</td>\n",
       "      <td>arc.1406.7</td>\n",
       "      <td>2005</td>\n",
       "      <td>None</td>\n",
       "      <td>https://cn.dataone.org/cn/v2/resolve/knb-lter-...</td>\n",
       "    </tr>\n",
       "    <tr>\n",
       "      <th>3</th>\n",
       "      <td>arc.1388 2005</td>\n",
       "      <td>arc.1388.2</td>\n",
       "      <td>2005</td>\n",
       "      <td>arc.1388.3</td>\n",
       "      <td>https://cn.dataone.org/cn/v2/resolve/doi%3A10....</td>\n",
       "    </tr>\n",
       "    <tr>\n",
       "      <th>4</th>\n",
       "      <td>arc.1596 2005</td>\n",
       "      <td>arc.1596.1</td>\n",
       "      <td>2005</td>\n",
       "      <td>arc.1596.2</td>\n",
       "      <td>https://cn.dataone.org/cn/v2/resolve/doi%3A10....</td>\n",
       "    </tr>\n",
       "  </tbody>\n",
       "</table>\n",
       "</div>"
      ],
      "text/plain": [
       "      baseIDyear  Identifier  Year ObsoletedByID  \\\n",
       "0   arc.584 2005   arc.584.1  2005          None   \n",
       "1   arc.994 2005  arc.994.10  2005    arc.994.11   \n",
       "2  arc.1406 2005  arc.1406.7  2005          None   \n",
       "3  arc.1388 2005  arc.1388.2  2005    arc.1388.3   \n",
       "4  arc.1596 2005  arc.1596.1  2005    arc.1596.2   \n",
       "\n",
       "                                             dataUrl  \n",
       "0  https://cn.dataone.org/cn/v2/resolve/doi%3A10....  \n",
       "1  https://cn.dataone.org/cn/v2/resolve/knb-lter-...  \n",
       "2  https://cn.dataone.org/cn/v2/resolve/knb-lter-...  \n",
       "3  https://cn.dataone.org/cn/v2/resolve/doi%3A10....  \n",
       "4  https://cn.dataone.org/cn/v2/resolve/doi%3A10....  "
      ]
     },
     "execution_count": 6,
     "metadata": {},
     "output_type": "execute_result"
    }
   ],
   "source": [
    "\n",
    "# combine data from csv into one dataframe\n",
    "CombinedVersionsDF = pd.concat(map(pd.read_csv, glob.glob(os.path.join('', \"../Solr/Versions/\", \"*.csv\"))))\n",
    "CombinedVersionsDF.head(5)"
   ]
  },
  {
   "cell_type": "markdown",
   "metadata": {},
   "source": [
    "### Do records get updated in DataONE by LTER sites?\n",
    "\n",
    "To check this, let's get all of the results of the FindIdentifiers.xsl transform into a dataframe. We make an assumption based on observing obsoleted chains in the Solr metadata about the identifier. We create a baseID which we define as the part of the identifier string before the last period and attach it to a year so that when a record is updated the previous version gets an \"obsoletedBy\" field in the SolrResponses. If a record is obsoleted by another record, there will be a \"Yes\" in the Obsoleted Column. We can use this information to count how many records there are that have an obsoletedBy element and divide this by the number of records identified by the SolrResponses metadata.\n",
    "\n",
    "### Let's choose a baseID that has a lot of use and then compare the Identifier with the identifier in the Obsoleted"
   ]
  },
  {
   "cell_type": "code",
   "execution_count": 7,
   "metadata": {},
   "outputs": [
    {
     "data": {
      "text/plain": [
       "baseIDyear\n",
       "bes.1      36\n",
       "bes.401    36\n",
       "bes.4      36\n",
       "bes.14     34\n",
       "bes.424    33\n",
       "Name: dataUrl, dtype: int64"
      ]
     },
     "execution_count": 7,
     "metadata": {},
     "output_type": "execute_result"
    }
   ],
   "source": [
    "#Split the year off of the baseIDyear so we can look at the whole collection\n",
    "BaseCombinedVersionsDF = CombinedVersionsDF\n",
    "BaseCombinedVersionsDF['baseIDyear'] = CombinedVersionsDF['baseIDyear'].str.split(' ').apply(pd.Series, 1)\n",
    "# Identify base ID use by counting up the baseIDyear data that share the same values\n",
    "uniqueBaseIDcount = BaseCombinedVersionsDF.groupby('baseIDyear')[\"dataUrl\"].nunique().sort_values(ascending=False)\n",
    "uniqueBaseIDcount.head(5)"
   ]
  },
  {
   "cell_type": "markdown",
   "metadata": {},
   "source": [
    "Use a top result to create a table and sort it"
   ]
  },
  {
   "cell_type": "code",
   "execution_count": 8,
   "metadata": {},
   "outputs": [
    {
     "data": {
      "text/html": [
       "<div>\n",
       "<style scoped>\n",
       "    .dataframe tbody tr th:only-of-type {\n",
       "        vertical-align: middle;\n",
       "    }\n",
       "\n",
       "    .dataframe tbody tr th {\n",
       "        vertical-align: top;\n",
       "    }\n",
       "\n",
       "    .dataframe thead th {\n",
       "        text-align: right;\n",
       "    }\n",
       "</style>\n",
       "<table border=\"1\" class=\"dataframe\">\n",
       "  <thead>\n",
       "    <tr style=\"text-align: right;\">\n",
       "      <th></th>\n",
       "      <th>baseIDyear</th>\n",
       "      <th>Identifier</th>\n",
       "      <th>Year</th>\n",
       "      <th>ObsoletedByID</th>\n",
       "      <th>dataUrl</th>\n",
       "    </tr>\n",
       "  </thead>\n",
       "  <tbody>\n",
       "    <tr>\n",
       "      <th>66</th>\n",
       "      <td>bes.4</td>\n",
       "      <td>bes.4.19</td>\n",
       "      <td>2006</td>\n",
       "      <td>bes.4.20</td>\n",
       "      <td>https://cn.dataone.org/cn/v2/resolve/doi%3A10.6073%2FAA%2Fknb-lter-bes.4.19</td>\n",
       "    </tr>\n",
       "    <tr>\n",
       "      <th>54</th>\n",
       "      <td>bes.4</td>\n",
       "      <td>bes.4.20</td>\n",
       "      <td>2006</td>\n",
       "      <td>bes.4.21</td>\n",
       "      <td>https://cn.dataone.org/cn/v2/resolve/doi%3A10.6073%2FAA%2Fknb-lter-bes.4.20</td>\n",
       "    </tr>\n",
       "    <tr>\n",
       "      <th>73</th>\n",
       "      <td>bes.4</td>\n",
       "      <td>bes.4.21</td>\n",
       "      <td>2006</td>\n",
       "      <td>bes.4.22</td>\n",
       "      <td>https://cn.dataone.org/cn/v2/resolve/doi%3A10.6073%2FAA%2Fknb-lter-bes.4.21</td>\n",
       "    </tr>\n",
       "    <tr>\n",
       "      <th>75</th>\n",
       "      <td>bes.4</td>\n",
       "      <td>bes.4.22</td>\n",
       "      <td>2006</td>\n",
       "      <td>bes.4.23</td>\n",
       "      <td>https://cn.dataone.org/cn/v2/resolve/doi%3A10.6073%2FAA%2Fknb-lter-bes.4.22</td>\n",
       "    </tr>\n",
       "    <tr>\n",
       "      <th>86</th>\n",
       "      <td>bes.4</td>\n",
       "      <td>bes.4.23</td>\n",
       "      <td>2006</td>\n",
       "      <td>bes.4.24</td>\n",
       "      <td>https://cn.dataone.org/cn/v2/resolve/doi%3A10.6073%2FAA%2Fknb-lter-bes.4.23</td>\n",
       "    </tr>\n",
       "    <tr>\n",
       "      <th>76</th>\n",
       "      <td>bes.4</td>\n",
       "      <td>bes.4.24</td>\n",
       "      <td>2006</td>\n",
       "      <td>bes.4.26</td>\n",
       "      <td>https://cn.dataone.org/cn/v2/resolve/doi%3A10.6073%2FAA%2Fknb-lter-bes.4.24</td>\n",
       "    </tr>\n",
       "    <tr>\n",
       "      <th>74</th>\n",
       "      <td>bes.4</td>\n",
       "      <td>bes.4.26</td>\n",
       "      <td>2006</td>\n",
       "      <td>bes.4.27</td>\n",
       "      <td>https://cn.dataone.org/cn/v2/resolve/doi%3A10.6073%2FAA%2Fknb-lter-bes.4.26</td>\n",
       "    </tr>\n",
       "    <tr>\n",
       "      <th>69</th>\n",
       "      <td>bes.4</td>\n",
       "      <td>bes.4.27</td>\n",
       "      <td>2006</td>\n",
       "      <td>bes.4.28</td>\n",
       "      <td>https://cn.dataone.org/cn/v2/resolve/doi%3A10.6073%2FAA%2Fknb-lter-bes.4.27</td>\n",
       "    </tr>\n",
       "    <tr>\n",
       "      <th>65</th>\n",
       "      <td>bes.4</td>\n",
       "      <td>bes.4.28</td>\n",
       "      <td>2006</td>\n",
       "      <td>bes.4.29</td>\n",
       "      <td>https://cn.dataone.org/cn/v2/resolve/doi%3A10.6073%2FAA%2Fknb-lter-bes.4.28</td>\n",
       "    </tr>\n",
       "    <tr>\n",
       "      <th>87</th>\n",
       "      <td>bes.4</td>\n",
       "      <td>bes.4.29</td>\n",
       "      <td>2006</td>\n",
       "      <td>bes.4.30</td>\n",
       "      <td>https://cn.dataone.org/cn/v2/resolve/doi%3A10.6073%2FAA%2Fknb-lter-bes.4.29</td>\n",
       "    </tr>\n",
       "    <tr>\n",
       "      <th>82</th>\n",
       "      <td>bes.4</td>\n",
       "      <td>bes.4.3</td>\n",
       "      <td>2006</td>\n",
       "      <td>bes.4.4</td>\n",
       "      <td>https://cn.dataone.org/cn/v2/resolve/doi%3A10.6073%2FAA%2Fknb-lter-bes.4.3</td>\n",
       "    </tr>\n",
       "    <tr>\n",
       "      <th>67</th>\n",
       "      <td>bes.4</td>\n",
       "      <td>bes.4.30</td>\n",
       "      <td>2006</td>\n",
       "      <td>bes.4.31</td>\n",
       "      <td>https://cn.dataone.org/cn/v2/resolve/doi%3A10.6073%2FAA%2Fknb-lter-bes.4.30</td>\n",
       "    </tr>\n",
       "    <tr>\n",
       "      <th>72</th>\n",
       "      <td>bes.4</td>\n",
       "      <td>bes.4.31</td>\n",
       "      <td>2006</td>\n",
       "      <td>bes.4.32</td>\n",
       "      <td>https://cn.dataone.org/cn/v2/resolve/doi%3A10.6073%2FAA%2Fknb-lter-bes.4.31</td>\n",
       "    </tr>\n",
       "    <tr>\n",
       "      <th>81</th>\n",
       "      <td>bes.4</td>\n",
       "      <td>bes.4.32</td>\n",
       "      <td>2006</td>\n",
       "      <td>bes.4.33</td>\n",
       "      <td>https://cn.dataone.org/cn/v2/resolve/doi%3A10.6073%2FAA%2Fknb-lter-bes.4.32</td>\n",
       "    </tr>\n",
       "    <tr>\n",
       "      <th>70</th>\n",
       "      <td>bes.4</td>\n",
       "      <td>bes.4.33</td>\n",
       "      <td>2006</td>\n",
       "      <td>bes.4.34</td>\n",
       "      <td>https://cn.dataone.org/cn/v2/resolve/doi%3A10.6073%2FAA%2Fknb-lter-bes.4.33</td>\n",
       "    </tr>\n",
       "    <tr>\n",
       "      <th>55</th>\n",
       "      <td>bes.4</td>\n",
       "      <td>bes.4.34</td>\n",
       "      <td>2006</td>\n",
       "      <td>bes.4.35</td>\n",
       "      <td>https://cn.dataone.org/cn/v2/resolve/doi%3A10.6073%2FAA%2Fknb-lter-bes.4.34</td>\n",
       "    </tr>\n",
       "    <tr>\n",
       "      <th>63</th>\n",
       "      <td>bes.4</td>\n",
       "      <td>bes.4.36</td>\n",
       "      <td>2006</td>\n",
       "      <td>bes.4.37</td>\n",
       "      <td>https://cn.dataone.org/cn/v2/resolve/doi%3A10.6073%2FAA%2Fknb-lter-bes.4.36</td>\n",
       "    </tr>\n",
       "    <tr>\n",
       "      <th>56</th>\n",
       "      <td>bes.4</td>\n",
       "      <td>bes.4.37</td>\n",
       "      <td>2006</td>\n",
       "      <td>bes.4.38</td>\n",
       "      <td>https://cn.dataone.org/cn/v2/resolve/doi%3A10.6073%2FAA%2Fknb-lter-bes.4.37</td>\n",
       "    </tr>\n",
       "    <tr>\n",
       "      <th>53</th>\n",
       "      <td>bes.4</td>\n",
       "      <td>bes.4.38</td>\n",
       "      <td>2006</td>\n",
       "      <td>bes.4.39</td>\n",
       "      <td>https://cn.dataone.org/cn/v2/resolve/doi%3A10.6073%2FAA%2Fknb-lter-bes.4.38</td>\n",
       "    </tr>\n",
       "    <tr>\n",
       "      <th>79</th>\n",
       "      <td>bes.4</td>\n",
       "      <td>bes.4.39</td>\n",
       "      <td>2006</td>\n",
       "      <td>bes.4.41</td>\n",
       "      <td>https://cn.dataone.org/cn/v2/resolve/doi%3A10.6073%2FAA%2Fknb-lter-bes.4.39</td>\n",
       "    </tr>\n",
       "    <tr>\n",
       "      <th>68</th>\n",
       "      <td>bes.4</td>\n",
       "      <td>bes.4.4</td>\n",
       "      <td>2006</td>\n",
       "      <td>bes.4.5</td>\n",
       "      <td>https://cn.dataone.org/cn/v2/resolve/doi%3A10.6073%2FAA%2Fknb-lter-bes.4.4</td>\n",
       "    </tr>\n",
       "    <tr>\n",
       "      <th>80</th>\n",
       "      <td>bes.4</td>\n",
       "      <td>bes.4.41</td>\n",
       "      <td>2006</td>\n",
       "      <td>bes.4.42</td>\n",
       "      <td>https://cn.dataone.org/cn/v2/resolve/doi%3A10.6073%2FAA%2Fknb-lter-bes.4.41</td>\n",
       "    </tr>\n",
       "    <tr>\n",
       "      <th>62</th>\n",
       "      <td>bes.4</td>\n",
       "      <td>bes.4.42</td>\n",
       "      <td>2006</td>\n",
       "      <td>bes.4.43</td>\n",
       "      <td>https://cn.dataone.org/cn/v2/resolve/doi%3A10.6073%2FAA%2Fknb-lter-bes.4.42</td>\n",
       "    </tr>\n",
       "    <tr>\n",
       "      <th>64</th>\n",
       "      <td>bes.4</td>\n",
       "      <td>bes.4.44</td>\n",
       "      <td>2006</td>\n",
       "      <td>bes.4.45</td>\n",
       "      <td>https://cn.dataone.org/cn/v2/resolve/doi%3A10.6073%2FAA%2Fknb-lter-bes.4.44</td>\n",
       "    </tr>\n",
       "    <tr>\n",
       "      <th>78</th>\n",
       "      <td>bes.4</td>\n",
       "      <td>bes.4.46</td>\n",
       "      <td>2006</td>\n",
       "      <td>bes.4.47</td>\n",
       "      <td>https://cn.dataone.org/cn/v2/resolve/doi%3A10.6073%2FAA%2Fknb-lter-bes.4.46</td>\n",
       "    </tr>\n",
       "    <tr>\n",
       "      <th>71</th>\n",
       "      <td>bes.4</td>\n",
       "      <td>bes.4.47</td>\n",
       "      <td>2006</td>\n",
       "      <td>bes.4.48</td>\n",
       "      <td>https://cn.dataone.org/cn/v2/resolve/doi%3A10.6073%2FAA%2Fknb-lter-bes.4.47</td>\n",
       "    </tr>\n",
       "    <tr>\n",
       "      <th>83</th>\n",
       "      <td>bes.4</td>\n",
       "      <td>bes.4.48</td>\n",
       "      <td>2006</td>\n",
       "      <td>bes.4.49</td>\n",
       "      <td>https://cn.dataone.org/cn/v2/resolve/doi%3A10.6073%2FAA%2Fknb-lter-bes.4.48</td>\n",
       "    </tr>\n",
       "    <tr>\n",
       "      <th>60</th>\n",
       "      <td>bes.4</td>\n",
       "      <td>bes.4.49</td>\n",
       "      <td>2006</td>\n",
       "      <td>bes.4.50</td>\n",
       "      <td>https://cn.dataone.org/cn/v2/resolve/doi%3A10.6073%2FAA%2Fknb-lter-bes.4.49</td>\n",
       "    </tr>\n",
       "    <tr>\n",
       "      <th>84</th>\n",
       "      <td>bes.4</td>\n",
       "      <td>bes.4.5</td>\n",
       "      <td>2006</td>\n",
       "      <td>bes.4.7</td>\n",
       "      <td>https://cn.dataone.org/cn/v2/resolve/doi%3A10.6073%2FAA%2Fknb-lter-bes.4.5</td>\n",
       "    </tr>\n",
       "    <tr>\n",
       "      <th>58</th>\n",
       "      <td>bes.4</td>\n",
       "      <td>bes.4.50</td>\n",
       "      <td>2006</td>\n",
       "      <td>bes.4.51</td>\n",
       "      <td>https://cn.dataone.org/cn/v2/resolve/doi%3A10.6073%2FAA%2Fknb-lter-bes.4.50</td>\n",
       "    </tr>\n",
       "    <tr>\n",
       "      <th>61</th>\n",
       "      <td>bes.4</td>\n",
       "      <td>bes.4.51</td>\n",
       "      <td>2006</td>\n",
       "      <td>bes.4.52</td>\n",
       "      <td>https://cn.dataone.org/cn/v2/resolve/doi%3A10.6073%2FAA%2Fknb-lter-bes.4.51</td>\n",
       "    </tr>\n",
       "    <tr>\n",
       "      <th>85</th>\n",
       "      <td>bes.4</td>\n",
       "      <td>bes.4.52</td>\n",
       "      <td>2006</td>\n",
       "      <td>bes.4.53</td>\n",
       "      <td>https://cn.dataone.org/cn/v2/resolve/doi%3A10.6073%2FAA%2Fknb-lter-bes.4.52</td>\n",
       "    </tr>\n",
       "    <tr>\n",
       "      <th>77</th>\n",
       "      <td>bes.4</td>\n",
       "      <td>bes.4.53</td>\n",
       "      <td>2006</td>\n",
       "      <td>bes.4.56</td>\n",
       "      <td>https://cn.dataone.org/cn/v2/resolve/doi%3A10.6073%2FAA%2Fknb-lter-bes.4.53</td>\n",
       "    </tr>\n",
       "    <tr>\n",
       "      <th>57</th>\n",
       "      <td>bes.4</td>\n",
       "      <td>bes.4.56</td>\n",
       "      <td>2006</td>\n",
       "      <td>bes.4.570</td>\n",
       "      <td>https://cn.dataone.org/cn/v2/resolve/knb-lter-bes.4.56</td>\n",
       "    </tr>\n",
       "    <tr>\n",
       "      <th>59</th>\n",
       "      <td>bes.4</td>\n",
       "      <td>bes.4.570</td>\n",
       "      <td>2006</td>\n",
       "      <td>None</td>\n",
       "      <td>https://cn.dataone.org/cn/v2/resolve/knb-lter-bes.4.570</td>\n",
       "    </tr>\n",
       "    <tr>\n",
       "      <th>52</th>\n",
       "      <td>bes.4</td>\n",
       "      <td>bes.4.8</td>\n",
       "      <td>2006</td>\n",
       "      <td>bes.4.9</td>\n",
       "      <td>https://cn.dataone.org/cn/v2/resolve/doi%3A10.6073%2FAA%2Fknb-lter-bes.4.8</td>\n",
       "    </tr>\n",
       "  </tbody>\n",
       "</table>\n",
       "</div>"
      ],
      "text/plain": [
       "   baseIDyear Identifier  Year ObsoletedByID  \\\n",
       "66      bes.4   bes.4.19  2006      bes.4.20   \n",
       "54      bes.4   bes.4.20  2006      bes.4.21   \n",
       "73      bes.4   bes.4.21  2006      bes.4.22   \n",
       "75      bes.4   bes.4.22  2006      bes.4.23   \n",
       "86      bes.4   bes.4.23  2006      bes.4.24   \n",
       "76      bes.4   bes.4.24  2006      bes.4.26   \n",
       "74      bes.4   bes.4.26  2006      bes.4.27   \n",
       "69      bes.4   bes.4.27  2006      bes.4.28   \n",
       "65      bes.4   bes.4.28  2006      bes.4.29   \n",
       "87      bes.4   bes.4.29  2006      bes.4.30   \n",
       "82      bes.4    bes.4.3  2006       bes.4.4   \n",
       "67      bes.4   bes.4.30  2006      bes.4.31   \n",
       "72      bes.4   bes.4.31  2006      bes.4.32   \n",
       "81      bes.4   bes.4.32  2006      bes.4.33   \n",
       "70      bes.4   bes.4.33  2006      bes.4.34   \n",
       "55      bes.4   bes.4.34  2006      bes.4.35   \n",
       "63      bes.4   bes.4.36  2006      bes.4.37   \n",
       "56      bes.4   bes.4.37  2006      bes.4.38   \n",
       "53      bes.4   bes.4.38  2006      bes.4.39   \n",
       "79      bes.4   bes.4.39  2006      bes.4.41   \n",
       "68      bes.4    bes.4.4  2006       bes.4.5   \n",
       "80      bes.4   bes.4.41  2006      bes.4.42   \n",
       "62      bes.4   bes.4.42  2006      bes.4.43   \n",
       "64      bes.4   bes.4.44  2006      bes.4.45   \n",
       "78      bes.4   bes.4.46  2006      bes.4.47   \n",
       "71      bes.4   bes.4.47  2006      bes.4.48   \n",
       "83      bes.4   bes.4.48  2006      bes.4.49   \n",
       "60      bes.4   bes.4.49  2006      bes.4.50   \n",
       "84      bes.4    bes.4.5  2006       bes.4.7   \n",
       "58      bes.4   bes.4.50  2006      bes.4.51   \n",
       "61      bes.4   bes.4.51  2006      bes.4.52   \n",
       "85      bes.4   bes.4.52  2006      bes.4.53   \n",
       "77      bes.4   bes.4.53  2006      bes.4.56   \n",
       "57      bes.4   bes.4.56  2006     bes.4.570   \n",
       "59      bes.4  bes.4.570  2006          None   \n",
       "52      bes.4    bes.4.8  2006       bes.4.9   \n",
       "\n",
       "                                                                        dataUrl  \n",
       "66  https://cn.dataone.org/cn/v2/resolve/doi%3A10.6073%2FAA%2Fknb-lter-bes.4.19  \n",
       "54  https://cn.dataone.org/cn/v2/resolve/doi%3A10.6073%2FAA%2Fknb-lter-bes.4.20  \n",
       "73  https://cn.dataone.org/cn/v2/resolve/doi%3A10.6073%2FAA%2Fknb-lter-bes.4.21  \n",
       "75  https://cn.dataone.org/cn/v2/resolve/doi%3A10.6073%2FAA%2Fknb-lter-bes.4.22  \n",
       "86  https://cn.dataone.org/cn/v2/resolve/doi%3A10.6073%2FAA%2Fknb-lter-bes.4.23  \n",
       "76  https://cn.dataone.org/cn/v2/resolve/doi%3A10.6073%2FAA%2Fknb-lter-bes.4.24  \n",
       "74  https://cn.dataone.org/cn/v2/resolve/doi%3A10.6073%2FAA%2Fknb-lter-bes.4.26  \n",
       "69  https://cn.dataone.org/cn/v2/resolve/doi%3A10.6073%2FAA%2Fknb-lter-bes.4.27  \n",
       "65  https://cn.dataone.org/cn/v2/resolve/doi%3A10.6073%2FAA%2Fknb-lter-bes.4.28  \n",
       "87  https://cn.dataone.org/cn/v2/resolve/doi%3A10.6073%2FAA%2Fknb-lter-bes.4.29  \n",
       "82   https://cn.dataone.org/cn/v2/resolve/doi%3A10.6073%2FAA%2Fknb-lter-bes.4.3  \n",
       "67  https://cn.dataone.org/cn/v2/resolve/doi%3A10.6073%2FAA%2Fknb-lter-bes.4.30  \n",
       "72  https://cn.dataone.org/cn/v2/resolve/doi%3A10.6073%2FAA%2Fknb-lter-bes.4.31  \n",
       "81  https://cn.dataone.org/cn/v2/resolve/doi%3A10.6073%2FAA%2Fknb-lter-bes.4.32  \n",
       "70  https://cn.dataone.org/cn/v2/resolve/doi%3A10.6073%2FAA%2Fknb-lter-bes.4.33  \n",
       "55  https://cn.dataone.org/cn/v2/resolve/doi%3A10.6073%2FAA%2Fknb-lter-bes.4.34  \n",
       "63  https://cn.dataone.org/cn/v2/resolve/doi%3A10.6073%2FAA%2Fknb-lter-bes.4.36  \n",
       "56  https://cn.dataone.org/cn/v2/resolve/doi%3A10.6073%2FAA%2Fknb-lter-bes.4.37  \n",
       "53  https://cn.dataone.org/cn/v2/resolve/doi%3A10.6073%2FAA%2Fknb-lter-bes.4.38  \n",
       "79  https://cn.dataone.org/cn/v2/resolve/doi%3A10.6073%2FAA%2Fknb-lter-bes.4.39  \n",
       "68   https://cn.dataone.org/cn/v2/resolve/doi%3A10.6073%2FAA%2Fknb-lter-bes.4.4  \n",
       "80  https://cn.dataone.org/cn/v2/resolve/doi%3A10.6073%2FAA%2Fknb-lter-bes.4.41  \n",
       "62  https://cn.dataone.org/cn/v2/resolve/doi%3A10.6073%2FAA%2Fknb-lter-bes.4.42  \n",
       "64  https://cn.dataone.org/cn/v2/resolve/doi%3A10.6073%2FAA%2Fknb-lter-bes.4.44  \n",
       "78  https://cn.dataone.org/cn/v2/resolve/doi%3A10.6073%2FAA%2Fknb-lter-bes.4.46  \n",
       "71  https://cn.dataone.org/cn/v2/resolve/doi%3A10.6073%2FAA%2Fknb-lter-bes.4.47  \n",
       "83  https://cn.dataone.org/cn/v2/resolve/doi%3A10.6073%2FAA%2Fknb-lter-bes.4.48  \n",
       "60  https://cn.dataone.org/cn/v2/resolve/doi%3A10.6073%2FAA%2Fknb-lter-bes.4.49  \n",
       "84   https://cn.dataone.org/cn/v2/resolve/doi%3A10.6073%2FAA%2Fknb-lter-bes.4.5  \n",
       "58  https://cn.dataone.org/cn/v2/resolve/doi%3A10.6073%2FAA%2Fknb-lter-bes.4.50  \n",
       "61  https://cn.dataone.org/cn/v2/resolve/doi%3A10.6073%2FAA%2Fknb-lter-bes.4.51  \n",
       "85  https://cn.dataone.org/cn/v2/resolve/doi%3A10.6073%2FAA%2Fknb-lter-bes.4.52  \n",
       "77  https://cn.dataone.org/cn/v2/resolve/doi%3A10.6073%2FAA%2Fknb-lter-bes.4.53  \n",
       "57                       https://cn.dataone.org/cn/v2/resolve/knb-lter-bes.4.56  \n",
       "59                      https://cn.dataone.org/cn/v2/resolve/knb-lter-bes.4.570  \n",
       "52   https://cn.dataone.org/cn/v2/resolve/doi%3A10.6073%2FAA%2Fknb-lter-bes.4.8  "
      ]
     },
     "execution_count": 8,
     "metadata": {},
     "output_type": "execute_result"
    }
   ],
   "source": [
    "# use 'bes.4' to limit the rows of the data frame to just records we think are related\n",
    "sampleRecordRows = BaseCombinedVersionsDF[BaseCombinedVersionsDF['baseIDyear']=='bes.4'].sort_values('Identifier')\n",
    "pd.set_option('max_colwidth',400)\n",
    "sampleRecordRows\n"
   ]
  },
  {
   "cell_type": "markdown",
   "metadata": {},
   "source": [
    "It appears as although many records follow the expected pattern, there are related records that share the same baseID. In the bes.4 example there are two records that are present in the data, and while record 4.19 is sequentially (by the hundreths) versioned versions we'd expect to see such as bes.4.35 aren't a part of the collection anymore, and there are some jumps such as 4.39 to 4.41, there are also records like 4.4 and 4.5 that are merely related to similar datasets (or documents)\n",
    "\n",
    "#### How many records have these LTER Sites uploaded to DataONE?"
   ]
  },
  {
   "cell_type": "code",
   "execution_count": 9,
   "metadata": {},
   "outputs": [
    {
     "name": "stdout",
     "output_type": "stream",
     "text": [
      "There are 40922 records described in the SolrResponse metadata records.\n"
     ]
    }
   ],
   "source": [
    "RecordTotal = len(CombinedVersionsDF.index)\n",
    "print(\"There are\", RecordTotal, \"records described in the SolrResponse metadata records.\")"
   ]
  },
  {
   "cell_type": "code",
   "execution_count": 10,
   "metadata": {},
   "outputs": [
    {
     "name": "stdout",
     "output_type": "stream",
     "text": [
      "There are 18860 records that have been obsoleted by a newer version.\n"
     ]
    }
   ],
   "source": [
    "ObsoletedCount = len(CombinedVersionsDF[(CombinedVersionsDF['ObsoletedByID']!='None')])\n",
    "print('There are', ObsoletedCount, 'records that have been obsoleted by a newer version.')"
   ]
  },
  {
   "cell_type": "markdown",
   "metadata": {},
   "source": [
    "#### What is the total percentage of records that have been obsoleted by newer versions?"
   ]
  },
  {
   "cell_type": "code",
   "execution_count": 11,
   "metadata": {},
   "outputs": [
    {
     "name": "stdout",
     "output_type": "stream",
     "text": [
      "46.09% of records are obsoleted by other records in the DataONE LTER metadata holdings.\n"
     ]
    }
   ],
   "source": [
    "                \n",
    "print(\"{:.2%}\".format(ObsoletedCount / RecordTotal),'of records are obsoleted by other records in the DataONE LTER metadata holdings.')"
   ]
  },
  {
   "cell_type": "markdown",
   "metadata": {},
   "source": [
    "#### Are multiple versions uploaded and obsoleted in a given year?\n",
    "The reason this question is important is that if record versions are iterated upon in rapid succession, including them all in a measure of collection completeness would probably introduce noise into the dataset. We can see from the previous table that records are infact iterated rapidly, so we need to find a way to only retrieve the most recent version within a year."
   ]
  },
  {
   "cell_type": "markdown",
   "metadata": {},
   "source": [
    "### Wow some groups are frequently uploading new versions of records on DataONE!\n",
    "It turns out that although just over half of the records are not updated within a year there are quite a few records that are, some quite heavily.  \n",
    "\n",
    "Out of curiousity, lets count the identifiers"
   ]
  },
  {
   "cell_type": "code",
   "execution_count": 12,
   "metadata": {},
   "outputs": [
    {
     "data": {
      "text/plain": [
       "Identifier\n",
       "gce.317.17    2\n",
       "cap.226.10    2\n",
       "gce.455.8     2\n",
       "bnz.100.16    2\n",
       "bnz.100.17    2\n",
       "bnz.100.19    2\n",
       "hfr.108.28    2\n",
       "mcm.9021.6    2\n",
       "gce.455.7     2\n",
       "cap.224.9     2\n",
       "Name: Year, dtype: int64"
      ]
     },
     "execution_count": 12,
     "metadata": {},
     "output_type": "execute_result"
    }
   ],
   "source": [
    "df = pd.concat(map(pd.read_csv, glob.glob(os.path.join('', \"../Solr/Versions/\", \"*.csv\"))))\n",
    "dfg = df.groupby('Identifier')['Year'].nunique().sort_values(ascending=False)\n",
    "dfg.head(10)\n"
   ]
  },
  {
   "cell_type": "markdown",
   "metadata": {},
   "source": [
    "Woah, how many identifiers share a record?"
   ]
  },
  {
   "cell_type": "code",
   "execution_count": 13,
   "metadata": {},
   "outputs": [
    {
     "data": {
      "text/plain": [
       "True      4909\n",
       "False    30957\n",
       "Name: Year, dtype: int64"
      ]
     },
     "execution_count": 13,
     "metadata": {},
     "output_type": "execute_result"
    }
   ],
   "source": [
    "dfg.ge(2).value_counts(ascending=True)"
   ]
  },
  {
   "cell_type": "markdown",
   "metadata": {},
   "source": [
    "There are 4908 identifiers that are used for more than one unobsoleted record."
   ]
  },
  {
   "cell_type": "code",
   "execution_count": 14,
   "metadata": {},
   "outputs": [
    {
     "data": {
      "text/html": [
       "<div>\n",
       "<style scoped>\n",
       "    .dataframe tbody tr th:only-of-type {\n",
       "        vertical-align: middle;\n",
       "    }\n",
       "\n",
       "    .dataframe tbody tr th {\n",
       "        vertical-align: top;\n",
       "    }\n",
       "\n",
       "    .dataframe thead th {\n",
       "        text-align: right;\n",
       "    }\n",
       "</style>\n",
       "<table border=\"1\" class=\"dataframe\">\n",
       "  <thead>\n",
       "    <tr style=\"text-align: right;\">\n",
       "      <th></th>\n",
       "      <th>Identifier</th>\n",
       "      <th>Year</th>\n",
       "      <th>ObsoletedByID</th>\n",
       "      <th>dataUrl</th>\n",
       "    </tr>\n",
       "  </thead>\n",
       "  <tbody>\n",
       "    <tr>\n",
       "      <th>47</th>\n",
       "      <td>and.2720.8</td>\n",
       "      <td>2005</td>\n",
       "      <td>None</td>\n",
       "      <td>https://cn.dataone.org/cn/v2/resolve/knb-lter-and.2720.8</td>\n",
       "    </tr>\n",
       "    <tr>\n",
       "      <th>256</th>\n",
       "      <td>and.2720.8</td>\n",
       "      <td>2015</td>\n",
       "      <td>None</td>\n",
       "      <td>https://cn.dataone.org/cn/v2/resolve/https%3A%2F%2Fpasta.lternet.edu%2Fpackage%2Fmetadata%2Feml%2Fknb-lter-and%2F2720%2F8</td>\n",
       "    </tr>\n",
       "    <tr>\n",
       "      <th>48</th>\n",
       "      <td>and.2721.6</td>\n",
       "      <td>2005</td>\n",
       "      <td>None</td>\n",
       "      <td>https://cn.dataone.org/cn/v2/resolve/knb-lter-and.2721.6</td>\n",
       "    </tr>\n",
       "    <tr>\n",
       "      <th>258</th>\n",
       "      <td>and.2721.6</td>\n",
       "      <td>2015</td>\n",
       "      <td>None</td>\n",
       "      <td>https://cn.dataone.org/cn/v2/resolve/https%3A%2F%2Fpasta.lternet.edu%2Fpackage%2Fmetadata%2Feml%2Fknb-lter-and%2F2721%2F6</td>\n",
       "    </tr>\n",
       "    <tr>\n",
       "      <th>67</th>\n",
       "      <td>and.2722.5</td>\n",
       "      <td>2005</td>\n",
       "      <td>and.2722.6</td>\n",
       "      <td>https://cn.dataone.org/cn/v2/resolve/doi%3A10.6073%2FAA%2Fknb-lter-and.2722.5</td>\n",
       "    </tr>\n",
       "  </tbody>\n",
       "</table>\n",
       "</div>"
      ],
      "text/plain": [
       "     Identifier  Year ObsoletedByID  \\\n",
       "47   and.2720.8  2005          None   \n",
       "256  and.2720.8  2015          None   \n",
       "48   and.2721.6  2005          None   \n",
       "258  and.2721.6  2015          None   \n",
       "67   and.2722.5  2005    and.2722.6   \n",
       "\n",
       "                                                                                                                       dataUrl  \n",
       "47                                                                    https://cn.dataone.org/cn/v2/resolve/knb-lter-and.2720.8  \n",
       "256  https://cn.dataone.org/cn/v2/resolve/https%3A%2F%2Fpasta.lternet.edu%2Fpackage%2Fmetadata%2Feml%2Fknb-lter-and%2F2720%2F8  \n",
       "48                                                                    https://cn.dataone.org/cn/v2/resolve/knb-lter-and.2721.6  \n",
       "258  https://cn.dataone.org/cn/v2/resolve/https%3A%2F%2Fpasta.lternet.edu%2Fpackage%2Fmetadata%2Feml%2Fknb-lter-and%2F2721%2F6  \n",
       "67                                               https://cn.dataone.org/cn/v2/resolve/doi%3A10.6073%2FAA%2Fknb-lter-and.2722.5  "
      ]
     },
     "execution_count": 14,
     "metadata": {},
     "output_type": "execute_result"
    }
   ],
   "source": [
    "ids = CombinedVersionsDF[\"Identifier\"]\n",
    "duplicateIdentifiers = CombinedVersionsDF[ids.isin(ids[ids.duplicated()])].sort_values([\"Identifier\",'Year'])\n",
    "duplicateIDdf = duplicateIdentifiers.drop(\"baseIDyear\", axis=1)\n",
    "duplicateIDdf.head()"
   ]
  },
  {
   "cell_type": "markdown",
   "metadata": {},
   "source": [
    "#### This looks like a serious problem, 12% of records are using a packageID already assigned to another record. \n",
    "Now remember, I normalized the sub-string that I extract from the full identifier. I chose to do this to improve consistency in my file names and to remove potential conficts with using \"/\" in filepaths. The identifiers are more akin to the /eml:eml/@packageID in the XML this way, just without the prefix of \"knb-lter\", so it is likely that the identifiers in the records share this confilict. Regardless of Solr identifier naming convention this is how the string is represented at the end of the dataUrl as well. \n",
    "\n",
    "Are these records actually the same, or do they just share an identifier? More concerningly, why are the original versions of the records not obsoleted by the new version? Worse, why are records that were obsoleted in 2005 being reintroduced to the collection as active results?"
   ]
  },
  {
   "cell_type": "code",
   "execution_count": 15,
   "metadata": {},
   "outputs": [
    {
     "name": "stdout",
     "output_type": "stream",
     "text": [
      "12.04%\n"
     ]
    }
   ],
   "source": [
    "print(\"{:.2%}\".format(4905/40735))"
   ]
  },
  {
   "cell_type": "markdown",
   "metadata": {},
   "source": [
    "#### Thats a sizable collection. Let's get a random sample of these records to compare the contents directly. \n",
    "Since there are over 4500 Identifiers and more than 9000 dataUrls in the list of duplicated records to download, let's take a random sample for further inquiry."
   ]
  },
  {
   "cell_type": "code",
   "execution_count": 16,
   "metadata": {},
   "outputs": [
    {
     "data": {
      "text/plain": [
       "5056"
      ]
     },
     "execution_count": 16,
     "metadata": {},
     "output_type": "execute_result"
    }
   ],
   "source": [
    "IDs = duplicateIDdf.Identifier.unique().tolist()\n",
    "IDcount = len(IDs)\n",
    "IDcount"
   ]
  },
  {
   "cell_type": "code",
   "execution_count": 17,
   "metadata": {},
   "outputs": [
    {
     "data": {
      "text/plain": [
       "51"
      ]
     },
     "execution_count": 17,
     "metadata": {},
     "output_type": "execute_result"
    }
   ],
   "source": [
    "\n",
    "sampleIDs = random.sample(IDs, round(IDcount/99))\n",
    "len(sampleIDs)\n"
   ]
  },
  {
   "cell_type": "code",
   "execution_count": 18,
   "metadata": {},
   "outputs": [
    {
     "name": "stdout",
     "output_type": "stream",
     "text": [
      "There was an error downloading from https://cn.dataone.org/cn/v2/resolve/knb-lter-sbc.1006.8\n"
     ]
    }
   ],
   "source": [
    "\n",
    "\n",
    "UniqueDuplicatedIDdf = duplicateIDdf[duplicateIDdf[\"Identifier\"].isin(sampleIDs)]\n",
    "# create collections of year to avoid records overwriting each other and to retain the data in the dataframe\n",
    "for Year in UniqueDuplicatedIDdf.Year.unique().tolist():\n",
    "    YearDuplicateIDdf = UniqueDuplicatedIDdf[UniqueDuplicatedIDdf[\"Year\"]==Year]\n",
    "    filePath = \"../collections/duplicateIdentifiers/\" + str(Year) + \"/\"\n",
    "    if not os.path.exists(filePath):\n",
    "        os.makedirs(filePath)\n",
    "    fileType = \".xml\"\n",
    "\n",
    "    dataURLs = YearDuplicateIDdf.dataUrl.tolist()\n",
    "\n",
    "    XMLnames = [filePath + Identifier + fileType for Identifier in YearDuplicateIDdf.Identifier.tolist()]\n",
    "    \n",
    "    md.get_records(dataURLs, XMLnames, well_formed=False)"
   ]
  },
  {
   "cell_type": "markdown",
   "metadata": {},
   "source": [
    "### Evaluate the absolute content of the XML collections and create a table of metadata verticals so that content of an element can be compared across each instance of a shared identifier.\n",
    "\n",
    "This will allow us to compare the records and see if they actually describe the same resource. Our first step is to evaluate the collection for content and structure.  \n",
    "\n",
    "To create a table that allows us to compare records side by side, we'll use MDeval to arrange the collection evaluation ito a table with xpaths as rows and records as columns. We will add in the value 'No Content' if the record does not contain the xpaths we've chose to look at. Since these records generally have over a hundred different xpaths, we'll limit the output to some basic citation elements."
   ]
  },
  {
   "cell_type": "code",
   "execution_count": 19,
   "metadata": {},
   "outputs": [
    {
     "data": {
      "text/html": [
       "<div>\n",
       "<style scoped>\n",
       "    .dataframe tbody tr th:only-of-type {\n",
       "        vertical-align: middle;\n",
       "    }\n",
       "\n",
       "    .dataframe tbody tr th {\n",
       "        vertical-align: top;\n",
       "    }\n",
       "\n",
       "    .dataframe thead th {\n",
       "        text-align: right;\n",
       "    }\n",
       "</style>\n",
       "<table border=\"1\" class=\"dataframe\">\n",
       "  <thead>\n",
       "    <tr style=\"text-align: right;\">\n",
       "      <th></th>\n",
       "      <th>15</th>\n",
       "      <th>95</th>\n",
       "      <th>27</th>\n",
       "      <th>48</th>\n",
       "      <th>37</th>\n",
       "      <th>49</th>\n",
       "      <th>38</th>\n",
       "      <th>50</th>\n",
       "      <th>39</th>\n",
       "      <th>51</th>\n",
       "      <th>...</th>\n",
       "      <th>89</th>\n",
       "      <th>26</th>\n",
       "      <th>90</th>\n",
       "      <th>12</th>\n",
       "      <th>91</th>\n",
       "      <th>13</th>\n",
       "      <th>92</th>\n",
       "      <th>93</th>\n",
       "      <th>14</th>\n",
       "      <th>94</th>\n",
       "    </tr>\n",
       "    <tr>\n",
       "      <th></th>\n",
       "      <th></th>\n",
       "      <th></th>\n",
       "      <th></th>\n",
       "      <th></th>\n",
       "      <th></th>\n",
       "      <th></th>\n",
       "      <th></th>\n",
       "      <th></th>\n",
       "      <th></th>\n",
       "      <th></th>\n",
       "      <th></th>\n",
       "      <th></th>\n",
       "      <th></th>\n",
       "      <th></th>\n",
       "      <th></th>\n",
       "      <th></th>\n",
       "      <th></th>\n",
       "      <th></th>\n",
       "      <th></th>\n",
       "      <th></th>\n",
       "      <th></th>\n",
       "    </tr>\n",
       "  </thead>\n",
       "  <tbody>\n",
       "    <tr>\n",
       "      <th>Collection</th>\n",
       "      <td>2006</td>\n",
       "      <td>2016</td>\n",
       "      <td>2010</td>\n",
       "      <td>2015</td>\n",
       "      <td>2013</td>\n",
       "      <td>2015</td>\n",
       "      <td>2013</td>\n",
       "      <td>2015</td>\n",
       "      <td>2013</td>\n",
       "      <td>2015</td>\n",
       "      <td>...</td>\n",
       "      <td>2015</td>\n",
       "      <td>2009</td>\n",
       "      <td>2015</td>\n",
       "      <td>2005</td>\n",
       "      <td>2015</td>\n",
       "      <td>2005</td>\n",
       "      <td>2015</td>\n",
       "      <td>2015</td>\n",
       "      <td>2005</td>\n",
       "      <td>2015</td>\n",
       "    </tr>\n",
       "    <tr>\n",
       "      <th>Record</th>\n",
       "      <td>arc.10006.7.xml</td>\n",
       "      <td>arc.10006.7.xml</td>\n",
       "      <td>arc.10081.4.xml</td>\n",
       "      <td>arc.10081.4.xml</td>\n",
       "      <td>arc.10227.2.xml</td>\n",
       "      <td>arc.10227.2.xml</td>\n",
       "      <td>arc.10251.2.xml</td>\n",
       "      <td>arc.10251.2.xml</td>\n",
       "      <td>arc.10333.2.xml</td>\n",
       "      <td>arc.10333.2.xml</td>\n",
       "      <td>...</td>\n",
       "      <td>sbc.1006.8.xml</td>\n",
       "      <td>sbc.5004.5.xml</td>\n",
       "      <td>sbc.5004.5.xml</td>\n",
       "      <td>vcr.113.16.xml</td>\n",
       "      <td>vcr.113.16.xml</td>\n",
       "      <td>vcr.55.14.xml</td>\n",
       "      <td>vcr.55.14.xml</td>\n",
       "      <td>vcr.67.17.xml</td>\n",
       "      <td>vcr.75.23.xml</td>\n",
       "      <td>vcr.75.23.xml</td>\n",
       "    </tr>\n",
       "    <tr>\n",
       "      <th>/eml:eml/@packageId</th>\n",
       "      <td>knb-lter-arc.10006.7</td>\n",
       "      <td>knb-lter-arc.10006.7</td>\n",
       "      <td>knb-lter-arc.10081.4</td>\n",
       "      <td>knb-lter-arc.10081.4</td>\n",
       "      <td>knb-lter-arc.10227.2</td>\n",
       "      <td>knb-lter-arc.10227.2</td>\n",
       "      <td>knb-lter-arc.10251.2</td>\n",
       "      <td>knb-lter-arc.10251.2</td>\n",
       "      <td>knb-lter-arc.10333.2</td>\n",
       "      <td>knb-lter-arc.10333.2</td>\n",
       "      <td>...</td>\n",
       "      <td>knb-lter-sbc.1006.8</td>\n",
       "      <td>knb-lter-sbc.5004.5</td>\n",
       "      <td>knb-lter-sbc.5004.5</td>\n",
       "      <td>knb-lter-vcr.113.16</td>\n",
       "      <td>knb-lter-vcr.113.16</td>\n",
       "      <td>knb-lter-vcr.55.14</td>\n",
       "      <td>knb-lter-vcr.55.14</td>\n",
       "      <td>knb-lter-vcr.67.17</td>\n",
       "      <td>knb-lter-vcr.75.23</td>\n",
       "      <td>knb-lter-vcr.75.23</td>\n",
       "    </tr>\n",
       "    <tr>\n",
       "      <th>/eml:eml/dataset/abstract/para</th>\n",
       "      <td>Leaf area, biomass, foliar carbon and nitrogen by species for destructive vegetation harvests. P...</td>\n",
       "      <td>NaN</td>\n",
       "      <td>Yearly file describing the physical/chemical values recorded at various lakes near Toolik Resear...</td>\n",
       "      <td>Yearly file describing the physical/chemical values recorded at various lakes near Toolik Resear...</td>\n",
       "      <td>Total Chlorophyll a and primary production data for Toolik Lake and surrounding lakes near the A...</td>\n",
       "      <td>Total Chlorophyll a and primary production data for Toolik Lake and surrounding lakes near the A...</td>\n",
       "      <td>Yearly file describing the physical/chemical values recorded at various lakes near Toolik Resear...</td>\n",
       "      <td>Yearly file describing the physical/chemical values recorded at various lakes near Toolik Resear...</td>\n",
       "      <td>Depth profiles of NO3-N NH4-N PO-4, TDN, TDP, PP, PN and PC for lakes at the Arctic LTER Toolik ...</td>\n",
       "      <td>Depth profiles of NO3-N NH4-N PO-4, TDN, TDP, PP, PN and PC for lakes at the Arctic LTER Toolik ...</td>\n",
       "      <td>...</td>\n",
       "      <td>NaN</td>\n",
       "      <td>Precipitation was collected by the Santa Barbara County Flood Control District at Cold Springs B...</td>\n",
       "      <td>Precipitation was collected by the Santa Barbara County Flood Control District at Cold Springs B...</td>\n",
       "      <td>This contains coordinates (UTM zone 18N, NAD27) for permanent vegetation plots on Parramore Isla...</td>\n",
       "      <td>This contains coordinates (UTM zone 18N, NAD27) for permanent vegetation plots on Parramore Isla...</td>\n",
       "      <td>Soil water samples were collected at two depths (15 cm and 50 cm) with porus cup lysimeters from...</td>\n",
       "      <td>Soil water samples were collected at two depths (15 cm and 50 cm) with porus cup lysimeters from...</td>\n",
       "      <td>This is a 20-year record of small mammal trapping from the Powdermill Biological Station, Rector...</td>\n",
       "      <td>This dataset contains information on nutrient concentrations a the Virginia Coast Reserve Long-T...</td>\n",
       "      <td>This dataset contains information on nutrient concentrations a the Virginia Coast Reserve Long-T...</td>\n",
       "    </tr>\n",
       "    <tr>\n",
       "      <th>/eml:eml/dataset/abstract/section/para</th>\n",
       "      <td>NaN</td>\n",
       "      <td>NaN</td>\n",
       "      <td>NaN</td>\n",
       "      <td>NaN</td>\n",
       "      <td>NaN</td>\n",
       "      <td>NaN</td>\n",
       "      <td>NaN</td>\n",
       "      <td>NaN</td>\n",
       "      <td>NaN</td>\n",
       "      <td>NaN</td>\n",
       "      <td>...</td>\n",
       "      <td>The data described here were collected on LTER06 which took place from 2003-02-25 to 2003-03-06 ...</td>\n",
       "      <td>NaN</td>\n",
       "      <td>NaN</td>\n",
       "      <td>NaN</td>\n",
       "      <td>NaN</td>\n",
       "      <td>NaN</td>\n",
       "      <td>NaN</td>\n",
       "      <td>NaN</td>\n",
       "      <td>NaN</td>\n",
       "      <td>NaN</td>\n",
       "    </tr>\n",
       "    <tr>\n",
       "      <th>/eml:eml/dataset/abstract/section/para/literalLayout</th>\n",
       "      <td>NaN</td>\n",
       "      <td>Leaf area, biomass, foliar carbon and nitrogen by species for destructive vegetation harvests. P...</td>\n",
       "      <td>NaN</td>\n",
       "      <td>NaN</td>\n",
       "      <td>NaN</td>\n",
       "      <td>NaN</td>\n",
       "      <td>NaN</td>\n",
       "      <td>NaN</td>\n",
       "      <td>NaN</td>\n",
       "      <td>NaN</td>\n",
       "      <td>...</td>\n",
       "      <td>NaN</td>\n",
       "      <td>NaN</td>\n",
       "      <td>NaN</td>\n",
       "      <td>NaN</td>\n",
       "      <td>NaN</td>\n",
       "      <td>NaN</td>\n",
       "      <td>NaN</td>\n",
       "      <td>NaN</td>\n",
       "      <td>NaN</td>\n",
       "      <td>NaN</td>\n",
       "    </tr>\n",
       "    <tr>\n",
       "      <th>/eml:eml/dataset/abstract/section/title</th>\n",
       "      <td>NaN</td>\n",
       "      <td>NaN</td>\n",
       "      <td>NaN</td>\n",
       "      <td>NaN</td>\n",
       "      <td>NaN</td>\n",
       "      <td>NaN</td>\n",
       "      <td>NaN</td>\n",
       "      <td>NaN</td>\n",
       "      <td>NaN</td>\n",
       "      <td>NaN</td>\n",
       "      <td>...</td>\n",
       "      <td>There are 4 basic types of measurements:</td>\n",
       "      <td>NaN</td>\n",
       "      <td>NaN</td>\n",
       "      <td>NaN</td>\n",
       "      <td>NaN</td>\n",
       "      <td>NaN</td>\n",
       "      <td>NaN</td>\n",
       "      <td>NaN</td>\n",
       "      <td>NaN</td>\n",
       "      <td>NaN</td>\n",
       "    </tr>\n",
       "    <tr>\n",
       "      <th>/eml:eml/dataset/creator/individualName/surName</th>\n",
       "      <td>Shaver</td>\n",
       "      <td>Shaver</td>\n",
       "      <td>Giblin, Luecke, Kling</td>\n",
       "      <td>Giblin, Luecke, Kling</td>\n",
       "      <td>Giblin</td>\n",
       "      <td>Giblin</td>\n",
       "      <td>Miller, Giblin, Kipphut</td>\n",
       "      <td>Miller, Giblin, Kipphut</td>\n",
       "      <td>Giblin, Miller</td>\n",
       "      <td>Giblin, Miller</td>\n",
       "      <td>...</td>\n",
       "      <td>Brzezinski, Carlson, Siegel, Washburn</td>\n",
       "      <td>Melack</td>\n",
       "      <td>Melack</td>\n",
       "      <td>Richardson, Shugart, Porter</td>\n",
       "      <td>Richardson, Shugart, Porter</td>\n",
       "      <td>Day</td>\n",
       "      <td>Day</td>\n",
       "      <td>Merritt</td>\n",
       "      <td>McGlathery, Christian</td>\n",
       "      <td>McGlathery, Christian</td>\n",
       "    </tr>\n",
       "    <tr>\n",
       "      <th>/eml:eml/dataset/keywordSet/keyword</th>\n",
       "      <td>leaf area, normalized difference vegetation index, foliar nitrogen, leaf carbon, carbon to nitro...</td>\n",
       "      <td>specific leaf area, primary production, organic matter, leaves, leaf area, inorganic nutrients, ...</td>\n",
       "      <td>alkalinity, ammonium, anions, aquatic ecosystems, arctic, bacteria, bacterial abundance, biogeoc...</td>\n",
       "      <td>alkalinity, ammonium, anions, aquatic ecosystems, arctic, bacteria, bacterial abundance, biogeoc...</td>\n",
       "      <td>chlorophyll a, pheophytin, arctic lakes, lakes</td>\n",
       "      <td>chlorophyll a, pheophytin, arctic lakes, lakes</td>\n",
       "      <td>chemistry, depth, pH, conductivity, temperature, photosynthetically active radiation, light, dis...</td>\n",
       "      <td>chemistry, depth, pH, conductivity, temperature, photosynthetically active radiation, light, dis...</td>\n",
       "      <td>phosphorus, ammonium, nitrate, total dissolved nitrogen, total dissolved phosphorus, particulate...</td>\n",
       "      <td>phosphorus, ammonium, nitrate, total dissolved nitrogen, total dissolved phosphorus, particulate...</td>\n",
       "      <td>...</td>\n",
       "      <td>LTER, Santa Barbara Coastal, Ocean_biogeochemistry, phytoplankton, UNOLS_cruises, Biomass, Carbo...</td>\n",
       "      <td>hydrology, precipitation, COLDSPRINGS210, Rain, precipitation amount</td>\n",
       "      <td>hydrology, precipitation, COLDSPRINGS210, Rain, precipitation amount</td>\n",
       "      <td>System State/Condition</td>\n",
       "      <td>System State/Condition</td>\n",
       "      <td>Inorganic Nutrients, Disturbance, soil water, nitrogen, fertilization, ammonium, nitrate, phosph...</td>\n",
       "      <td>Inorganic Nutrients, Disturbance, soil water, nitrogen, fertilization, ammonium, nitrate, phosph...</td>\n",
       "      <td>Populations, Biodiversity, populations, small mammals, trapping</td>\n",
       "      <td>Inorganic Nutrients, System State/Condition, nitrogen, phosphorus, nitrite, Ammonium, water qual...</td>\n",
       "      <td>Inorganic Nutrients, System State/Condition, nitrogen, phosphorus, nitrite, Ammonium, water qual...</td>\n",
       "    </tr>\n",
       "    <tr>\n",
       "      <th>/eml:eml/dataset/keywordSet/keyword/@keywordType</th>\n",
       "      <td>NaN</td>\n",
       "      <td>NaN</td>\n",
       "      <td>NaN</td>\n",
       "      <td>NaN</td>\n",
       "      <td>NaN</td>\n",
       "      <td>NaN</td>\n",
       "      <td>NaN</td>\n",
       "      <td>NaN</td>\n",
       "      <td>NaN</td>\n",
       "      <td>NaN</td>\n",
       "      <td>...</td>\n",
       "      <td>theme, theme, theme, theme, theme, theme, theme, theme, theme, theme, theme, theme, theme, theme...</td>\n",
       "      <td>theme, theme, place, theme, theme</td>\n",
       "      <td>theme, theme, place, theme, theme</td>\n",
       "      <td>theme</td>\n",
       "      <td>theme</td>\n",
       "      <td>theme, theme, theme, theme, theme, theme, theme, theme, theme, theme</td>\n",
       "      <td>theme, theme, theme, theme, theme, theme, theme, theme, theme, theme</td>\n",
       "      <td>theme, theme, theme, theme, theme</td>\n",
       "      <td>theme, theme, theme, theme, theme, theme, theme, theme</td>\n",
       "      <td>theme, theme, theme, theme, theme, theme, theme, theme</td>\n",
       "    </tr>\n",
       "    <tr>\n",
       "      <th>/eml:eml/dataset/keywordSet/keywordThesaurus</th>\n",
       "      <td>NaN</td>\n",
       "      <td>LTER Controlled Vocabulary</td>\n",
       "      <td>NaN</td>\n",
       "      <td>NaN</td>\n",
       "      <td>NaN</td>\n",
       "      <td>NaN</td>\n",
       "      <td>NaN</td>\n",
       "      <td>NaN</td>\n",
       "      <td>NaN</td>\n",
       "      <td>NaN</td>\n",
       "      <td>...</td>\n",
       "      <td>Knowledge Network for Biocomplexity, GCMD v6.0.0.0.0 Earth Science: Oceans</td>\n",
       "      <td>Santa Barbara Coastal LTER Places, GCMD v6.0.0.0.0 Atmosphere, Global Change Master Directory (G...</td>\n",
       "      <td>Santa Barbara Coastal LTER Places, GCMD v6.0.0.0.0 Atmosphere, Global Change Master Directory (G...</td>\n",
       "      <td>VCRLTERCoreAreas</td>\n",
       "      <td>VCRLTERCoreAreas</td>\n",
       "      <td>LTERCoreAreas</td>\n",
       "      <td>LTERCoreAreas</td>\n",
       "      <td>LTERCoreAreas, VCRLTERCoreAreas</td>\n",
       "      <td>LTERCoreAreas, VCRLTERCoreAreas</td>\n",
       "      <td>LTERCoreAreas, VCRLTERCoreAreas</td>\n",
       "    </tr>\n",
       "    <tr>\n",
       "      <th>/eml:eml/dataset/pubDate</th>\n",
       "      <td>2010</td>\n",
       "      <td>2015-12-14</td>\n",
       "      <td>2010</td>\n",
       "      <td>2010</td>\n",
       "      <td>1996</td>\n",
       "      <td>1996</td>\n",
       "      <td>1988</td>\n",
       "      <td>1988</td>\n",
       "      <td>1985</td>\n",
       "      <td>1985</td>\n",
       "      <td>...</td>\n",
       "      <td>2010-06-14</td>\n",
       "      <td>2010-06-14</td>\n",
       "      <td>2010-06-14</td>\n",
       "      <td>2004-12-31</td>\n",
       "      <td>2004-12-31</td>\n",
       "      <td>1997-12-31</td>\n",
       "      <td>1997-12-31</td>\n",
       "      <td>1999-12-01</td>\n",
       "      <td>2008-02-19</td>\n",
       "      <td>2008-02-19</td>\n",
       "    </tr>\n",
       "    <tr>\n",
       "      <th>/eml:eml/dataset/title</th>\n",
       "      <td>Leaf area, biomass, carbon and nitrogen content by species for harvests taken as part of the ITE...</td>\n",
       "      <td>Leaf area, biomass, carbon and nitrogen content by species for harvests taken as part of the ITE...</td>\n",
       "      <td>Nutrient and chemical data for various lakes near Toolik Research Station, Arctic LTER, Summer 2...</td>\n",
       "      <td>Nutrient and chemical data for various lakes near Toolik Research Station, Arctic LTER, Summer 2...</td>\n",
       "      <td>Total Chlorophyll a and primary production data for Toolik Lake and surrounding lakes near the A...</td>\n",
       "      <td>Total Chlorophyll a and primary production data for Toolik Lake and surrounding lakes near the A...</td>\n",
       "      <td>Physical and chemical data for various lakes near Toolik Research Station, Arctic LTER. Summer 1...</td>\n",
       "      <td>Physical and chemical data for various lakes near Toolik Research Station, Arctic LTER. Summer 1...</td>\n",
       "      <td>Nutrient and chemical data for various lakes near Toolik Research Station, Arctic LTER, Summer 1...</td>\n",
       "      <td>Nutrient and chemical data for various lakes near Toolik Research Station, Arctic LTER, Summer 1...</td>\n",
       "      <td>...</td>\n",
       "      <td>SBC LTER: CTD profiles from UNOLS cruises in the Santa Barbara Channel: LTER06, 2003-02-25 to 20...</td>\n",
       "      <td>SBC LTER: Land: Hydrology: Santa Barbara County Flood Control District - Precipitation at Cold S...</td>\n",
       "      <td>SBC LTER: Land: Hydrology: Santa Barbara County Flood Control District - Precipitation at Cold S...</td>\n",
       "      <td>Parramore Island of the Virginia Coast Reserve Permanent Plot Baseline Data : Plot Coordinates 1...</td>\n",
       "      <td>Parramore Island of the Virginia Coast Reserve Permanent Plot Baseline Data : Plot Coordinates 1...</td>\n",
       "      <td>Hog Island Soil Water Nutrient Chemistry 1990-1992</td>\n",
       "      <td>Hog Island Soil Water Nutrient Chemistry 1990-1992</td>\n",
       "      <td>Long Term Mammal Data from Powdermill Biological Station 1979-1999</td>\n",
       "      <td>Water Quality of Virginia Coastal Bays- Nutrients</td>\n",
       "      <td>Water Quality of Virginia Coastal Bays- Nutrients</td>\n",
       "    </tr>\n",
       "  </tbody>\n",
       "</table>\n",
       "<p>13 rows × 99 columns</p>\n",
       "</div>"
      ],
      "text/plain": [
       "                                                                                                                                                       15  \\\n",
       "                                                                                                                                                            \n",
       "Collection                                                                                                                                           2006   \n",
       "Record                                                                                                                                    arc.10006.7.xml   \n",
       "/eml:eml/@packageId                                                                                                                  knb-lter-arc.10006.7   \n",
       "/eml:eml/dataset/abstract/para                        Leaf area, biomass, foliar carbon and nitrogen by species for destructive vegetation harvests. P...   \n",
       "/eml:eml/dataset/abstract/section/para                                                                                                                NaN   \n",
       "/eml:eml/dataset/abstract/section/para/literalLayout                                                                                                  NaN   \n",
       "/eml:eml/dataset/abstract/section/title                                                                                                               NaN   \n",
       "/eml:eml/dataset/creator/individualName/surName                                                                                                    Shaver   \n",
       "/eml:eml/dataset/keywordSet/keyword                   leaf area, normalized difference vegetation index, foliar nitrogen, leaf carbon, carbon to nitro...   \n",
       "/eml:eml/dataset/keywordSet/keyword/@keywordType                                                                                                      NaN   \n",
       "/eml:eml/dataset/keywordSet/keywordThesaurus                                                                                                          NaN   \n",
       "/eml:eml/dataset/pubDate                                                                                                                             2010   \n",
       "/eml:eml/dataset/title                                Leaf area, biomass, carbon and nitrogen content by species for harvests taken as part of the ITE...   \n",
       "\n",
       "                                                                                                                                                       95  \\\n",
       "                                                                                                                                                            \n",
       "Collection                                                                                                                                           2016   \n",
       "Record                                                                                                                                    arc.10006.7.xml   \n",
       "/eml:eml/@packageId                                                                                                                  knb-lter-arc.10006.7   \n",
       "/eml:eml/dataset/abstract/para                                                                                                                        NaN   \n",
       "/eml:eml/dataset/abstract/section/para                                                                                                                NaN   \n",
       "/eml:eml/dataset/abstract/section/para/literalLayout  Leaf area, biomass, foliar carbon and nitrogen by species for destructive vegetation harvests. P...   \n",
       "/eml:eml/dataset/abstract/section/title                                                                                                               NaN   \n",
       "/eml:eml/dataset/creator/individualName/surName                                                                                                    Shaver   \n",
       "/eml:eml/dataset/keywordSet/keyword                   specific leaf area, primary production, organic matter, leaves, leaf area, inorganic nutrients, ...   \n",
       "/eml:eml/dataset/keywordSet/keyword/@keywordType                                                                                                      NaN   \n",
       "/eml:eml/dataset/keywordSet/keywordThesaurus                                                                                   LTER Controlled Vocabulary   \n",
       "/eml:eml/dataset/pubDate                                                                                                                       2015-12-14   \n",
       "/eml:eml/dataset/title                                Leaf area, biomass, carbon and nitrogen content by species for harvests taken as part of the ITE...   \n",
       "\n",
       "                                                                                                                                                       27  \\\n",
       "                                                                                                                                                            \n",
       "Collection                                                                                                                                           2010   \n",
       "Record                                                                                                                                    arc.10081.4.xml   \n",
       "/eml:eml/@packageId                                                                                                                  knb-lter-arc.10081.4   \n",
       "/eml:eml/dataset/abstract/para                        Yearly file describing the physical/chemical values recorded at various lakes near Toolik Resear...   \n",
       "/eml:eml/dataset/abstract/section/para                                                                                                                NaN   \n",
       "/eml:eml/dataset/abstract/section/para/literalLayout                                                                                                  NaN   \n",
       "/eml:eml/dataset/abstract/section/title                                                                                                               NaN   \n",
       "/eml:eml/dataset/creator/individualName/surName                                                                                     Giblin, Luecke, Kling   \n",
       "/eml:eml/dataset/keywordSet/keyword                   alkalinity, ammonium, anions, aquatic ecosystems, arctic, bacteria, bacterial abundance, biogeoc...   \n",
       "/eml:eml/dataset/keywordSet/keyword/@keywordType                                                                                                      NaN   \n",
       "/eml:eml/dataset/keywordSet/keywordThesaurus                                                                                                          NaN   \n",
       "/eml:eml/dataset/pubDate                                                                                                                             2010   \n",
       "/eml:eml/dataset/title                                Nutrient and chemical data for various lakes near Toolik Research Station, Arctic LTER, Summer 2...   \n",
       "\n",
       "                                                                                                                                                       48  \\\n",
       "                                                                                                                                                            \n",
       "Collection                                                                                                                                           2015   \n",
       "Record                                                                                                                                    arc.10081.4.xml   \n",
       "/eml:eml/@packageId                                                                                                                  knb-lter-arc.10081.4   \n",
       "/eml:eml/dataset/abstract/para                        Yearly file describing the physical/chemical values recorded at various lakes near Toolik Resear...   \n",
       "/eml:eml/dataset/abstract/section/para                                                                                                                NaN   \n",
       "/eml:eml/dataset/abstract/section/para/literalLayout                                                                                                  NaN   \n",
       "/eml:eml/dataset/abstract/section/title                                                                                                               NaN   \n",
       "/eml:eml/dataset/creator/individualName/surName                                                                                     Giblin, Luecke, Kling   \n",
       "/eml:eml/dataset/keywordSet/keyword                   alkalinity, ammonium, anions, aquatic ecosystems, arctic, bacteria, bacterial abundance, biogeoc...   \n",
       "/eml:eml/dataset/keywordSet/keyword/@keywordType                                                                                                      NaN   \n",
       "/eml:eml/dataset/keywordSet/keywordThesaurus                                                                                                          NaN   \n",
       "/eml:eml/dataset/pubDate                                                                                                                             2010   \n",
       "/eml:eml/dataset/title                                Nutrient and chemical data for various lakes near Toolik Research Station, Arctic LTER, Summer 2...   \n",
       "\n",
       "                                                                                                                                                       37  \\\n",
       "                                                                                                                                                            \n",
       "Collection                                                                                                                                           2013   \n",
       "Record                                                                                                                                    arc.10227.2.xml   \n",
       "/eml:eml/@packageId                                                                                                                  knb-lter-arc.10227.2   \n",
       "/eml:eml/dataset/abstract/para                        Total Chlorophyll a and primary production data for Toolik Lake and surrounding lakes near the A...   \n",
       "/eml:eml/dataset/abstract/section/para                                                                                                                NaN   \n",
       "/eml:eml/dataset/abstract/section/para/literalLayout                                                                                                  NaN   \n",
       "/eml:eml/dataset/abstract/section/title                                                                                                               NaN   \n",
       "/eml:eml/dataset/creator/individualName/surName                                                                                                    Giblin   \n",
       "/eml:eml/dataset/keywordSet/keyword                                                                        chlorophyll a, pheophytin, arctic lakes, lakes   \n",
       "/eml:eml/dataset/keywordSet/keyword/@keywordType                                                                                                      NaN   \n",
       "/eml:eml/dataset/keywordSet/keywordThesaurus                                                                                                          NaN   \n",
       "/eml:eml/dataset/pubDate                                                                                                                             1996   \n",
       "/eml:eml/dataset/title                                Total Chlorophyll a and primary production data for Toolik Lake and surrounding lakes near the A...   \n",
       "\n",
       "                                                                                                                                                       49  \\\n",
       "                                                                                                                                                            \n",
       "Collection                                                                                                                                           2015   \n",
       "Record                                                                                                                                    arc.10227.2.xml   \n",
       "/eml:eml/@packageId                                                                                                                  knb-lter-arc.10227.2   \n",
       "/eml:eml/dataset/abstract/para                        Total Chlorophyll a and primary production data for Toolik Lake and surrounding lakes near the A...   \n",
       "/eml:eml/dataset/abstract/section/para                                                                                                                NaN   \n",
       "/eml:eml/dataset/abstract/section/para/literalLayout                                                                                                  NaN   \n",
       "/eml:eml/dataset/abstract/section/title                                                                                                               NaN   \n",
       "/eml:eml/dataset/creator/individualName/surName                                                                                                    Giblin   \n",
       "/eml:eml/dataset/keywordSet/keyword                                                                        chlorophyll a, pheophytin, arctic lakes, lakes   \n",
       "/eml:eml/dataset/keywordSet/keyword/@keywordType                                                                                                      NaN   \n",
       "/eml:eml/dataset/keywordSet/keywordThesaurus                                                                                                          NaN   \n",
       "/eml:eml/dataset/pubDate                                                                                                                             1996   \n",
       "/eml:eml/dataset/title                                Total Chlorophyll a and primary production data for Toolik Lake and surrounding lakes near the A...   \n",
       "\n",
       "                                                                                                                                                       38  \\\n",
       "                                                                                                                                                            \n",
       "Collection                                                                                                                                           2013   \n",
       "Record                                                                                                                                    arc.10251.2.xml   \n",
       "/eml:eml/@packageId                                                                                                                  knb-lter-arc.10251.2   \n",
       "/eml:eml/dataset/abstract/para                        Yearly file describing the physical/chemical values recorded at various lakes near Toolik Resear...   \n",
       "/eml:eml/dataset/abstract/section/para                                                                                                                NaN   \n",
       "/eml:eml/dataset/abstract/section/para/literalLayout                                                                                                  NaN   \n",
       "/eml:eml/dataset/abstract/section/title                                                                                                               NaN   \n",
       "/eml:eml/dataset/creator/individualName/surName                                                                                   Miller, Giblin, Kipphut   \n",
       "/eml:eml/dataset/keywordSet/keyword                   chemistry, depth, pH, conductivity, temperature, photosynthetically active radiation, light, dis...   \n",
       "/eml:eml/dataset/keywordSet/keyword/@keywordType                                                                                                      NaN   \n",
       "/eml:eml/dataset/keywordSet/keywordThesaurus                                                                                                          NaN   \n",
       "/eml:eml/dataset/pubDate                                                                                                                             1988   \n",
       "/eml:eml/dataset/title                                Physical and chemical data for various lakes near Toolik Research Station, Arctic LTER. Summer 1...   \n",
       "\n",
       "                                                                                                                                                       50  \\\n",
       "                                                                                                                                                            \n",
       "Collection                                                                                                                                           2015   \n",
       "Record                                                                                                                                    arc.10251.2.xml   \n",
       "/eml:eml/@packageId                                                                                                                  knb-lter-arc.10251.2   \n",
       "/eml:eml/dataset/abstract/para                        Yearly file describing the physical/chemical values recorded at various lakes near Toolik Resear...   \n",
       "/eml:eml/dataset/abstract/section/para                                                                                                                NaN   \n",
       "/eml:eml/dataset/abstract/section/para/literalLayout                                                                                                  NaN   \n",
       "/eml:eml/dataset/abstract/section/title                                                                                                               NaN   \n",
       "/eml:eml/dataset/creator/individualName/surName                                                                                   Miller, Giblin, Kipphut   \n",
       "/eml:eml/dataset/keywordSet/keyword                   chemistry, depth, pH, conductivity, temperature, photosynthetically active radiation, light, dis...   \n",
       "/eml:eml/dataset/keywordSet/keyword/@keywordType                                                                                                      NaN   \n",
       "/eml:eml/dataset/keywordSet/keywordThesaurus                                                                                                          NaN   \n",
       "/eml:eml/dataset/pubDate                                                                                                                             1988   \n",
       "/eml:eml/dataset/title                                Physical and chemical data for various lakes near Toolik Research Station, Arctic LTER. Summer 1...   \n",
       "\n",
       "                                                                                                                                                       39  \\\n",
       "                                                                                                                                                            \n",
       "Collection                                                                                                                                           2013   \n",
       "Record                                                                                                                                    arc.10333.2.xml   \n",
       "/eml:eml/@packageId                                                                                                                  knb-lter-arc.10333.2   \n",
       "/eml:eml/dataset/abstract/para                        Depth profiles of NO3-N NH4-N PO-4, TDN, TDP, PP, PN and PC for lakes at the Arctic LTER Toolik ...   \n",
       "/eml:eml/dataset/abstract/section/para                                                                                                                NaN   \n",
       "/eml:eml/dataset/abstract/section/para/literalLayout                                                                                                  NaN   \n",
       "/eml:eml/dataset/abstract/section/title                                                                                                               NaN   \n",
       "/eml:eml/dataset/creator/individualName/surName                                                                                            Giblin, Miller   \n",
       "/eml:eml/dataset/keywordSet/keyword                   phosphorus, ammonium, nitrate, total dissolved nitrogen, total dissolved phosphorus, particulate...   \n",
       "/eml:eml/dataset/keywordSet/keyword/@keywordType                                                                                                      NaN   \n",
       "/eml:eml/dataset/keywordSet/keywordThesaurus                                                                                                          NaN   \n",
       "/eml:eml/dataset/pubDate                                                                                                                             1985   \n",
       "/eml:eml/dataset/title                                Nutrient and chemical data for various lakes near Toolik Research Station, Arctic LTER, Summer 1...   \n",
       "\n",
       "                                                                                                                                                       51  \\\n",
       "                                                                                                                                                            \n",
       "Collection                                                                                                                                           2015   \n",
       "Record                                                                                                                                    arc.10333.2.xml   \n",
       "/eml:eml/@packageId                                                                                                                  knb-lter-arc.10333.2   \n",
       "/eml:eml/dataset/abstract/para                        Depth profiles of NO3-N NH4-N PO-4, TDN, TDP, PP, PN and PC for lakes at the Arctic LTER Toolik ...   \n",
       "/eml:eml/dataset/abstract/section/para                                                                                                                NaN   \n",
       "/eml:eml/dataset/abstract/section/para/literalLayout                                                                                                  NaN   \n",
       "/eml:eml/dataset/abstract/section/title                                                                                                               NaN   \n",
       "/eml:eml/dataset/creator/individualName/surName                                                                                            Giblin, Miller   \n",
       "/eml:eml/dataset/keywordSet/keyword                   phosphorus, ammonium, nitrate, total dissolved nitrogen, total dissolved phosphorus, particulate...   \n",
       "/eml:eml/dataset/keywordSet/keyword/@keywordType                                                                                                      NaN   \n",
       "/eml:eml/dataset/keywordSet/keywordThesaurus                                                                                                          NaN   \n",
       "/eml:eml/dataset/pubDate                                                                                                                             1985   \n",
       "/eml:eml/dataset/title                                Nutrient and chemical data for various lakes near Toolik Research Station, Arctic LTER, Summer 1...   \n",
       "\n",
       "                                                                                                     ...                                                   \\\n",
       "                                                                                                     ...                                                    \n",
       "Collection                                                                                           ...                                                    \n",
       "Record                                                                                               ...                                                    \n",
       "/eml:eml/@packageId                                                                                  ...                                                    \n",
       "/eml:eml/dataset/abstract/para                                                                       ...                                                    \n",
       "/eml:eml/dataset/abstract/section/para                                                               ...                                                    \n",
       "/eml:eml/dataset/abstract/section/para/literalLayout                                                 ...                                                    \n",
       "/eml:eml/dataset/abstract/section/title                                                              ...                                                    \n",
       "/eml:eml/dataset/creator/individualName/surName                                                      ...                                                    \n",
       "/eml:eml/dataset/keywordSet/keyword                                                                  ...                                                    \n",
       "/eml:eml/dataset/keywordSet/keyword/@keywordType                                                     ...                                                    \n",
       "/eml:eml/dataset/keywordSet/keywordThesaurus                                                         ...                                                    \n",
       "/eml:eml/dataset/pubDate                                                                             ...                                                    \n",
       "/eml:eml/dataset/title                                                                               ...                                                    \n",
       "\n",
       "                                                                                                                                                       89  \\\n",
       "                                                                                                                                                            \n",
       "Collection                                                                                                                                           2015   \n",
       "Record                                                                                                                                     sbc.1006.8.xml   \n",
       "/eml:eml/@packageId                                                                                                                   knb-lter-sbc.1006.8   \n",
       "/eml:eml/dataset/abstract/para                                                                                                                        NaN   \n",
       "/eml:eml/dataset/abstract/section/para                The data described here were collected on LTER06 which took place from 2003-02-25 to 2003-03-06 ...   \n",
       "/eml:eml/dataset/abstract/section/para/literalLayout                                                                                                  NaN   \n",
       "/eml:eml/dataset/abstract/section/title                                                                          There are 4 basic types of measurements:   \n",
       "/eml:eml/dataset/creator/individualName/surName                                                                     Brzezinski, Carlson, Siegel, Washburn   \n",
       "/eml:eml/dataset/keywordSet/keyword                   LTER, Santa Barbara Coastal, Ocean_biogeochemistry, phytoplankton, UNOLS_cruises, Biomass, Carbo...   \n",
       "/eml:eml/dataset/keywordSet/keyword/@keywordType      theme, theme, theme, theme, theme, theme, theme, theme, theme, theme, theme, theme, theme, theme...   \n",
       "/eml:eml/dataset/keywordSet/keywordThesaurus                                   Knowledge Network for Biocomplexity, GCMD v6.0.0.0.0 Earth Science: Oceans   \n",
       "/eml:eml/dataset/pubDate                                                                                                                       2010-06-14   \n",
       "/eml:eml/dataset/title                                SBC LTER: CTD profiles from UNOLS cruises in the Santa Barbara Channel: LTER06, 2003-02-25 to 20...   \n",
       "\n",
       "                                                                                                                                                       26  \\\n",
       "                                                                                                                                                            \n",
       "Collection                                                                                                                                           2009   \n",
       "Record                                                                                                                                     sbc.5004.5.xml   \n",
       "/eml:eml/@packageId                                                                                                                   knb-lter-sbc.5004.5   \n",
       "/eml:eml/dataset/abstract/para                        Precipitation was collected by the Santa Barbara County Flood Control District at Cold Springs B...   \n",
       "/eml:eml/dataset/abstract/section/para                                                                                                                NaN   \n",
       "/eml:eml/dataset/abstract/section/para/literalLayout                                                                                                  NaN   \n",
       "/eml:eml/dataset/abstract/section/title                                                                                                               NaN   \n",
       "/eml:eml/dataset/creator/individualName/surName                                                                                                    Melack   \n",
       "/eml:eml/dataset/keywordSet/keyword                                                  hydrology, precipitation, COLDSPRINGS210, Rain, precipitation amount   \n",
       "/eml:eml/dataset/keywordSet/keyword/@keywordType                                                                        theme, theme, place, theme, theme   \n",
       "/eml:eml/dataset/keywordSet/keywordThesaurus          Santa Barbara Coastal LTER Places, GCMD v6.0.0.0.0 Atmosphere, Global Change Master Directory (G...   \n",
       "/eml:eml/dataset/pubDate                                                                                                                       2010-06-14   \n",
       "/eml:eml/dataset/title                                SBC LTER: Land: Hydrology: Santa Barbara County Flood Control District - Precipitation at Cold S...   \n",
       "\n",
       "                                                                                                                                                       90  \\\n",
       "                                                                                                                                                            \n",
       "Collection                                                                                                                                           2015   \n",
       "Record                                                                                                                                     sbc.5004.5.xml   \n",
       "/eml:eml/@packageId                                                                                                                   knb-lter-sbc.5004.5   \n",
       "/eml:eml/dataset/abstract/para                        Precipitation was collected by the Santa Barbara County Flood Control District at Cold Springs B...   \n",
       "/eml:eml/dataset/abstract/section/para                                                                                                                NaN   \n",
       "/eml:eml/dataset/abstract/section/para/literalLayout                                                                                                  NaN   \n",
       "/eml:eml/dataset/abstract/section/title                                                                                                               NaN   \n",
       "/eml:eml/dataset/creator/individualName/surName                                                                                                    Melack   \n",
       "/eml:eml/dataset/keywordSet/keyword                                                  hydrology, precipitation, COLDSPRINGS210, Rain, precipitation amount   \n",
       "/eml:eml/dataset/keywordSet/keyword/@keywordType                                                                        theme, theme, place, theme, theme   \n",
       "/eml:eml/dataset/keywordSet/keywordThesaurus          Santa Barbara Coastal LTER Places, GCMD v6.0.0.0.0 Atmosphere, Global Change Master Directory (G...   \n",
       "/eml:eml/dataset/pubDate                                                                                                                       2010-06-14   \n",
       "/eml:eml/dataset/title                                SBC LTER: Land: Hydrology: Santa Barbara County Flood Control District - Precipitation at Cold S...   \n",
       "\n",
       "                                                                                                                                                       12  \\\n",
       "                                                                                                                                                            \n",
       "Collection                                                                                                                                           2005   \n",
       "Record                                                                                                                                     vcr.113.16.xml   \n",
       "/eml:eml/@packageId                                                                                                                   knb-lter-vcr.113.16   \n",
       "/eml:eml/dataset/abstract/para                        This contains coordinates (UTM zone 18N, NAD27) for permanent vegetation plots on Parramore Isla...   \n",
       "/eml:eml/dataset/abstract/section/para                                                                                                                NaN   \n",
       "/eml:eml/dataset/abstract/section/para/literalLayout                                                                                                  NaN   \n",
       "/eml:eml/dataset/abstract/section/title                                                                                                               NaN   \n",
       "/eml:eml/dataset/creator/individualName/surName                                                                               Richardson, Shugart, Porter   \n",
       "/eml:eml/dataset/keywordSet/keyword                                                                                                System State/Condition   \n",
       "/eml:eml/dataset/keywordSet/keyword/@keywordType                                                                                                    theme   \n",
       "/eml:eml/dataset/keywordSet/keywordThesaurus                                                                                             VCRLTERCoreAreas   \n",
       "/eml:eml/dataset/pubDate                                                                                                                       2004-12-31   \n",
       "/eml:eml/dataset/title                                Parramore Island of the Virginia Coast Reserve Permanent Plot Baseline Data : Plot Coordinates 1...   \n",
       "\n",
       "                                                                                                                                                       91  \\\n",
       "                                                                                                                                                            \n",
       "Collection                                                                                                                                           2015   \n",
       "Record                                                                                                                                     vcr.113.16.xml   \n",
       "/eml:eml/@packageId                                                                                                                   knb-lter-vcr.113.16   \n",
       "/eml:eml/dataset/abstract/para                        This contains coordinates (UTM zone 18N, NAD27) for permanent vegetation plots on Parramore Isla...   \n",
       "/eml:eml/dataset/abstract/section/para                                                                                                                NaN   \n",
       "/eml:eml/dataset/abstract/section/para/literalLayout                                                                                                  NaN   \n",
       "/eml:eml/dataset/abstract/section/title                                                                                                               NaN   \n",
       "/eml:eml/dataset/creator/individualName/surName                                                                               Richardson, Shugart, Porter   \n",
       "/eml:eml/dataset/keywordSet/keyword                                                                                                System State/Condition   \n",
       "/eml:eml/dataset/keywordSet/keyword/@keywordType                                                                                                    theme   \n",
       "/eml:eml/dataset/keywordSet/keywordThesaurus                                                                                             VCRLTERCoreAreas   \n",
       "/eml:eml/dataset/pubDate                                                                                                                       2004-12-31   \n",
       "/eml:eml/dataset/title                                Parramore Island of the Virginia Coast Reserve Permanent Plot Baseline Data : Plot Coordinates 1...   \n",
       "\n",
       "                                                                                                                                                       13  \\\n",
       "                                                                                                                                                            \n",
       "Collection                                                                                                                                           2005   \n",
       "Record                                                                                                                                      vcr.55.14.xml   \n",
       "/eml:eml/@packageId                                                                                                                    knb-lter-vcr.55.14   \n",
       "/eml:eml/dataset/abstract/para                        Soil water samples were collected at two depths (15 cm and 50 cm) with porus cup lysimeters from...   \n",
       "/eml:eml/dataset/abstract/section/para                                                                                                                NaN   \n",
       "/eml:eml/dataset/abstract/section/para/literalLayout                                                                                                  NaN   \n",
       "/eml:eml/dataset/abstract/section/title                                                                                                               NaN   \n",
       "/eml:eml/dataset/creator/individualName/surName                                                                                                       Day   \n",
       "/eml:eml/dataset/keywordSet/keyword                   Inorganic Nutrients, Disturbance, soil water, nitrogen, fertilization, ammonium, nitrate, phosph...   \n",
       "/eml:eml/dataset/keywordSet/keyword/@keywordType                                     theme, theme, theme, theme, theme, theme, theme, theme, theme, theme   \n",
       "/eml:eml/dataset/keywordSet/keywordThesaurus                                                                                                LTERCoreAreas   \n",
       "/eml:eml/dataset/pubDate                                                                                                                       1997-12-31   \n",
       "/eml:eml/dataset/title                                                                                 Hog Island Soil Water Nutrient Chemistry 1990-1992   \n",
       "\n",
       "                                                                                                                                                       92  \\\n",
       "                                                                                                                                                            \n",
       "Collection                                                                                                                                           2015   \n",
       "Record                                                                                                                                      vcr.55.14.xml   \n",
       "/eml:eml/@packageId                                                                                                                    knb-lter-vcr.55.14   \n",
       "/eml:eml/dataset/abstract/para                        Soil water samples were collected at two depths (15 cm and 50 cm) with porus cup lysimeters from...   \n",
       "/eml:eml/dataset/abstract/section/para                                                                                                                NaN   \n",
       "/eml:eml/dataset/abstract/section/para/literalLayout                                                                                                  NaN   \n",
       "/eml:eml/dataset/abstract/section/title                                                                                                               NaN   \n",
       "/eml:eml/dataset/creator/individualName/surName                                                                                                       Day   \n",
       "/eml:eml/dataset/keywordSet/keyword                   Inorganic Nutrients, Disturbance, soil water, nitrogen, fertilization, ammonium, nitrate, phosph...   \n",
       "/eml:eml/dataset/keywordSet/keyword/@keywordType                                     theme, theme, theme, theme, theme, theme, theme, theme, theme, theme   \n",
       "/eml:eml/dataset/keywordSet/keywordThesaurus                                                                                                LTERCoreAreas   \n",
       "/eml:eml/dataset/pubDate                                                                                                                       1997-12-31   \n",
       "/eml:eml/dataset/title                                                                                 Hog Island Soil Water Nutrient Chemistry 1990-1992   \n",
       "\n",
       "                                                                                                                                                       93  \\\n",
       "                                                                                                                                                            \n",
       "Collection                                                                                                                                           2015   \n",
       "Record                                                                                                                                      vcr.67.17.xml   \n",
       "/eml:eml/@packageId                                                                                                                    knb-lter-vcr.67.17   \n",
       "/eml:eml/dataset/abstract/para                        This is a 20-year record of small mammal trapping from the Powdermill Biological Station, Rector...   \n",
       "/eml:eml/dataset/abstract/section/para                                                                                                                NaN   \n",
       "/eml:eml/dataset/abstract/section/para/literalLayout                                                                                                  NaN   \n",
       "/eml:eml/dataset/abstract/section/title                                                                                                               NaN   \n",
       "/eml:eml/dataset/creator/individualName/surName                                                                                                   Merritt   \n",
       "/eml:eml/dataset/keywordSet/keyword                                                       Populations, Biodiversity, populations, small mammals, trapping   \n",
       "/eml:eml/dataset/keywordSet/keyword/@keywordType                                                                        theme, theme, theme, theme, theme   \n",
       "/eml:eml/dataset/keywordSet/keywordThesaurus                                                                              LTERCoreAreas, VCRLTERCoreAreas   \n",
       "/eml:eml/dataset/pubDate                                                                                                                       1999-12-01   \n",
       "/eml:eml/dataset/title                                                                 Long Term Mammal Data from Powdermill Biological Station 1979-1999   \n",
       "\n",
       "                                                                                                                                                       14  \\\n",
       "                                                                                                                                                            \n",
       "Collection                                                                                                                                           2005   \n",
       "Record                                                                                                                                      vcr.75.23.xml   \n",
       "/eml:eml/@packageId                                                                                                                    knb-lter-vcr.75.23   \n",
       "/eml:eml/dataset/abstract/para                        This dataset contains information on nutrient concentrations a the Virginia Coast Reserve Long-T...   \n",
       "/eml:eml/dataset/abstract/section/para                                                                                                                NaN   \n",
       "/eml:eml/dataset/abstract/section/para/literalLayout                                                                                                  NaN   \n",
       "/eml:eml/dataset/abstract/section/title                                                                                                               NaN   \n",
       "/eml:eml/dataset/creator/individualName/surName                                                                                     McGlathery, Christian   \n",
       "/eml:eml/dataset/keywordSet/keyword                   Inorganic Nutrients, System State/Condition, nitrogen, phosphorus, nitrite, Ammonium, water qual...   \n",
       "/eml:eml/dataset/keywordSet/keyword/@keywordType                                                   theme, theme, theme, theme, theme, theme, theme, theme   \n",
       "/eml:eml/dataset/keywordSet/keywordThesaurus                                                                              LTERCoreAreas, VCRLTERCoreAreas   \n",
       "/eml:eml/dataset/pubDate                                                                                                                       2008-02-19   \n",
       "/eml:eml/dataset/title                                                                                  Water Quality of Virginia Coastal Bays- Nutrients   \n",
       "\n",
       "                                                                                                                                                       94  \n",
       "                                                                                                                                                           \n",
       "Collection                                                                                                                                           2015  \n",
       "Record                                                                                                                                      vcr.75.23.xml  \n",
       "/eml:eml/@packageId                                                                                                                    knb-lter-vcr.75.23  \n",
       "/eml:eml/dataset/abstract/para                        This dataset contains information on nutrient concentrations a the Virginia Coast Reserve Long-T...  \n",
       "/eml:eml/dataset/abstract/section/para                                                                                                                NaN  \n",
       "/eml:eml/dataset/abstract/section/para/literalLayout                                                                                                  NaN  \n",
       "/eml:eml/dataset/abstract/section/title                                                                                                               NaN  \n",
       "/eml:eml/dataset/creator/individualName/surName                                                                                     McGlathery, Christian  \n",
       "/eml:eml/dataset/keywordSet/keyword                   Inorganic Nutrients, System State/Condition, nitrogen, phosphorus, nitrite, Ammonium, water qual...  \n",
       "/eml:eml/dataset/keywordSet/keyword/@keywordType                                                   theme, theme, theme, theme, theme, theme, theme, theme  \n",
       "/eml:eml/dataset/keywordSet/keywordThesaurus                                                                              LTERCoreAreas, VCRLTERCoreAreas  \n",
       "/eml:eml/dataset/pubDate                                                                                                                       2008-02-19  \n",
       "/eml:eml/dataset/title                                                                                  Water Quality of Virginia Coastal Bays- Nutrients  \n",
       "\n",
       "[13 rows x 99 columns]"
      ]
     },
     "execution_count": 19,
     "metadata": {},
     "output_type": "execute_result"
    }
   ],
   "source": [
    "# use xsl to evaluate each XML year collection\n",
    "\n",
    "os.makedirs(\"../data/duplicateIdentifiers\", exist_ok=True)\n",
    "for Year in UniqueDuplicatedIDdf.Year.unique().tolist():\n",
    "    cmd = [\"/usr/bin/java\",\n",
    "           '-jar', \"../scripts/saxon-b-9.0.jar\",\n",
    "           '-xsl:' + \"../scripts/AllNodes.xsl\",\n",
    "           '-s:' + \"../scripts/dummy.xml\",\n",
    "           '-o:' + \"../data/duplicateIdentifiers/\"+ str(Year) + \"_XpathEvaluated.csv\",\n",
    "           'recordSetPath=' + \"../collections/duplicateIdentifiers/\" + str(Year) + \"/\"]\n",
    " \n",
    "    subprocess.run(' '.join(cmd), shell=True, check=True)\n",
    "\n",
    "pd.set_option('max_colwidth',100)\n",
    "\n",
    "# create a pattern to identify common citation concepts\n",
    "\n",
    "LTERrecElementSample = ['/eml:eml/@packageId',\n",
    " '/eml:eml/dataset/title',\n",
    " '/eml:eml/dataset/creator/individualName/surName',\n",
    " '/eml:eml/dataset/pubDate',\n",
    " '/eml:eml/dataset/abstract',\n",
    " '/eml:eml/dataset/keywordSet/keyword']\n",
    "\n",
    "LTERrecElementsPattern = '|'.join(LTERrecElementSample)\n",
    "\n",
    "# combine data from csv into one dataframe\n",
    "CombinedDataDF = pd.concat(map(pd.read_csv, glob.glob(os.path.join('', \"../data/duplicateIdentifiers/\", \"*.csv\"))))\n",
    "CombinedDataDF_LTERsample = CombinedDataDF[CombinedDataDF[\"XPath\"].str.contains(LTERrecElementsPattern)]\n",
    "XpathContent = md.recordXpathContent(CombinedDataDF_LTERsample)\n",
    "RecordVerticalsDF = XpathContent.sort_values(by=['Record','Collection'])\n",
    "RecordVerticalsDF.transpose()"
   ]
  },
  {
   "cell_type": "markdown",
   "metadata": {},
   "source": [
    "### Records do share common content\n",
    "\n",
    "But they are not exactly the same records. Occasionally there are slight differences in element usage in the different versions, but a more in-depth survey of elements in the two records show no difference in the content for the metadata concept other than dataset access information being about Pasta, and the elements used in abstract.\n",
    "\n",
    "So now we see that the records are actually slightly different, but not over the content that a DataONE user is likely to search over. This is a problem because potentially useful datasets will get pushed out of the top results by all of the repetitions and unobsoleted records. \n",
    "\n",
    "While this may have to do with the way that the membernode uploaded the metadata, it clearly shows that metadata curation needs an EAR not just for the creator, but centralized repositories need to turn a listening EAR to the collections they recieve as well so they can best serve their users with accurate results the user can trust.\n",
    "\n",
    "Since we are interested in records created and uploaded in particular years, these repeated records do not add clarity, and thus we will not add them. If records were merely new versions and LTER continued to use the Solr obsoletedBy element, or this massive reupload didnt reupload previously obsoleted records alongside the most current new version, I could see including them in the year collection for a site, but I'd rather get a clear picture of the metadata created in those years as it contains the time when Pasta came on line and LTER made a big push to improve their metadata records for the data packages they share through DataONE. LEt's check to see if anyone is obsoleting records anymore, and try to create a set of requests that still contain data on the years 2015-2018.\n",
    "\n",
    "#### Are any of the records created after 2014 in the original dataframe obsoleted by any other record?\n",
    "\n",
    "As we can see from the results below, a couple of the LTER sites have continued to obsolete records in the DataONE holdings, but no groups obsoleted the previous versions of the records we've identified as reintroduced in 2015"
   ]
  },
  {
   "cell_type": "code",
   "execution_count": 20,
   "metadata": {},
   "outputs": [
    {
     "data": {
      "text/html": [
       "<div>\n",
       "<style scoped>\n",
       "    .dataframe tbody tr th:only-of-type {\n",
       "        vertical-align: middle;\n",
       "    }\n",
       "\n",
       "    .dataframe tbody tr th {\n",
       "        vertical-align: top;\n",
       "    }\n",
       "\n",
       "    .dataframe thead th {\n",
       "        text-align: right;\n",
       "    }\n",
       "</style>\n",
       "<table border=\"1\" class=\"dataframe\">\n",
       "  <thead>\n",
       "    <tr style=\"text-align: right;\">\n",
       "      <th></th>\n",
       "      <th>baseIDyear</th>\n",
       "      <th>Identifier</th>\n",
       "      <th>Year</th>\n",
       "      <th>ObsoletedByID</th>\n",
       "      <th>dataUrl</th>\n",
       "    </tr>\n",
       "  </thead>\n",
       "  <tbody>\n",
       "    <tr>\n",
       "      <th>4349</th>\n",
       "      <td>arc.20036</td>\n",
       "      <td>arc.20036.3</td>\n",
       "      <td>2017</td>\n",
       "      <td>arc.20036.4</td>\n",
       "      <td>https://cn.dataone.org/cn/v2/resolve/https%3A%2F%2Fpasta.lternet.edu%2Fpackage%2Fmetadata%2Feml%...</td>\n",
       "    </tr>\n",
       "    <tr>\n",
       "      <th>4769</th>\n",
       "      <td>bnz.414</td>\n",
       "      <td>bnz.414.9</td>\n",
       "      <td>2015</td>\n",
       "      <td>bnz.414.10</td>\n",
       "      <td>https://cn.dataone.org/cn/v2/resolve/knb-lter-bnz.414.9</td>\n",
       "    </tr>\n",
       "    <tr>\n",
       "      <th>4770</th>\n",
       "      <td>bnz.451</td>\n",
       "      <td>bnz.451.10</td>\n",
       "      <td>2015</td>\n",
       "      <td>bnz.451.11</td>\n",
       "      <td>https://cn.dataone.org/cn/v2/resolve/knb-lter-bnz.451.10</td>\n",
       "    </tr>\n",
       "    <tr>\n",
       "      <th>4771</th>\n",
       "      <td>bnz.451</td>\n",
       "      <td>bnz.451.12</td>\n",
       "      <td>2015</td>\n",
       "      <td>bnz.451.14</td>\n",
       "      <td>https://cn.dataone.org/cn/v2/resolve/knb-lter-bnz.451.12</td>\n",
       "    </tr>\n",
       "    <tr>\n",
       "      <th>4772</th>\n",
       "      <td>bnz.450</td>\n",
       "      <td>bnz.450.12</td>\n",
       "      <td>2015</td>\n",
       "      <td>bnz.450.14</td>\n",
       "      <td>https://cn.dataone.org/cn/v2/resolve/knb-lter-bnz.450.12</td>\n",
       "    </tr>\n",
       "    <tr>\n",
       "      <th>4773</th>\n",
       "      <td>bnz.453</td>\n",
       "      <td>bnz.453.9</td>\n",
       "      <td>2015</td>\n",
       "      <td>bnz.453.10</td>\n",
       "      <td>https://cn.dataone.org/cn/v2/resolve/knb-lter-bnz.453.9</td>\n",
       "    </tr>\n",
       "    <tr>\n",
       "      <th>4774</th>\n",
       "      <td>bnz.455</td>\n",
       "      <td>bnz.455.5</td>\n",
       "      <td>2015</td>\n",
       "      <td>bnz.455.7</td>\n",
       "      <td>https://cn.dataone.org/cn/v2/resolve/knb-lter-bnz.455.5</td>\n",
       "    </tr>\n",
       "    <tr>\n",
       "      <th>4775</th>\n",
       "      <td>bnz.455</td>\n",
       "      <td>bnz.455.8</td>\n",
       "      <td>2015</td>\n",
       "      <td>bnz.455.9</td>\n",
       "      <td>https://cn.dataone.org/cn/v2/resolve/knb-lter-bnz.455.8</td>\n",
       "    </tr>\n",
       "    <tr>\n",
       "      <th>4776</th>\n",
       "      <td>bnz.455</td>\n",
       "      <td>bnz.455.10</td>\n",
       "      <td>2015</td>\n",
       "      <td>bnz.455.11</td>\n",
       "      <td>https://cn.dataone.org/cn/v2/resolve/knb-lter-bnz.455.10</td>\n",
       "    </tr>\n",
       "    <tr>\n",
       "      <th>4777</th>\n",
       "      <td>bnz.412</td>\n",
       "      <td>bnz.412.11</td>\n",
       "      <td>2015</td>\n",
       "      <td>bnz.412.13</td>\n",
       "      <td>https://cn.dataone.org/cn/v2/resolve/knb-lter-bnz.412.11</td>\n",
       "    </tr>\n",
       "    <tr>\n",
       "      <th>4778</th>\n",
       "      <td>bnz.381</td>\n",
       "      <td>bnz.381.9</td>\n",
       "      <td>2015</td>\n",
       "      <td>bnz.381.10</td>\n",
       "      <td>https://cn.dataone.org/cn/v2/resolve/knb-lter-bnz.381.9</td>\n",
       "    </tr>\n",
       "    <tr>\n",
       "      <th>4779</th>\n",
       "      <td>bnz.360</td>\n",
       "      <td>bnz.360.9</td>\n",
       "      <td>2015</td>\n",
       "      <td>bnz.360.10</td>\n",
       "      <td>https://cn.dataone.org/cn/v2/resolve/knb-lter-bnz.360.9</td>\n",
       "    </tr>\n",
       "    <tr>\n",
       "      <th>4780</th>\n",
       "      <td>bnz.446</td>\n",
       "      <td>bnz.446.10</td>\n",
       "      <td>2015</td>\n",
       "      <td>bnz.446.11</td>\n",
       "      <td>https://cn.dataone.org/cn/v2/resolve/knb-lter-bnz.446.10</td>\n",
       "    </tr>\n",
       "    <tr>\n",
       "      <th>4781</th>\n",
       "      <td>bnz.359</td>\n",
       "      <td>bnz.359.13</td>\n",
       "      <td>2015</td>\n",
       "      <td>bnz.359.14</td>\n",
       "      <td>https://cn.dataone.org/cn/v2/resolve/knb-lter-bnz.359.13</td>\n",
       "    </tr>\n",
       "    <tr>\n",
       "      <th>4782</th>\n",
       "      <td>bnz.422</td>\n",
       "      <td>bnz.422.7</td>\n",
       "      <td>2015</td>\n",
       "      <td>bnz.422.9</td>\n",
       "      <td>https://cn.dataone.org/cn/v2/resolve/knb-lter-bnz.422.7</td>\n",
       "    </tr>\n",
       "    <tr>\n",
       "      <th>4783</th>\n",
       "      <td>bnz.395</td>\n",
       "      <td>bnz.395.14</td>\n",
       "      <td>2015</td>\n",
       "      <td>bnz.395.15</td>\n",
       "      <td>https://cn.dataone.org/cn/v2/resolve/knb-lter-bnz.395.14</td>\n",
       "    </tr>\n",
       "    <tr>\n",
       "      <th>4784</th>\n",
       "      <td>bnz.372</td>\n",
       "      <td>bnz.372.9</td>\n",
       "      <td>2015</td>\n",
       "      <td>bnz.372.11</td>\n",
       "      <td>https://cn.dataone.org/cn/v2/resolve/knb-lter-bnz.372.9</td>\n",
       "    </tr>\n",
       "    <tr>\n",
       "      <th>4785</th>\n",
       "      <td>bnz.356</td>\n",
       "      <td>bnz.356.12</td>\n",
       "      <td>2015</td>\n",
       "      <td>bnz.356.13</td>\n",
       "      <td>https://cn.dataone.org/cn/v2/resolve/knb-lter-bnz.356.12</td>\n",
       "    </tr>\n",
       "    <tr>\n",
       "      <th>4786</th>\n",
       "      <td>bnz.35</td>\n",
       "      <td>bnz.35.16</td>\n",
       "      <td>2015</td>\n",
       "      <td>bnz.35.17</td>\n",
       "      <td>https://cn.dataone.org/cn/v2/resolve/knb-lter-bnz.35.16</td>\n",
       "    </tr>\n",
       "    <tr>\n",
       "      <th>4787</th>\n",
       "      <td>bnz.37</td>\n",
       "      <td>bnz.37.14</td>\n",
       "      <td>2015</td>\n",
       "      <td>bnz.37.15</td>\n",
       "      <td>https://cn.dataone.org/cn/v2/resolve/knb-lter-bnz.37.14</td>\n",
       "    </tr>\n",
       "    <tr>\n",
       "      <th>4788</th>\n",
       "      <td>bnz.407</td>\n",
       "      <td>bnz.407.10</td>\n",
       "      <td>2015</td>\n",
       "      <td>bnz.407.11</td>\n",
       "      <td>https://cn.dataone.org/cn/v2/resolve/knb-lter-bnz.407.10</td>\n",
       "    </tr>\n",
       "    <tr>\n",
       "      <th>4789</th>\n",
       "      <td>bnz.404</td>\n",
       "      <td>bnz.404.9</td>\n",
       "      <td>2015</td>\n",
       "      <td>bnz.404.10</td>\n",
       "      <td>https://cn.dataone.org/cn/v2/resolve/knb-lter-bnz.404.9</td>\n",
       "    </tr>\n",
       "    <tr>\n",
       "      <th>1672</th>\n",
       "      <td>cap.312</td>\n",
       "      <td>cap.312.3</td>\n",
       "      <td>2015</td>\n",
       "      <td>cap.312.4</td>\n",
       "      <td>https://cn.dataone.org/cn/v2/resolve/knb-lter-cap.312.3</td>\n",
       "    </tr>\n",
       "    <tr>\n",
       "      <th>1673</th>\n",
       "      <td>cap.313</td>\n",
       "      <td>cap.313.4</td>\n",
       "      <td>2015</td>\n",
       "      <td>cap.313.5</td>\n",
       "      <td>https://cn.dataone.org/cn/v2/resolve/knb-lter-cap.313.4</td>\n",
       "    </tr>\n",
       "    <tr>\n",
       "      <th>1675</th>\n",
       "      <td>cap.338</td>\n",
       "      <td>cap.338.3</td>\n",
       "      <td>2015</td>\n",
       "      <td>cap.338.4</td>\n",
       "      <td>https://cn.dataone.org/cn/v2/resolve/knb-lter-cap.338.3</td>\n",
       "    </tr>\n",
       "    <tr>\n",
       "      <th>1676</th>\n",
       "      <td>cap.334</td>\n",
       "      <td>cap.334.5</td>\n",
       "      <td>2015</td>\n",
       "      <td>cap.334.6</td>\n",
       "      <td>https://cn.dataone.org/cn/v2/resolve/knb-lter-cap.334.5</td>\n",
       "    </tr>\n",
       "    <tr>\n",
       "      <th>1677</th>\n",
       "      <td>cap.347</td>\n",
       "      <td>cap.347.4</td>\n",
       "      <td>2015</td>\n",
       "      <td>cap.347.5</td>\n",
       "      <td>https://cn.dataone.org/cn/v2/resolve/knb-lter-cap.347.4</td>\n",
       "    </tr>\n",
       "    <tr>\n",
       "      <th>1678</th>\n",
       "      <td>cap.385</td>\n",
       "      <td>cap.385.3</td>\n",
       "      <td>2015</td>\n",
       "      <td>cap.385.4</td>\n",
       "      <td>https://cn.dataone.org/cn/v2/resolve/knb-lter-cap.385.3</td>\n",
       "    </tr>\n",
       "    <tr>\n",
       "      <th>1679</th>\n",
       "      <td>cap.548</td>\n",
       "      <td>cap.548.4</td>\n",
       "      <td>2015</td>\n",
       "      <td>cap.548.5</td>\n",
       "      <td>https://cn.dataone.org/cn/v2/resolve/knb-lter-cap.548.4</td>\n",
       "    </tr>\n",
       "    <tr>\n",
       "      <th>1680</th>\n",
       "      <td>cap.527</td>\n",
       "      <td>cap.527.4</td>\n",
       "      <td>2015</td>\n",
       "      <td>cap.527.5</td>\n",
       "      <td>https://cn.dataone.org/cn/v2/resolve/knb-lter-cap.527.4</td>\n",
       "    </tr>\n",
       "    <tr>\n",
       "      <th>1016</th>\n",
       "      <td>hfr.224</td>\n",
       "      <td>hfr.224.1</td>\n",
       "      <td>2015</td>\n",
       "      <td>hfr.224.2</td>\n",
       "      <td>https://cn.dataone.org/cn/v2/resolve/knb-lter-hfr.224.1</td>\n",
       "    </tr>\n",
       "    <tr>\n",
       "      <th>1017</th>\n",
       "      <td>hfr.222</td>\n",
       "      <td>hfr.222.1</td>\n",
       "      <td>2015</td>\n",
       "      <td>hfr.222.2</td>\n",
       "      <td>https://cn.dataone.org/cn/v2/resolve/knb-lter-hfr.222.1</td>\n",
       "    </tr>\n",
       "    <tr>\n",
       "      <th>3297</th>\n",
       "      <td>gce.471</td>\n",
       "      <td>gce.471.3</td>\n",
       "      <td>2015</td>\n",
       "      <td>gce.471.6</td>\n",
       "      <td>https://cn.dataone.org/cn/v2/resolve/knb-lter-gce.471.3</td>\n",
       "    </tr>\n",
       "    <tr>\n",
       "      <th>1628</th>\n",
       "      <td>fce.1200</td>\n",
       "      <td>fce.1200.1</td>\n",
       "      <td>2015</td>\n",
       "      <td>fce.1200.2</td>\n",
       "      <td>https://cn.dataone.org/cn/v2/resolve/knb-lter-fce.1200.1</td>\n",
       "    </tr>\n",
       "    <tr>\n",
       "      <th>1629</th>\n",
       "      <td>fce.1200</td>\n",
       "      <td>fce.1200.2</td>\n",
       "      <td>2015</td>\n",
       "      <td>fce.1200.3</td>\n",
       "      <td>https://cn.dataone.org/cn/v2/resolve/knb-lter-fce.1200.2</td>\n",
       "    </tr>\n",
       "    <tr>\n",
       "      <th>1630</th>\n",
       "      <td>fce.1200</td>\n",
       "      <td>fce.1200.3</td>\n",
       "      <td>2015</td>\n",
       "      <td>fce.1200.4</td>\n",
       "      <td>https://cn.dataone.org/cn/v2/resolve/knb-lter-fce.1200.3</td>\n",
       "    </tr>\n",
       "    <tr>\n",
       "      <th>1632</th>\n",
       "      <td>fce.1201</td>\n",
       "      <td>fce.1201.1</td>\n",
       "      <td>2015</td>\n",
       "      <td>fce.1201.2</td>\n",
       "      <td>https://cn.dataone.org/cn/v2/resolve/knb-lter-fce.1201.1</td>\n",
       "    </tr>\n",
       "    <tr>\n",
       "      <th>2064</th>\n",
       "      <td>fce.1164</td>\n",
       "      <td>fce.1164.4</td>\n",
       "      <td>2015</td>\n",
       "      <td>fce.1164.5</td>\n",
       "      <td>https://cn.dataone.org/cn/v2/resolve/knb-lter-fce.1164.4</td>\n",
       "    </tr>\n",
       "  </tbody>\n",
       "</table>\n",
       "</div>"
      ],
      "text/plain": [
       "     baseIDyear   Identifier  Year ObsoletedByID  \\\n",
       "4349  arc.20036  arc.20036.3  2017   arc.20036.4   \n",
       "4769    bnz.414    bnz.414.9  2015    bnz.414.10   \n",
       "4770    bnz.451   bnz.451.10  2015    bnz.451.11   \n",
       "4771    bnz.451   bnz.451.12  2015    bnz.451.14   \n",
       "4772    bnz.450   bnz.450.12  2015    bnz.450.14   \n",
       "4773    bnz.453    bnz.453.9  2015    bnz.453.10   \n",
       "4774    bnz.455    bnz.455.5  2015     bnz.455.7   \n",
       "4775    bnz.455    bnz.455.8  2015     bnz.455.9   \n",
       "4776    bnz.455   bnz.455.10  2015    bnz.455.11   \n",
       "4777    bnz.412   bnz.412.11  2015    bnz.412.13   \n",
       "4778    bnz.381    bnz.381.9  2015    bnz.381.10   \n",
       "4779    bnz.360    bnz.360.9  2015    bnz.360.10   \n",
       "4780    bnz.446   bnz.446.10  2015    bnz.446.11   \n",
       "4781    bnz.359   bnz.359.13  2015    bnz.359.14   \n",
       "4782    bnz.422    bnz.422.7  2015     bnz.422.9   \n",
       "4783    bnz.395   bnz.395.14  2015    bnz.395.15   \n",
       "4784    bnz.372    bnz.372.9  2015    bnz.372.11   \n",
       "4785    bnz.356   bnz.356.12  2015    bnz.356.13   \n",
       "4786     bnz.35    bnz.35.16  2015     bnz.35.17   \n",
       "4787     bnz.37    bnz.37.14  2015     bnz.37.15   \n",
       "4788    bnz.407   bnz.407.10  2015    bnz.407.11   \n",
       "4789    bnz.404    bnz.404.9  2015    bnz.404.10   \n",
       "1672    cap.312    cap.312.3  2015     cap.312.4   \n",
       "1673    cap.313    cap.313.4  2015     cap.313.5   \n",
       "1675    cap.338    cap.338.3  2015     cap.338.4   \n",
       "1676    cap.334    cap.334.5  2015     cap.334.6   \n",
       "1677    cap.347    cap.347.4  2015     cap.347.5   \n",
       "1678    cap.385    cap.385.3  2015     cap.385.4   \n",
       "1679    cap.548    cap.548.4  2015     cap.548.5   \n",
       "1680    cap.527    cap.527.4  2015     cap.527.5   \n",
       "1016    hfr.224    hfr.224.1  2015     hfr.224.2   \n",
       "1017    hfr.222    hfr.222.1  2015     hfr.222.2   \n",
       "3297    gce.471    gce.471.3  2015     gce.471.6   \n",
       "1628   fce.1200   fce.1200.1  2015    fce.1200.2   \n",
       "1629   fce.1200   fce.1200.2  2015    fce.1200.3   \n",
       "1630   fce.1200   fce.1200.3  2015    fce.1200.4   \n",
       "1632   fce.1201   fce.1201.1  2015    fce.1201.2   \n",
       "2064   fce.1164   fce.1164.4  2015    fce.1164.5   \n",
       "\n",
       "                                                                                                  dataUrl  \n",
       "4349  https://cn.dataone.org/cn/v2/resolve/https%3A%2F%2Fpasta.lternet.edu%2Fpackage%2Fmetadata%2Feml%...  \n",
       "4769                                              https://cn.dataone.org/cn/v2/resolve/knb-lter-bnz.414.9  \n",
       "4770                                             https://cn.dataone.org/cn/v2/resolve/knb-lter-bnz.451.10  \n",
       "4771                                             https://cn.dataone.org/cn/v2/resolve/knb-lter-bnz.451.12  \n",
       "4772                                             https://cn.dataone.org/cn/v2/resolve/knb-lter-bnz.450.12  \n",
       "4773                                              https://cn.dataone.org/cn/v2/resolve/knb-lter-bnz.453.9  \n",
       "4774                                              https://cn.dataone.org/cn/v2/resolve/knb-lter-bnz.455.5  \n",
       "4775                                              https://cn.dataone.org/cn/v2/resolve/knb-lter-bnz.455.8  \n",
       "4776                                             https://cn.dataone.org/cn/v2/resolve/knb-lter-bnz.455.10  \n",
       "4777                                             https://cn.dataone.org/cn/v2/resolve/knb-lter-bnz.412.11  \n",
       "4778                                              https://cn.dataone.org/cn/v2/resolve/knb-lter-bnz.381.9  \n",
       "4779                                              https://cn.dataone.org/cn/v2/resolve/knb-lter-bnz.360.9  \n",
       "4780                                             https://cn.dataone.org/cn/v2/resolve/knb-lter-bnz.446.10  \n",
       "4781                                             https://cn.dataone.org/cn/v2/resolve/knb-lter-bnz.359.13  \n",
       "4782                                              https://cn.dataone.org/cn/v2/resolve/knb-lter-bnz.422.7  \n",
       "4783                                             https://cn.dataone.org/cn/v2/resolve/knb-lter-bnz.395.14  \n",
       "4784                                              https://cn.dataone.org/cn/v2/resolve/knb-lter-bnz.372.9  \n",
       "4785                                             https://cn.dataone.org/cn/v2/resolve/knb-lter-bnz.356.12  \n",
       "4786                                              https://cn.dataone.org/cn/v2/resolve/knb-lter-bnz.35.16  \n",
       "4787                                              https://cn.dataone.org/cn/v2/resolve/knb-lter-bnz.37.14  \n",
       "4788                                             https://cn.dataone.org/cn/v2/resolve/knb-lter-bnz.407.10  \n",
       "4789                                              https://cn.dataone.org/cn/v2/resolve/knb-lter-bnz.404.9  \n",
       "1672                                              https://cn.dataone.org/cn/v2/resolve/knb-lter-cap.312.3  \n",
       "1673                                              https://cn.dataone.org/cn/v2/resolve/knb-lter-cap.313.4  \n",
       "1675                                              https://cn.dataone.org/cn/v2/resolve/knb-lter-cap.338.3  \n",
       "1676                                              https://cn.dataone.org/cn/v2/resolve/knb-lter-cap.334.5  \n",
       "1677                                              https://cn.dataone.org/cn/v2/resolve/knb-lter-cap.347.4  \n",
       "1678                                              https://cn.dataone.org/cn/v2/resolve/knb-lter-cap.385.3  \n",
       "1679                                              https://cn.dataone.org/cn/v2/resolve/knb-lter-cap.548.4  \n",
       "1680                                              https://cn.dataone.org/cn/v2/resolve/knb-lter-cap.527.4  \n",
       "1016                                              https://cn.dataone.org/cn/v2/resolve/knb-lter-hfr.224.1  \n",
       "1017                                              https://cn.dataone.org/cn/v2/resolve/knb-lter-hfr.222.1  \n",
       "3297                                              https://cn.dataone.org/cn/v2/resolve/knb-lter-gce.471.3  \n",
       "1628                                             https://cn.dataone.org/cn/v2/resolve/knb-lter-fce.1200.1  \n",
       "1629                                             https://cn.dataone.org/cn/v2/resolve/knb-lter-fce.1200.2  \n",
       "1630                                             https://cn.dataone.org/cn/v2/resolve/knb-lter-fce.1200.3  \n",
       "1632                                             https://cn.dataone.org/cn/v2/resolve/knb-lter-fce.1201.1  \n",
       "2064                                             https://cn.dataone.org/cn/v2/resolve/knb-lter-fce.1164.4  "
      ]
     },
     "execution_count": 20,
     "metadata": {},
     "output_type": "execute_result"
    }
   ],
   "source": [
    "IsObsoletedDF = CombinedVersionsDF[CombinedVersionsDF['ObsoletedByID']!='None']\n",
    "IsObsoletedDF[IsObsoletedDF['Year'].isin(['2015', '2016', '2017', '2018'])]"
   ]
  },
  {
   "cell_type": "markdown",
   "metadata": {},
   "source": [
    "### Results \n",
    "\n",
    "Records have the same titles and content, with some changes that have to do with the pasta system, but not anything having to do with the contextualizing information for the dataset. Additionally very few records are obsoleted after 2015, and none of the records that were obsoleted before 2015. Including records after the pasta system came online would introduce a lot of noise into the metadataset, and it looks like records that were previously added to DataONE and obsoleted are reintroduced as active records so in 2015-2018 we have records being duplicated and unobsoleted, exposing reliability issues for the discoverability of datasets the DataONE repository holds.\n",
    "\n",
    "While this spells out the value of not only the content creators using qualitative and quantitative checks, it describes the need for all repositories to ensure that the metadata in their active collections is accurate and useful for their users. It means the records available in DataONE still need active curation from DataONE. It is not enough to simply rely on the uploaders for the quality and completeness of records.\n",
    "\n",
    "We can utilize our identification of the duplicated record's dataUrls to remove the duplicate records from the SOLR/Requests csvs to just download new records. This allows us a more accurate view into the evolution of the metadata's records over time and gives us the opportunity to look at perhaps the most interesting time period The only remaining concern is the trend of not utilizing the ObsoletedBy version chaining, but this may be the result of using an external system for the creation of records. \n"
   ]
  },
  {
   "cell_type": "code",
   "execution_count": 21,
   "metadata": {},
   "outputs": [],
   "source": [
    "# create csv of records to download\n",
    "\n",
    "Sites = ['and','arc','bes','bnz','cce',\n",
    "         'cdr','cap','cwt','fce','gce',\n",
    "         'hfr','hbr','jrn','kbs','knz',\n",
    "         'luq','mcm', 'mcr','nwt','ntl',\n",
    "         'pal','pie','sbc','sev','sgs','vcr']\n",
    "dataURLprefix = \"http://cn.dataone.org/cn/v2/query/solr/?q=formatType:METADATA+AND+authoritativeMN:*LTER+AND+identifier:%27-lter-\"\n",
    "dataURLsuffix = \"%27+AND+dateUploaded:[2005-01-01T00:00:00Z%20TO%202018-12-31T23:59:59.999Z]&fl=identifier,dateUploaded,datePublished,dataUrl,obsoletes,obsoletedBy&rows=6000&sort=dateUploaded+asc&facet=true&facet.missing=true&facet.limit=-1&facet.range=dateUploaded&facet.range.start=2005-01-01T00:00:00Z&facet.range.end=2014-12-31T23:59:59.999Z&facet.range.gap=%2B1YEAR&wt=xml\" \n",
    "filePath = \"../Solr/Responses/\"\n",
    "if not os.path.exists(filePath):\n",
    "    os.makedirs(filePath)\n",
    "fileType = \".xml\"\n",
    "\n",
    "dataURLs = [dataURLprefix + Site + dataURLsuffix for Site in Sites]\n",
    "   \n",
    "\n",
    "XMLnames = [filePath + Site.upper() + fileType for Site in Sites]\n",
    "\n",
    "# download the query responses\n",
    "md.get_records(dataURLs, XMLnames, well_formed=False)"
   ]
  },
  {
   "cell_type": "markdown",
   "metadata": {},
   "source": [
    "### Using XSL to transform the metadata about metadata into the metadata collections we want to analyze\n",
    "\n",
    "Now that we have a XML document for each site that lists a download url and a date uploaded for each record as well as an obsoleted by that contains an identifier.\n",
    "\n",
    "Running these csv with the getRecords function results in directories being created for each site and year records were uploaded. For example, the records for AND from 2005 were downloaded to [../metadata/AND__2005](../metadata/AND/2005) \n",
    "\n",
    "### Downloading the metadataset\n",
    "Now that we have the metadata for records from the years we want to select from, we need to ensure that we only download the records that did not get obsoleted that year so we get just the version of the record that is not obsoleted that year, which should give us the best understanding of recommendation completeness for the time period, since we see a high degree of versioning to records in short time periods by some LTER sites in the repository.\n",
    "\n",
    "To do this we'll apply an XSL transform to the XML records our Solr queries generated for each site. The transform will utilize a key of record identifiers and their upload years that the obsloetedBy and identifier can be checked against for each record. The transform will return a csv that we can use with the MDeval getRecords function to create directories for the records we want to include in the metadataset. Before we use the dataframe with the function, we will use the list of records that share names and remove the ones after 2014 from the set of requests. MDeval.getRecords will download the records into the correct directory."
   ]
  },
  {
   "cell_type": "code",
   "execution_count": 22,
   "metadata": {},
   "outputs": [],
   "source": [
    "# run xsl to get most recent version for each year\n",
    "\n",
    "os.makedirs(\"../Solr/Requests/\", exist_ok=True)\n",
    "for Site in Sites:\n",
    "    cmd = [\"/usr/bin/java\",\n",
    "           '-jar', \"../scripts/saxon-b-9.0.jar\",\n",
    "           '-xsl:' + \"../scripts/YearlyCollectionOrganizationMostRecentVersion.xsl\",\n",
    "           '-s:' + \"../Solr/Responses/\" + Site + \".xml\",\n",
    "           '-o:' + \"../Solr/Requests/\" + Site.upper() + '.csv'\n",
    "          ]\n",
    " \n",
    "    subprocess.run(' '.join(cmd), shell=True, check=True)"
   ]
  },
  {
   "cell_type": "code",
   "execution_count": 23,
   "metadata": {},
   "outputs": [],
   "source": [
    "'''\n",
    "create list of dataUrls that are duplicates of previous years and use it\n",
    "to remove the 12% of the collection that is noise to the dataset\n",
    "'''\n",
    "years = [2015,2016,2017,2018]\n",
    "\n",
    "removeDupes = duplicateIDdf[duplicateIDdf.Year.isin(years)]\n",
    "removeDupes_dataUrl_list = removeDupes.dataUrl.tolist()\n",
    "Records = pd.concat(map(pd.read_csv, glob.glob(os.path.join('', \"../Solr/Requests/\", \"*.csv\"))))\n",
    "NoDupesDF = Records[~Records.recordURL.isin(removeDupes_dataUrl_list)]\n"
   ]
  },
  {
   "cell_type": "code",
   "execution_count": 24,
   "metadata": {},
   "outputs": [
    {
     "name": "stdout",
     "output_type": "stream",
     "text": [
      "There was an error downloading from https://cn.dataone.org/cn/v2/resolve/knb-lter-arc.1135.2\n",
      "There was an error downloading from https://cn.dataone.org/cn/v2/resolve/knb-lter-arc.1145.2\n",
      "There was an error downloading from https://cn.dataone.org/cn/v2/resolve/knb-lter-arc.1573.2\n",
      "There was an error downloading from https://cn.dataone.org/cn/v2/resolve/knb-lter-arc.1575.2\n",
      "There was an error downloading from https://cn.dataone.org/cn/v2/resolve/knb-lter-arc.1188.2\n",
      "There was an error downloading from https://cn.dataone.org/cn/v2/resolve/knb-lter-arc.1364.2\n",
      "There was an error downloading from https://cn.dataone.org/cn/v2/resolve/knb-lter-arc.1472.2\n",
      "There was an error downloading from https://cn.dataone.org/cn/v2/resolve/knb-lter-arc.1479.2\n",
      "There was an error downloading from https://cn.dataone.org/cn/v2/resolve/knb-lter-arc.1578.2\n",
      "There was an error downloading from https://cn.dataone.org/cn/v2/resolve/knb-lter-arc.1167.2\n",
      "There was an error downloading from https://cn.dataone.org/cn/v2/resolve/knb-lter-arc.1163.2\n",
      "There was an error downloading from https://cn.dataone.org/cn/v2/resolve/knb-lter-arc.1156.2\n",
      "There was an error downloading from https://cn.dataone.org/cn/v2/resolve/knb-lter-arc.1482.2\n",
      "There was an error downloading from https://cn.dataone.org/cn/v2/resolve/knb-lter-arc.1190.2\n",
      "There was an error downloading from https://cn.dataone.org/cn/v2/resolve/knb-lter-arc.1124.2\n",
      "There was an error downloading from https://cn.dataone.org/cn/v2/resolve/knb-lter-arc.1191.2\n",
      "There was an error downloading from https://cn.dataone.org/cn/v2/resolve/knb-lter-arc.1580.2\n",
      "There was an error downloading from https://cn.dataone.org/cn/v2/resolve/knb-lter-arc.1176.2\n",
      "There was an error downloading from https://cn.dataone.org/cn/v2/resolve/knb-lter-arc.1127.2\n",
      "There was an error downloading from https://cn.dataone.org/cn/v2/resolve/knb-lter-arc.1343.2\n",
      "There was an error downloading from https://cn.dataone.org/cn/v2/resolve/knb-lter-arc.1212.2\n",
      "There was an error downloading from https://cn.dataone.org/cn/v2/resolve/knb-lter-arc.1477.2\n",
      "There was an error downloading from https://cn.dataone.org/cn/v2/resolve/knb-lter-bnz.442.8\n",
      "There was an error downloading from https://cn.dataone.org/cn/v2/resolve/https%3A%2F%2Fpasta.lternet.edu%2Fpackage%2Fmetadata%2Feml%2Fknb-lter-bnz%2F568%2F9\n",
      "There was an error downloading from https://cn.dataone.org/cn/v2/resolve/https%3A%2F%2Fpasta.lternet.edu%2Fpackage%2Fmetadata%2Feml%2Fknb-lter-bnz%2F629%2F7\n",
      "There was an error downloading from https://cn.dataone.org/cn/v2/resolve/https%3A%2F%2Fpasta.lternet.edu%2Fpackage%2Fmetadata%2Feml%2Fknb-lter-bnz%2F630%2F8\n",
      "There was an error downloading from https://cn.dataone.org/cn/v2/resolve/https%3A%2F%2Fpasta.lternet.edu%2Fpackage%2Fmetadata%2Feml%2Fknb-lter-bnz%2F631%2F6\n",
      "There was an error downloading from https://cn.dataone.org/cn/v2/resolve/https%3A%2F%2Fpasta.lternet.edu%2Fpackage%2Fmetadata%2Feml%2Fknb-lter-bnz%2F650%2F3\n",
      "There was an error downloading from https://cn.dataone.org/cn/v2/resolve/https%3A%2F%2Fpasta.lternet.edu%2Fpackage%2Fmetadata%2Feml%2Fknb-lter-bnz%2F651%2F3\n",
      "There was an error downloading from https://cn.dataone.org/cn/v2/resolve/https%3A%2F%2Fpasta.lternet.edu%2Fpackage%2Fmetadata%2Feml%2Fknb-lter-bnz%2F652%2F4\n",
      "There was an error downloading from https://cn.dataone.org/cn/v2/resolve/https%3A%2F%2Fpasta.lternet.edu%2Fpackage%2Fmetadata%2Feml%2Fknb-lter-bnz%2F653%2F4\n",
      "There was an error downloading from https://cn.dataone.org/cn/v2/resolve/doi%3A10.6073%2FAA%2Fknb-lter-nwt.82.7\n",
      "There was an error downloading from https://cn.dataone.org/cn/v2/resolve/doi%3A10.6073%2FAA%2Fknb-lter-nwt.73.2\n",
      "There was an error downloading from https://cn.dataone.org/cn/v2/resolve/https%3A%2F%2Fpasta.lternet.edu%2Fpackage%2Fmetadata%2Feml%2Fknb-lter-nwt%2F34%2F9\n",
      "There was an error downloading from https://cn.dataone.org/cn/v2/resolve/knb-lter-pie.15.5\n",
      "There was an error downloading from https://cn.dataone.org/cn/v2/resolve/knb-lter-pie.248.1\n",
      "There was an error downloading from https://cn.dataone.org/cn/v2/resolve/knb-lter-sbc.6.13\n",
      "There was an error downloading from https://cn.dataone.org/cn/v2/resolve/knb-lter-sbc.15.23\n",
      "There was an error downloading from https://cn.dataone.org/cn/v2/resolve/knb-lter-sbc.19.21\n",
      "There was an error downloading from https://cn.dataone.org/cn/v2/resolve/knb-lter-sbc.17.28\n",
      "There was an error downloading from https://cn.dataone.org/cn/v2/resolve/knb-lter-sbc.12.9\n",
      "There was an error downloading from https://cn.dataone.org/cn/v2/resolve/knb-lter-sbc.13.19\n",
      "There was an error downloading from https://cn.dataone.org/cn/v2/resolve/knb-lter-sbc.3.12\n",
      "There was an error downloading from https://cn.dataone.org/cn/v2/resolve/knb-lter-sbc.10.21\n",
      "There was an error downloading from https://cn.dataone.org/cn/v2/resolve/knb-lter-sbc.1.11\n",
      "There was an error downloading from https://cn.dataone.org/cn/v2/resolve/doi%3A10.6073%2FAA%2Fknb-lter-sbc.5.5\n",
      "There was an error downloading from https://cn.dataone.org/cn/v2/resolve/doi%3A10.6073%2FAA%2Fknb-lter-sbc.12.3\n",
      "There was an error downloading from https://cn.dataone.org/cn/v2/resolve/knb-lter-sbc.14.13\n",
      "There was an error downloading from https://cn.dataone.org/cn/v2/resolve/knb-lter-sbc.18.18\n",
      "There was an error downloading from https://cn.dataone.org/cn/v2/resolve/knb-lter-sbc.21.15\n",
      "There was an error downloading from https://cn.dataone.org/cn/v2/resolve/doi%3A10.6073%2FAA%2Fknb-lter-sbc.21.4\n",
      "There was an error downloading from https://cn.dataone.org/cn/v2/resolve/knb-lter-sbc.2002.22\n",
      "There was an error downloading from https://cn.dataone.org/cn/v2/resolve/knb-lter-sbc.2001.15\n",
      "There was an error downloading from https://cn.dataone.org/cn/v2/resolve/knb-lter-sbc.2003.11\n",
      "There was an error downloading from https://cn.dataone.org/cn/v2/resolve/knb-lter-sbc.2004.18\n",
      "There was an error downloading from https://cn.dataone.org/cn/v2/resolve/knb-lter-sbc.1006.8\n",
      "There was an error downloading from https://cn.dataone.org/cn/v2/resolve/knb-lter-sbc.2005.15\n",
      "There was an error downloading from https://cn.dataone.org/cn/v2/resolve/knb-lter-sbc.22.11\n",
      "There was an error downloading from https://cn.dataone.org/cn/v2/resolve/knb-lter-sbc.23.11\n",
      "There was an error downloading from https://cn.dataone.org/cn/v2/resolve/knb-lter-sbc.1016.7\n",
      "There was an error downloading from https://cn.dataone.org/cn/v2/resolve/knb-lter-sbc.4006.7\n",
      "There was an error downloading from https://cn.dataone.org/cn/v2/resolve/knb-lter-sbc.4009.7\n",
      "There was an error downloading from https://cn.dataone.org/cn/v2/resolve/knb-lter-sbc.4011.7\n",
      "There was an error downloading from https://cn.dataone.org/cn/v2/resolve/knb-lter-sbc.4002.7\n",
      "There was an error downloading from https://cn.dataone.org/cn/v2/resolve/knb-lter-sbc.4005.6\n",
      "There was an error downloading from https://cn.dataone.org/cn/v2/resolve/knb-lter-sbc.4010.7\n",
      "There was an error downloading from https://cn.dataone.org/cn/v2/resolve/knb-lter-sbc.4012.7\n",
      "There was an error downloading from https://cn.dataone.org/cn/v2/resolve/knb-lter-sbc.4001.7\n",
      "There was an error downloading from https://cn.dataone.org/cn/v2/resolve/knb-lter-sbc.4003.6\n",
      "There was an error downloading from https://cn.dataone.org/cn/v2/resolve/knb-lter-sbc.4008.7\n",
      "There was an error downloading from https://cn.dataone.org/cn/v2/resolve/knb-lter-sbc.4007.7\n",
      "There was an error downloading from https://cn.dataone.org/cn/v2/resolve/knb-lter-sbc.4004.6\n",
      "There was an error downloading from https://cn.dataone.org/cn/v2/resolve/knb-lter-sbc.1001.7\n",
      "There was an error downloading from https://cn.dataone.org/cn/v2/resolve/knb-lter-sbc.27.15\n",
      "There was an error downloading from https://cn.dataone.org/cn/v2/resolve/knb-lter-sbc.28.21\n",
      "There was an error downloading from https://cn.dataone.org/cn/v2/resolve/knb-lter-sbc.26.14\n",
      "There was an error downloading from https://cn.dataone.org/cn/v2/resolve/knb-lter-sbc.24.15\n",
      "There was an error downloading from https://cn.dataone.org/cn/v2/resolve/knb-lter-sbc.25.16\n",
      "There was an error downloading from https://cn.dataone.org/cn/v2/resolve/knb-lter-sbc.32.12\n",
      "There was an error downloading from https://cn.dataone.org/cn/v2/resolve/knb-lter-sbc.1105.6\n",
      "There was an error downloading from https://cn.dataone.org/cn/v2/resolve/knb-lter-sbc.1101.6\n",
      "There was an error downloading from https://cn.dataone.org/cn/v2/resolve/knb-lter-sbc.1107.6\n",
      "There was an error downloading from https://cn.dataone.org/cn/v2/resolve/knb-lter-sbc.1108.6\n",
      "There was an error downloading from https://cn.dataone.org/cn/v2/resolve/knb-lter-sbc.1102.6\n",
      "There was an error downloading from https://cn.dataone.org/cn/v2/resolve/knb-lter-sbc.1106.6\n",
      "There was an error downloading from https://cn.dataone.org/cn/v2/resolve/knb-lter-sbc.1103.6\n",
      "There was an error downloading from https://cn.dataone.org/cn/v2/resolve/knb-lter-sbc.1104.6\n",
      "There was an error downloading from https://cn.dataone.org/cn/v2/resolve/knb-lter-sbc.30.13\n",
      "There was an error downloading from https://cn.dataone.org/cn/v2/resolve/knb-lter-sev.113.28109\n",
      "There was an error downloading from https://cn.dataone.org/cn/v2/resolve/knb-lter-sev.207.33839\n",
      "There was an error downloading from https://cn.dataone.org/cn/v2/resolve/knb-lter-sev.129.68833\n",
      "There was an error downloading from https://cn.dataone.org/cn/v2/resolve/knb-lter-knz.55.5\n",
      "There was an error downloading from https://cn.dataone.org/cn/v2/resolve/knb-lter-mcm.35.3\n",
      "There was an error downloading from https://cn.dataone.org/cn/v2/resolve/knb-lter-mcm.300.2\n",
      "There was an error downloading from https://cn.dataone.org/cn/v2/resolve/knb-lter-hfr.3.24\n",
      "There was an error downloading from https://cn.dataone.org/cn/v2/resolve/knb-lter-hfr.4.21\n",
      "There was an error downloading from https://cn.dataone.org/cn/v2/resolve/knb-lter-hfr.5.20\n",
      "There was an error downloading from https://cn.dataone.org/cn/v2/resolve/knb-lter-hfr.192.4\n",
      "There was an error downloading from https://cn.dataone.org/cn/v2/resolve/knb-lter-hfr.205.7\n",
      "There was an error downloading from https://cn.dataone.org/cn/v2/resolve/https%3A%2F%2Fpasta.lternet.edu%2Fpackage%2Fmetadata%2Feml%2Fknb-lter-hfr%2F72%2F22\n",
      "There was an error downloading from https://cn.dataone.org/cn/v2/resolve/https%3A%2F%2Fpasta.lternet.edu%2Fpackage%2Fmetadata%2Feml%2Fknb-lter-hfr%2F73%2F16\n",
      "There was an error downloading from https://cn.dataone.org/cn/v2/resolve/https%3A%2F%2Fpasta.lternet.edu%2Fpackage%2Fmetadata%2Feml%2Fknb-lter-hfr%2F74%2F15\n",
      "There was an error downloading from https://cn.dataone.org/cn/v2/resolve/https%3A%2F%2Fpasta.lternet.edu%2Fpackage%2Fmetadata%2Feml%2Fknb-lter-hfr%2F75%2F14\n",
      "There was an error downloading from https://cn.dataone.org/cn/v2/resolve/https%3A%2F%2Fpasta.lternet.edu%2Fpackage%2Fmetadata%2Feml%2Fknb-lter-hfr%2F76%2F15\n",
      "There was an error downloading from https://cn.dataone.org/cn/v2/resolve/https%3A%2F%2Fpasta.lternet.edu%2Fpackage%2Fmetadata%2Feml%2Fknb-lter-hfr%2F77%2F15\n",
      "There was an error downloading from https://cn.dataone.org/cn/v2/resolve/https%3A%2F%2Fpasta.lternet.edu%2Fpackage%2Fmetadata%2Feml%2Fknb-lter-hfr%2F78%2F16\n",
      "There was an error downloading from https://cn.dataone.org/cn/v2/resolve/https%3A%2F%2Fpasta.lternet.edu%2Fpackage%2Fmetadata%2Feml%2Fknb-lter-hfr%2F79%2F16\n",
      "There was an error downloading from https://cn.dataone.org/cn/v2/resolve/https%3A%2F%2Fpasta.lternet.edu%2Fpackage%2Fmetadata%2Feml%2Fknb-lter-hfr%2F80%2F16\n",
      "There was an error downloading from https://cn.dataone.org/cn/v2/resolve/knb-lter-bes.585.340\n",
      "There was an error downloading from https://cn.dataone.org/cn/v2/resolve/knb-lter-cdr.32001.123\n",
      "There was an error downloading from https://cn.dataone.org/cn/v2/resolve/knb-lter-cdr.45001.123\n",
      "There was an error downloading from https://cn.dataone.org/cn/v2/resolve/knb-lter-cdr.42001.123\n",
      "There was an error downloading from https://cn.dataone.org/cn/v2/resolve/knb-lter-cdr.56001.123\n",
      "There was an error downloading from https://cn.dataone.org/cn/v2/resolve/doi%3A10.6073%2FAA%2Fknb-lter-cdr.129133.123\n",
      "There was an error downloading from https://cn.dataone.org/cn/v2/resolve/doi%3A10.6073%2FAA%2Fknb-lter-cdr.140122.123\n",
      "There was an error downloading from https://cn.dataone.org/cn/v2/resolve/doi%3A10.6073%2FAA%2Fknb-lter-cdr.118141.123\n",
      "There was an error downloading from https://cn.dataone.org/cn/v2/resolve/doi%3A10.6073%2FAA%2Fknb-lter-cdr.135122.123\n",
      "There was an error downloading from https://cn.dataone.org/cn/v2/resolve/doi%3A10.6073%2FAA%2Fknb-lter-cdr.118014.123\n",
      "There was an error downloading from https://cn.dataone.org/cn/v2/resolve/doi%3A10.6073%2FAA%2Fknb-lter-cdr.115153.123\n",
      "There was an error downloading from https://cn.dataone.org/cn/v2/resolve/doi%3A10.6073%2FAA%2Fknb-lter-cdr.131133.123\n",
      "There was an error downloading from https://cn.dataone.org/cn/v2/resolve/doi%3A10.6073%2FAA%2Fknb-lter-cdr.138122.123\n",
      "There was an error downloading from https://cn.dataone.org/cn/v2/resolve/doi%3A10.6073%2FAA%2Fknb-lter-cdr.143122.123\n",
      "There was an error downloading from https://cn.dataone.org/cn/v2/resolve/doi%3A10.6073%2FAA%2Fknb-lter-cdr.118015.113\n",
      "There was an error downloading from https://cn.dataone.org/cn/v2/resolve/doi%3A10.6073%2FAA%2Fknb-lter-cdr.139122.123\n",
      "There was an error downloading from https://cn.dataone.org/cn/v2/resolve/doi%3A10.6073%2FAA%2Fknb-lter-cdr.113153.123\n",
      "There was an error downloading from https://cn.dataone.org/cn/v2/resolve/doi%3A10.6073%2FAA%2Fknb-lter-cdr.117141.123\n",
      "There was an error downloading from https://cn.dataone.org/cn/v2/resolve/doi%3A10.6073%2FAA%2Fknb-lter-cdr.144122.123\n",
      "There was an error downloading from https://cn.dataone.org/cn/v2/resolve/doi%3A10.6073%2FAA%2Fknb-lter-cdr.45014.123\n",
      "There was an error downloading from https://cn.dataone.org/cn/v2/resolve/doi%3A10.6073%2FAA%2Fknb-lter-cdr.59120.123\n",
      "There was an error downloading from https://cn.dataone.org/cn/v2/resolve/doi%3A10.6073%2FAA%2Fknb-lter-cdr.5153.123\n",
      "There was an error downloading from https://cn.dataone.org/cn/v2/resolve/doi%3A10.6073%2FAA%2Fknb-lter-cdr.76120.123\n",
      "There was an error downloading from https://cn.dataone.org/cn/v2/resolve/doi%3A10.6073%2FAA%2Fknb-lter-cdr.56054.123\n",
      "There was an error downloading from https://cn.dataone.org/cn/v2/resolve/doi%3A10.6073%2FAA%2Fknb-lter-cdr.19014.123\n",
      "There was an error downloading from https://cn.dataone.org/cn/v2/resolve/doi%3A10.6073%2FAA%2Fknb-lter-cdr.48015.113\n",
      "There was an error downloading from https://cn.dataone.org/cn/v2/resolve/doi%3A10.6073%2FAA%2Fknb-lter-cdr.56093.123\n",
      "There was an error downloading from https://cn.dataone.org/cn/v2/resolve/doi%3A10.6073%2FAA%2Fknb-lter-cdr.49141.123\n",
      "There was an error downloading from https://cn.dataone.org/cn/v2/resolve/doi%3A10.6073%2FAA%2Fknb-lter-cdr.59141.123\n",
      "There was an error downloading from https://cn.dataone.org/cn/v2/resolve/knb-lter-cdr.48001.123\n",
      "There was an error downloading from https://cn.dataone.org/cn/v2/resolve/knb-lter-cdr.76001.123\n",
      "There was an error downloading from https://cn.dataone.org/cn/v2/resolve/knb-lter-cdr.8001.123\n",
      "There was an error downloading from https://cn.dataone.org/cn/v2/resolve/doi%3A10.6073%2FAA%2Fknb-lter-cdr.42133.123\n",
      "There was an error downloading from https://cn.dataone.org/cn/v2/resolve/doi%3A10.6073%2FAA%2Fknb-lter-cdr.56002.123\n",
      "There was an error downloading from https://cn.dataone.org/cn/v2/resolve/doi%3A10.6073%2FAA%2Fknb-lter-cdr.36002.123\n",
      "There was an error downloading from https://cn.dataone.org/cn/v2/resolve/doi%3A10.6073%2FAA%2Fknb-lter-cdr.36093.123\n",
      "There was an error downloading from https://cn.dataone.org/cn/v2/resolve/doi%3A10.6073%2FAA%2Fknb-lter-cdr.42002.123\n",
      "There was an error downloading from https://cn.dataone.org/cn/v2/resolve/doi%3A10.6073%2FAA%2Fknb-lter-cdr.82153.123\n",
      "There was an error downloading from https://cn.dataone.org/cn/v2/resolve/doi%3A10.6073%2FAA%2Fknb-lter-cdr.81133.123\n",
      "There was an error downloading from https://cn.dataone.org/cn/v2/resolve/knb-lter-cdr.36001.123\n",
      "There was an error downloading from https://cn.dataone.org/cn/v2/resolve/knb-lter-fce.1057.7\n",
      "There was an error downloading from https://cn.dataone.org/cn/v2/resolve/knb-lter-fce.1164.6\n",
      "There was an error downloading from https://cn.dataone.org/cn/v2/resolve/knb-lter-fce.1172.3\n",
      "There was an error downloading from https://cn.dataone.org/cn/v2/resolve/knb-lter-fce.1173.4\n",
      "There was an error downloading from https://cn.dataone.org/cn/v2/resolve/knb-lter-fce.1170.3\n",
      "There was an error downloading from https://cn.dataone.org/cn/v2/resolve/knb-lter-fce.1175.4\n",
      "There was an error downloading from https://cn.dataone.org/cn/v2/resolve/knb-lter-fce.1188.3\n",
      "There was an error downloading from https://cn.dataone.org/cn/v2/resolve/knb-lter-fce.1187.3\n",
      "There was an error downloading from https://cn.dataone.org/cn/v2/resolve/knb-lter-fce.1191.3\n",
      "There was an error downloading from https://cn.dataone.org/cn/v2/resolve/knb-lter-fce.1194.2\n",
      "There was an error downloading from https://cn.dataone.org/cn/v2/resolve/knb-lter-fce.1193.2\n",
      "There was an error downloading from https://cn.dataone.org/cn/v2/resolve/knb-lter-fce.1196.3\n",
      "There was an error downloading from https://cn.dataone.org/cn/v2/resolve/knb-lter-fce.1198.2\n",
      "There was an error downloading from https://cn.dataone.org/cn/v2/resolve/knb-lter-fce.1199.2\n",
      "There was an error downloading from https://cn.dataone.org/cn/v2/resolve/https%3A%2F%2Fpasta.lternet.edu%2Fpackage%2Fmetadata%2Feml%2Fknb-lter-luq%2F1%2F363650\n",
      "There was an error downloading from https://cn.dataone.org/cn/v2/resolve/https%3A%2F%2Fpasta.lternet.edu%2Fpackage%2Fmetadata%2Feml%2Fknb-lter-luq%2F2%2F308800\n",
      "There was an error downloading from https://cn.dataone.org/cn/v2/resolve/https%3A%2F%2Fpasta.lternet.edu%2Fpackage%2Fmetadata%2Feml%2Fknb-lter-luq%2F4%2F1181700\n",
      "There was an error downloading from https://cn.dataone.org/cn/v2/resolve/https%3A%2F%2Fpasta.lternet.edu%2Fpackage%2Fmetadata%2Feml%2Fknb-lter-luq%2F5%2F347650\n",
      "There was an error downloading from https://cn.dataone.org/cn/v2/resolve/https%3A%2F%2Fpasta.lternet.edu%2Fpackage%2Fmetadata%2Feml%2Fknb-lter-luq%2F6%2F511450\n",
      "There was an error downloading from https://cn.dataone.org/cn/v2/resolve/https%3A%2F%2Fpasta.lternet.edu%2Fpackage%2Fmetadata%2Feml%2Fknb-lter-luq%2F4%2F1181750\n",
      "There was an error downloading from https://cn.dataone.org/cn/v2/resolve/https%3A%2F%2Fpasta.lternet.edu%2Fpackage%2Fmetadata%2Feml%2Fknb-lter-luq%2F5%2F347700\n",
      "There was an error downloading from https://cn.dataone.org/cn/v2/resolve/https%3A%2F%2Fpasta.lternet.edu%2Fpackage%2Fmetadata%2Feml%2Fknb-lter-luq%2F6%2F511500\n",
      "There was an error downloading from https://cn.dataone.org/cn/v2/resolve/https%3A%2F%2Fpasta.lternet.edu%2Fpackage%2Fmetadata%2Feml%2Fknb-lter-luq%2F7%2F1230050\n"
     ]
    }
   ],
   "source": [
    "# use the above dataframe to download records\n",
    "recordURL = NoDupesDF.recordURL.tolist()\n",
    "recordPath = NoDupesDF.recordPath.tolist()\n",
    "for path in recordPath:\n",
    "    os.makedirs(os.path.join('../collections',path.split('/')[-3], path.split('/')[-2]), exist_ok=True)\n",
    "\n",
    "md.get_records(recordURL, recordPath, well_formed=False)"
   ]
  },
  {
   "cell_type": "markdown",
   "metadata": {},
   "source": [
    "#### Just under one percent of records aren't available\n",
    "\n",
    "Let's try to download the records again to ensure that it wasn't just a temporary error."
   ]
  },
  {
   "cell_type": "code",
   "execution_count": 25,
   "metadata": {},
   "outputs": [
    {
     "name": "stdout",
     "output_type": "stream",
     "text": [
      "There was an error downloading from https://cn.dataone.org/cn/v2/resolve/knb-lter-arc.1135.2\n",
      "There was an error downloading from https://cn.dataone.org/cn/v2/resolve/knb-lter-arc.1145.2\n",
      "There was an error downloading from https://cn.dataone.org/cn/v2/resolve/knb-lter-arc.1573.2\n",
      "There was an error downloading from https://cn.dataone.org/cn/v2/resolve/knb-lter-arc.1575.2\n",
      "There was an error downloading from https://cn.dataone.org/cn/v2/resolve/knb-lter-arc.1188.2\n",
      "There was an error downloading from https://cn.dataone.org/cn/v2/resolve/knb-lter-arc.1364.2\n",
      "There was an error downloading from https://cn.dataone.org/cn/v2/resolve/knb-lter-arc.1472.2\n",
      "There was an error downloading from https://cn.dataone.org/cn/v2/resolve/knb-lter-arc.1479.2\n",
      "There was an error downloading from https://cn.dataone.org/cn/v2/resolve/knb-lter-arc.1578.2\n",
      "There was an error downloading from https://cn.dataone.org/cn/v2/resolve/knb-lter-arc.1167.2\n",
      "There was an error downloading from https://cn.dataone.org/cn/v2/resolve/knb-lter-arc.1163.2\n",
      "There was an error downloading from https://cn.dataone.org/cn/v2/resolve/knb-lter-arc.1156.2\n",
      "There was an error downloading from https://cn.dataone.org/cn/v2/resolve/knb-lter-arc.1482.2\n",
      "There was an error downloading from https://cn.dataone.org/cn/v2/resolve/knb-lter-arc.1190.2\n",
      "There was an error downloading from https://cn.dataone.org/cn/v2/resolve/knb-lter-arc.1124.2\n",
      "There was an error downloading from https://cn.dataone.org/cn/v2/resolve/knb-lter-arc.1191.2\n",
      "There was an error downloading from https://cn.dataone.org/cn/v2/resolve/knb-lter-arc.1580.2\n",
      "There was an error downloading from https://cn.dataone.org/cn/v2/resolve/knb-lter-arc.1176.2\n",
      "There was an error downloading from https://cn.dataone.org/cn/v2/resolve/knb-lter-arc.1127.2\n",
      "There was an error downloading from https://cn.dataone.org/cn/v2/resolve/knb-lter-arc.1343.2\n",
      "There was an error downloading from https://cn.dataone.org/cn/v2/resolve/knb-lter-arc.1212.2\n",
      "There was an error downloading from https://cn.dataone.org/cn/v2/resolve/knb-lter-arc.1477.2\n",
      "There was an error downloading from https://cn.dataone.org/cn/v2/resolve/knb-lter-bnz.442.8\n",
      "There was an error downloading from https://cn.dataone.org/cn/v2/resolve/https%3A%2F%2Fpasta.lternet.edu%2Fpackage%2Fmetadata%2Feml%2Fknb-lter-bnz%2F568%2F9\n",
      "There was an error downloading from https://cn.dataone.org/cn/v2/resolve/https%3A%2F%2Fpasta.lternet.edu%2Fpackage%2Fmetadata%2Feml%2Fknb-lter-bnz%2F629%2F7\n",
      "There was an error downloading from https://cn.dataone.org/cn/v2/resolve/https%3A%2F%2Fpasta.lternet.edu%2Fpackage%2Fmetadata%2Feml%2Fknb-lter-bnz%2F630%2F8\n",
      "There was an error downloading from https://cn.dataone.org/cn/v2/resolve/https%3A%2F%2Fpasta.lternet.edu%2Fpackage%2Fmetadata%2Feml%2Fknb-lter-bnz%2F631%2F6\n",
      "There was an error downloading from https://cn.dataone.org/cn/v2/resolve/https%3A%2F%2Fpasta.lternet.edu%2Fpackage%2Fmetadata%2Feml%2Fknb-lter-bnz%2F650%2F3\n",
      "There was an error downloading from https://cn.dataone.org/cn/v2/resolve/https%3A%2F%2Fpasta.lternet.edu%2Fpackage%2Fmetadata%2Feml%2Fknb-lter-bnz%2F651%2F3\n",
      "There was an error downloading from https://cn.dataone.org/cn/v2/resolve/https%3A%2F%2Fpasta.lternet.edu%2Fpackage%2Fmetadata%2Feml%2Fknb-lter-bnz%2F652%2F4\n",
      "There was an error downloading from https://cn.dataone.org/cn/v2/resolve/https%3A%2F%2Fpasta.lternet.edu%2Fpackage%2Fmetadata%2Feml%2Fknb-lter-bnz%2F653%2F4\n",
      "There was an error downloading from https://cn.dataone.org/cn/v2/resolve/doi%3A10.6073%2FAA%2Fknb-lter-nwt.82.7\n",
      "There was an error downloading from https://cn.dataone.org/cn/v2/resolve/doi%3A10.6073%2FAA%2Fknb-lter-nwt.73.2\n",
      "There was an error downloading from https://cn.dataone.org/cn/v2/resolve/https%3A%2F%2Fpasta.lternet.edu%2Fpackage%2Fmetadata%2Feml%2Fknb-lter-nwt%2F34%2F9\n",
      "There was an error downloading from https://cn.dataone.org/cn/v2/resolve/knb-lter-pie.15.5\n",
      "There was an error downloading from https://cn.dataone.org/cn/v2/resolve/knb-lter-pie.248.1\n",
      "There was an error downloading from https://cn.dataone.org/cn/v2/resolve/knb-lter-sbc.6.13\n",
      "There was an error downloading from https://cn.dataone.org/cn/v2/resolve/knb-lter-sbc.15.23\n",
      "There was an error downloading from https://cn.dataone.org/cn/v2/resolve/knb-lter-sbc.19.21\n",
      "There was an error downloading from https://cn.dataone.org/cn/v2/resolve/knb-lter-sbc.17.28\n",
      "There was an error downloading from https://cn.dataone.org/cn/v2/resolve/knb-lter-sbc.12.9\n",
      "There was an error downloading from https://cn.dataone.org/cn/v2/resolve/knb-lter-sbc.13.19\n",
      "There was an error downloading from https://cn.dataone.org/cn/v2/resolve/knb-lter-sbc.3.12\n",
      "There was an error downloading from https://cn.dataone.org/cn/v2/resolve/knb-lter-sbc.10.21\n",
      "There was an error downloading from https://cn.dataone.org/cn/v2/resolve/knb-lter-sbc.1.11\n",
      "There was an error downloading from https://cn.dataone.org/cn/v2/resolve/doi%3A10.6073%2FAA%2Fknb-lter-sbc.5.5\n",
      "There was an error downloading from https://cn.dataone.org/cn/v2/resolve/doi%3A10.6073%2FAA%2Fknb-lter-sbc.12.3\n",
      "There was an error downloading from https://cn.dataone.org/cn/v2/resolve/knb-lter-sbc.14.13\n",
      "There was an error downloading from https://cn.dataone.org/cn/v2/resolve/knb-lter-sbc.18.18\n",
      "There was an error downloading from https://cn.dataone.org/cn/v2/resolve/knb-lter-sbc.21.15\n",
      "There was an error downloading from https://cn.dataone.org/cn/v2/resolve/doi%3A10.6073%2FAA%2Fknb-lter-sbc.21.4\n",
      "There was an error downloading from https://cn.dataone.org/cn/v2/resolve/knb-lter-sbc.2002.22\n",
      "There was an error downloading from https://cn.dataone.org/cn/v2/resolve/knb-lter-sbc.2001.15\n",
      "There was an error downloading from https://cn.dataone.org/cn/v2/resolve/knb-lter-sbc.2003.11\n",
      "There was an error downloading from https://cn.dataone.org/cn/v2/resolve/knb-lter-sbc.2004.18\n",
      "There was an error downloading from https://cn.dataone.org/cn/v2/resolve/knb-lter-sbc.1006.8\n",
      "There was an error downloading from https://cn.dataone.org/cn/v2/resolve/knb-lter-sbc.2005.15\n",
      "There was an error downloading from https://cn.dataone.org/cn/v2/resolve/knb-lter-sbc.22.11\n",
      "There was an error downloading from https://cn.dataone.org/cn/v2/resolve/knb-lter-sbc.23.11\n",
      "There was an error downloading from https://cn.dataone.org/cn/v2/resolve/knb-lter-sbc.1016.7\n",
      "There was an error downloading from https://cn.dataone.org/cn/v2/resolve/knb-lter-sbc.4006.7\n",
      "There was an error downloading from https://cn.dataone.org/cn/v2/resolve/knb-lter-sbc.4009.7\n",
      "There was an error downloading from https://cn.dataone.org/cn/v2/resolve/knb-lter-sbc.4011.7\n",
      "There was an error downloading from https://cn.dataone.org/cn/v2/resolve/knb-lter-sbc.4002.7\n",
      "There was an error downloading from https://cn.dataone.org/cn/v2/resolve/knb-lter-sbc.4005.6\n",
      "There was an error downloading from https://cn.dataone.org/cn/v2/resolve/knb-lter-sbc.4010.7\n",
      "There was an error downloading from https://cn.dataone.org/cn/v2/resolve/knb-lter-sbc.4012.7\n",
      "There was an error downloading from https://cn.dataone.org/cn/v2/resolve/knb-lter-sbc.4001.7\n",
      "There was an error downloading from https://cn.dataone.org/cn/v2/resolve/knb-lter-sbc.4003.6\n",
      "There was an error downloading from https://cn.dataone.org/cn/v2/resolve/knb-lter-sbc.4008.7\n",
      "There was an error downloading from https://cn.dataone.org/cn/v2/resolve/knb-lter-sbc.4007.7\n",
      "There was an error downloading from https://cn.dataone.org/cn/v2/resolve/knb-lter-sbc.4004.6\n",
      "There was an error downloading from https://cn.dataone.org/cn/v2/resolve/knb-lter-sbc.1001.7\n",
      "There was an error downloading from https://cn.dataone.org/cn/v2/resolve/knb-lter-sbc.27.15\n",
      "There was an error downloading from https://cn.dataone.org/cn/v2/resolve/knb-lter-sbc.28.21\n",
      "There was an error downloading from https://cn.dataone.org/cn/v2/resolve/knb-lter-sbc.26.14\n",
      "There was an error downloading from https://cn.dataone.org/cn/v2/resolve/knb-lter-sbc.24.15\n",
      "There was an error downloading from https://cn.dataone.org/cn/v2/resolve/knb-lter-sbc.25.16\n",
      "There was an error downloading from https://cn.dataone.org/cn/v2/resolve/knb-lter-sbc.32.12\n",
      "There was an error downloading from https://cn.dataone.org/cn/v2/resolve/knb-lter-sbc.1105.6\n",
      "There was an error downloading from https://cn.dataone.org/cn/v2/resolve/knb-lter-sbc.1101.6\n",
      "There was an error downloading from https://cn.dataone.org/cn/v2/resolve/knb-lter-sbc.1107.6\n",
      "There was an error downloading from https://cn.dataone.org/cn/v2/resolve/knb-lter-sbc.1108.6\n",
      "There was an error downloading from https://cn.dataone.org/cn/v2/resolve/knb-lter-sbc.1102.6\n",
      "There was an error downloading from https://cn.dataone.org/cn/v2/resolve/knb-lter-sbc.1106.6\n",
      "There was an error downloading from https://cn.dataone.org/cn/v2/resolve/knb-lter-sbc.1103.6\n",
      "There was an error downloading from https://cn.dataone.org/cn/v2/resolve/knb-lter-sbc.1104.6\n",
      "There was an error downloading from https://cn.dataone.org/cn/v2/resolve/knb-lter-sbc.30.13\n",
      "There was an error downloading from https://cn.dataone.org/cn/v2/resolve/knb-lter-sev.113.28109\n",
      "There was an error downloading from https://cn.dataone.org/cn/v2/resolve/knb-lter-sev.207.33839\n",
      "There was an error downloading from https://cn.dataone.org/cn/v2/resolve/knb-lter-sev.129.68833\n",
      "There was an error downloading from https://cn.dataone.org/cn/v2/resolve/knb-lter-knz.55.5\n",
      "There was an error downloading from https://cn.dataone.org/cn/v2/resolve/knb-lter-mcm.35.3\n",
      "There was an error downloading from https://cn.dataone.org/cn/v2/resolve/knb-lter-mcm.300.2\n",
      "There was an error downloading from https://cn.dataone.org/cn/v2/resolve/knb-lter-hfr.3.24\n",
      "There was an error downloading from https://cn.dataone.org/cn/v2/resolve/knb-lter-hfr.4.21\n",
      "There was an error downloading from https://cn.dataone.org/cn/v2/resolve/knb-lter-hfr.5.20\n",
      "There was an error downloading from https://cn.dataone.org/cn/v2/resolve/knb-lter-hfr.192.4\n",
      "There was an error downloading from https://cn.dataone.org/cn/v2/resolve/knb-lter-hfr.205.7\n",
      "There was an error downloading from https://cn.dataone.org/cn/v2/resolve/https%3A%2F%2Fpasta.lternet.edu%2Fpackage%2Fmetadata%2Feml%2Fknb-lter-hfr%2F72%2F22\n",
      "There was an error downloading from https://cn.dataone.org/cn/v2/resolve/https%3A%2F%2Fpasta.lternet.edu%2Fpackage%2Fmetadata%2Feml%2Fknb-lter-hfr%2F73%2F16\n",
      "There was an error downloading from https://cn.dataone.org/cn/v2/resolve/https%3A%2F%2Fpasta.lternet.edu%2Fpackage%2Fmetadata%2Feml%2Fknb-lter-hfr%2F74%2F15\n",
      "There was an error downloading from https://cn.dataone.org/cn/v2/resolve/https%3A%2F%2Fpasta.lternet.edu%2Fpackage%2Fmetadata%2Feml%2Fknb-lter-hfr%2F75%2F14\n",
      "There was an error downloading from https://cn.dataone.org/cn/v2/resolve/https%3A%2F%2Fpasta.lternet.edu%2Fpackage%2Fmetadata%2Feml%2Fknb-lter-hfr%2F76%2F15\n",
      "There was an error downloading from https://cn.dataone.org/cn/v2/resolve/https%3A%2F%2Fpasta.lternet.edu%2Fpackage%2Fmetadata%2Feml%2Fknb-lter-hfr%2F77%2F15\n",
      "There was an error downloading from https://cn.dataone.org/cn/v2/resolve/https%3A%2F%2Fpasta.lternet.edu%2Fpackage%2Fmetadata%2Feml%2Fknb-lter-hfr%2F78%2F16\n",
      "There was an error downloading from https://cn.dataone.org/cn/v2/resolve/https%3A%2F%2Fpasta.lternet.edu%2Fpackage%2Fmetadata%2Feml%2Fknb-lter-hfr%2F79%2F16\n",
      "There was an error downloading from https://cn.dataone.org/cn/v2/resolve/https%3A%2F%2Fpasta.lternet.edu%2Fpackage%2Fmetadata%2Feml%2Fknb-lter-hfr%2F80%2F16\n",
      "There was an error downloading from https://cn.dataone.org/cn/v2/resolve/knb-lter-bes.585.340\n",
      "There was an error downloading from https://cn.dataone.org/cn/v2/resolve/knb-lter-cdr.32001.123\n",
      "There was an error downloading from https://cn.dataone.org/cn/v2/resolve/knb-lter-cdr.45001.123\n",
      "There was an error downloading from https://cn.dataone.org/cn/v2/resolve/knb-lter-cdr.42001.123\n",
      "There was an error downloading from https://cn.dataone.org/cn/v2/resolve/knb-lter-cdr.56001.123\n",
      "There was an error downloading from https://cn.dataone.org/cn/v2/resolve/doi%3A10.6073%2FAA%2Fknb-lter-cdr.129133.123\n",
      "There was an error downloading from https://cn.dataone.org/cn/v2/resolve/doi%3A10.6073%2FAA%2Fknb-lter-cdr.140122.123\n",
      "There was an error downloading from https://cn.dataone.org/cn/v2/resolve/doi%3A10.6073%2FAA%2Fknb-lter-cdr.118141.123\n",
      "There was an error downloading from https://cn.dataone.org/cn/v2/resolve/doi%3A10.6073%2FAA%2Fknb-lter-cdr.135122.123\n",
      "There was an error downloading from https://cn.dataone.org/cn/v2/resolve/doi%3A10.6073%2FAA%2Fknb-lter-cdr.118014.123\n",
      "There was an error downloading from https://cn.dataone.org/cn/v2/resolve/doi%3A10.6073%2FAA%2Fknb-lter-cdr.115153.123\n",
      "There was an error downloading from https://cn.dataone.org/cn/v2/resolve/doi%3A10.6073%2FAA%2Fknb-lter-cdr.131133.123\n",
      "There was an error downloading from https://cn.dataone.org/cn/v2/resolve/doi%3A10.6073%2FAA%2Fknb-lter-cdr.138122.123\n",
      "There was an error downloading from https://cn.dataone.org/cn/v2/resolve/doi%3A10.6073%2FAA%2Fknb-lter-cdr.143122.123\n",
      "There was an error downloading from https://cn.dataone.org/cn/v2/resolve/doi%3A10.6073%2FAA%2Fknb-lter-cdr.118015.113\n",
      "There was an error downloading from https://cn.dataone.org/cn/v2/resolve/doi%3A10.6073%2FAA%2Fknb-lter-cdr.139122.123\n",
      "There was an error downloading from https://cn.dataone.org/cn/v2/resolve/doi%3A10.6073%2FAA%2Fknb-lter-cdr.113153.123\n",
      "There was an error downloading from https://cn.dataone.org/cn/v2/resolve/doi%3A10.6073%2FAA%2Fknb-lter-cdr.117141.123\n",
      "There was an error downloading from https://cn.dataone.org/cn/v2/resolve/doi%3A10.6073%2FAA%2Fknb-lter-cdr.144122.123\n",
      "There was an error downloading from https://cn.dataone.org/cn/v2/resolve/doi%3A10.6073%2FAA%2Fknb-lter-cdr.45014.123\n",
      "There was an error downloading from https://cn.dataone.org/cn/v2/resolve/doi%3A10.6073%2FAA%2Fknb-lter-cdr.59120.123\n",
      "There was an error downloading from https://cn.dataone.org/cn/v2/resolve/doi%3A10.6073%2FAA%2Fknb-lter-cdr.5153.123\n",
      "There was an error downloading from https://cn.dataone.org/cn/v2/resolve/doi%3A10.6073%2FAA%2Fknb-lter-cdr.76120.123\n",
      "There was an error downloading from https://cn.dataone.org/cn/v2/resolve/doi%3A10.6073%2FAA%2Fknb-lter-cdr.56054.123\n",
      "There was an error downloading from https://cn.dataone.org/cn/v2/resolve/doi%3A10.6073%2FAA%2Fknb-lter-cdr.19014.123\n",
      "There was an error downloading from https://cn.dataone.org/cn/v2/resolve/doi%3A10.6073%2FAA%2Fknb-lter-cdr.48015.113\n",
      "There was an error downloading from https://cn.dataone.org/cn/v2/resolve/doi%3A10.6073%2FAA%2Fknb-lter-cdr.56093.123\n",
      "There was an error downloading from https://cn.dataone.org/cn/v2/resolve/doi%3A10.6073%2FAA%2Fknb-lter-cdr.49141.123\n",
      "There was an error downloading from https://cn.dataone.org/cn/v2/resolve/doi%3A10.6073%2FAA%2Fknb-lter-cdr.59141.123\n",
      "There was an error downloading from https://cn.dataone.org/cn/v2/resolve/knb-lter-cdr.48001.123\n",
      "There was an error downloading from https://cn.dataone.org/cn/v2/resolve/knb-lter-cdr.76001.123\n",
      "There was an error downloading from https://cn.dataone.org/cn/v2/resolve/knb-lter-cdr.8001.123\n",
      "There was an error downloading from https://cn.dataone.org/cn/v2/resolve/doi%3A10.6073%2FAA%2Fknb-lter-cdr.42133.123\n",
      "There was an error downloading from https://cn.dataone.org/cn/v2/resolve/doi%3A10.6073%2FAA%2Fknb-lter-cdr.56002.123\n",
      "There was an error downloading from https://cn.dataone.org/cn/v2/resolve/doi%3A10.6073%2FAA%2Fknb-lter-cdr.36002.123\n",
      "There was an error downloading from https://cn.dataone.org/cn/v2/resolve/doi%3A10.6073%2FAA%2Fknb-lter-cdr.36093.123\n",
      "There was an error downloading from https://cn.dataone.org/cn/v2/resolve/doi%3A10.6073%2FAA%2Fknb-lter-cdr.42002.123\n",
      "There was an error downloading from https://cn.dataone.org/cn/v2/resolve/doi%3A10.6073%2FAA%2Fknb-lter-cdr.82153.123\n",
      "There was an error downloading from https://cn.dataone.org/cn/v2/resolve/doi%3A10.6073%2FAA%2Fknb-lter-cdr.81133.123\n",
      "There was an error downloading from https://cn.dataone.org/cn/v2/resolve/knb-lter-cdr.36001.123\n",
      "There was an error downloading from https://cn.dataone.org/cn/v2/resolve/knb-lter-fce.1057.7\n",
      "There was an error downloading from https://cn.dataone.org/cn/v2/resolve/knb-lter-fce.1164.6\n",
      "There was an error downloading from https://cn.dataone.org/cn/v2/resolve/knb-lter-fce.1172.3\n",
      "There was an error downloading from https://cn.dataone.org/cn/v2/resolve/knb-lter-fce.1173.4\n",
      "There was an error downloading from https://cn.dataone.org/cn/v2/resolve/knb-lter-fce.1170.3\n",
      "There was an error downloading from https://cn.dataone.org/cn/v2/resolve/knb-lter-fce.1175.4\n",
      "There was an error downloading from https://cn.dataone.org/cn/v2/resolve/knb-lter-fce.1188.3\n",
      "There was an error downloading from https://cn.dataone.org/cn/v2/resolve/knb-lter-fce.1187.3\n",
      "There was an error downloading from https://cn.dataone.org/cn/v2/resolve/knb-lter-fce.1191.3\n",
      "There was an error downloading from https://cn.dataone.org/cn/v2/resolve/knb-lter-fce.1194.2\n",
      "There was an error downloading from https://cn.dataone.org/cn/v2/resolve/knb-lter-fce.1193.2\n",
      "There was an error downloading from https://cn.dataone.org/cn/v2/resolve/knb-lter-fce.1196.3\n",
      "There was an error downloading from https://cn.dataone.org/cn/v2/resolve/knb-lter-fce.1198.2\n",
      "There was an error downloading from https://cn.dataone.org/cn/v2/resolve/knb-lter-fce.1199.2\n",
      "There was an error downloading from https://cn.dataone.org/cn/v2/resolve/https%3A%2F%2Fpasta.lternet.edu%2Fpackage%2Fmetadata%2Feml%2Fknb-lter-luq%2F1%2F363650\n",
      "There was an error downloading from https://cn.dataone.org/cn/v2/resolve/https%3A%2F%2Fpasta.lternet.edu%2Fpackage%2Fmetadata%2Feml%2Fknb-lter-luq%2F2%2F308800\n",
      "There was an error downloading from https://cn.dataone.org/cn/v2/resolve/https%3A%2F%2Fpasta.lternet.edu%2Fpackage%2Fmetadata%2Feml%2Fknb-lter-luq%2F4%2F1181700\n",
      "There was an error downloading from https://cn.dataone.org/cn/v2/resolve/https%3A%2F%2Fpasta.lternet.edu%2Fpackage%2Fmetadata%2Feml%2Fknb-lter-luq%2F5%2F347650\n",
      "There was an error downloading from https://cn.dataone.org/cn/v2/resolve/https%3A%2F%2Fpasta.lternet.edu%2Fpackage%2Fmetadata%2Feml%2Fknb-lter-luq%2F6%2F511450\n",
      "There was an error downloading from https://cn.dataone.org/cn/v2/resolve/https%3A%2F%2Fpasta.lternet.edu%2Fpackage%2Fmetadata%2Feml%2Fknb-lter-luq%2F4%2F1181750\n",
      "There was an error downloading from https://cn.dataone.org/cn/v2/resolve/https%3A%2F%2Fpasta.lternet.edu%2Fpackage%2Fmetadata%2Feml%2Fknb-lter-luq%2F5%2F347700\n",
      "There was an error downloading from https://cn.dataone.org/cn/v2/resolve/https%3A%2F%2Fpasta.lternet.edu%2Fpackage%2Fmetadata%2Feml%2Fknb-lter-luq%2F6%2F511500\n",
      "There was an error downloading from https://cn.dataone.org/cn/v2/resolve/https%3A%2F%2Fpasta.lternet.edu%2Fpackage%2Fmetadata%2Feml%2Fknb-lter-luq%2F7%2F1230050\n"
     ]
    }
   ],
   "source": [
    "''' \n",
    "I created a csv of the urls in the above error messages to find the proper line in the original\n",
    "request and try to download those files again\n",
    "'''\n",
    "\n",
    "\n",
    "ErrorRequests = pd.read_csv(\"../scripts/missingRecord_dataUrls.csv\", header=None)[0]\n",
    "\n",
    "TryAgainDF = NoDupesDF[NoDupesDF['recordURL'].isin(ErrorRequests)]\n",
    "\n",
    "recordURL = TryAgainDF.recordURL.tolist()\n",
    "recordPath = TryAgainDF.recordPath.tolist()\n",
    "\n",
    "md.get_records(recordURL, recordPath, well_formed=False)\n"
   ]
  },
  {
   "cell_type": "code",
   "execution_count": 26,
   "metadata": {},
   "outputs": [
    {
     "data": {
      "text/plain": [
       "0"
      ]
     },
     "execution_count": 26,
     "metadata": {},
     "output_type": "execute_result"
    }
   ],
   "source": [
    "# created second error list to compare with inital failures to see if any succeeded\n",
    "\n",
    "secondTryDF = pd.read_csv(\"../scripts/2ndTry_missingRecord_dataUrls.csv\", header=None)[0]\n",
    "\n",
    "secondTryList = secondTryDF.tolist()\n",
    "\n",
    "len(ErrorRequests) - len(secondTryDF)"
   ]
  },
  {
   "cell_type": "markdown",
   "metadata": {},
   "source": [
    "### Consistent failures on the records in question\n",
    "\n",
    "I'm not sure what the significance is of records being in the Solr index but not existing in the holdings. In any event it is not desired behavior on a discovery platform such as DataONE, even if it isn't the typical interface. Some of those data url look like DOI. Can we find the metadata that way?\n",
    "\n",
    "https://www.doi%3A10.6073%2FAA%2Fknb-lter-cdr.129133.123\n",
    "\n",
    "It turns out that even the DOI of these records has been terminated. These records don't exist anymore. By identifying the problem and alerting the repository, these errors were fixed, which enhances the clarity of the collection and allows users of the repository to have a better chance to find the datasets they want for their research.\n",
    "\n",
    "\n",
    "We didn't get any more records. Lets remove any empty records created for downloads that failed, and, if they exist, any empty directories created to hold them."
   ]
  },
  {
   "cell_type": "code",
   "execution_count": 27,
   "metadata": {},
   "outputs": [],
   "source": [
    "# use 2ndTry_missingRecord_dataUrls to identify records we need to delete.\n",
    "\n",
    "DeleteDF = Records.loc[Records['recordURL'].isin(secondTryDF)]\n",
    "\n",
    "# create a list of filepaths to delete\n",
    "recordPath = DeleteDF.recordPath.tolist()\n",
    "\n",
    "# remove records that were DL errors\n",
    "for record in recordPath:\n",
    "    if os.path.isfile(record):\n",
    "        os.remove(record)\n",
    "# delete directories if they are empty (shouldn't be any, but...)\n",
    "top = '../collections/LTER/'\n",
    "for root, dirs, files in os.walk(top, topdown=False):\n",
    "    for name in dirs:\n",
    "        dir_path = os.path.join(root, name)\n",
    "        if not os.listdir(dir_path):  # An empty list is False\n",
    "            os.rmdir(os.path.join(root, name))\n",
    "            \n",
    "# Test to see if any failed downloads are still there\n",
    "\n",
    "for record in recordPath:\n",
    "    if os.path.isfile(record):\n",
    "        print(record)"
   ]
  },
  {
   "cell_type": "markdown",
   "metadata": {},
   "source": [
    "Now that we have our metadataset we can look at the structure and content of the records with some questions in mind.\n",
    "\n",
    "* Is there an influence of the EML Best Practices for LTER Sites recommendation on each site as they started contributing to DataONE? \n",
    "* Do the sites improve their use of the narrative recommendation by submitting more complete records as the years progress? \n",
    "* Was there a measurable effect when Pasta and other automated came online in the fields used?\n",
    "* What are the checks for Pasta?\n",
    "* Was there a change in records when the recommendation changed in 2011?\n",
    "* Did records become more similar over time?\n",
    "* Did they become more or less focused on elements in the recommendations over time\n",
    "* Did groups become more or less verbose over time? \n",
    "* Do the sites agree on what quality metadata is?\n",
    "* What is the most complete site__year for the recommendation?\n",
    "* What collection has most improved the completeness of their metadata for the recommendations?\n",
    "* Have any collections not changed?\n",
    "\n",
    "To try and address these questions, let's utilize another notebook that uses a module called EARmd.py.\n",
    "\n",
    "### [Evaluate, Analyze, Report - LTER site uploads 2005-2018](Evaluate_Analyze_and_Report_metadata.ipynb)"
   ]
  },
  {
   "cell_type": "code",
   "execution_count": null,
   "metadata": {},
   "outputs": [],
   "source": []
  }
 ],
 "metadata": {
  "kernelspec": {
   "display_name": "Python 3",
   "language": "python",
   "name": "python3"
  },
  "language_info": {
   "codemirror_mode": {
    "name": "ipython",
    "version": 3
   },
   "file_extension": ".py",
   "mimetype": "text/x-python",
   "name": "python",
   "nbconvert_exporter": "python",
   "pygments_lexer": "ipython3",
   "version": "3.7.1"
  },
  "nbmeta": {
   "@context": [
    "https://doi.org/10.5063/schema/codemeta-2.0",
    "http://schema.org"
   ],
   "@type": "SoftwareSourceCode",
   "author": [
    {
     "@id": "https://orcid.org/0000-0001-9050-6141",
     "@type": "Person",
     "email": "scgordon@hdfgroup.org",
     "familyName": "Gordon",
     "givenName": "Sean"
    },
    {
     "@id": "https://orcid.org/0000-0003-3585-6733",
     "@type": "Person",
     "familyName": "Habermann",
     "givenName": "Ted"
    }
   ],
   "codeRepository": "https://github.com/scgordon/LTERsitesAnalysis",
   "contIntegration": [
    "https://travis-ci.org/scgordon/LTERsitesAnalysis"
   ],
   "contributor": [
    {
     "@type": "Person",
     "familyName": "Jelenak",
     "givenName": "Aleksandar"
    }
   ],
   "copyrightHolder": [
    {
     "@id": "https://orcid.org/0000-0001-9050-6141",
     "@type": "Person",
     "email": "scgordon@hdfgroup.org",
     "familyName": "Gordon",
     "givenName": "Sean"
    }
   ],
   "description": "Notebook to build dataset for running an analysis of the DataONE LTER science metadata to study how community information needs evolve over time",
   "developmentStatus": "http://www.repostatus.org/#active",
   "funder": [
    {
     "@type": "Organization",
     "name": "National Science Foundation"
    }
   ],
   "funding": "Award #1443062",
   "identifier": "LTERsitesAnalysis",
   "issueTracker": "https://github.com/scgordon/LTERsitesAnalysis/issues",
   "keywords": [
    "metadata",
    "codemeta",
    "nbmeta",
    "citation",
    "credit",
    "linked-data",
    "json-ld",
    "python",
    "jupyter",
    "notebooks",
    "DataONE",
    "LTER",
    "recommendation",
    "information need",
    "shape of completeness",
    "evaluation",
    "analysis",
    "reports",
    "EAR",
    "metadig",
    "DIBBs"
   ],
   "license": "https://creativecommons.org/licenses/by/4.0/",
   "maintainer": [
    {
     "@id": "https://orcid.org/0000-0001-9050-6141",
     "@type": "Person",
     "email": "scgordon@hdfgroup.org",
     "familyName": "Gordon",
     "givenName": "Sean"
    }
   ],
   "name": "Create_a_metadataset",
   "programmingLanguage": {
    "@type": "ComputerLanguage",
    "name": "Python",
    "url": "https://www.python.org/",
    "version": "3.7.1"
   },
   "relatedLink": [
    "https://doi.org/10.5281/zenodo.2529530",
    "https://github.com/scgordon/LTERsitesAnalysis/blob/master/Evaluate_Analyze_and_Report_on_a_metadataset_nbmeta.json",
    "https://github.com/scgordon/LTERsitesAnalysis/blob/master/packageMetadata_nbmeta.json"
   ],
   "runtimePlatform": "Jupyterlab version 0.35.4 (2018-11-03)",
   "softwareRequirements": [
    {
     "@type": "SoftwareApplication",
     "identifier": "Python",
     "name": "Python",
     "version": ">= 3.0.0"
    },
    {
     "@type": "SoftwareApplication",
     "identifier": "jupyter",
     "name": "jupyter",
     "provider": {
      "@id": "https://jupyter.org",
      "@type": "Organization",
      "name": "Jupyter Team",
      "url": "https://jupyter.org"
     },
     "version": ">= 5.0.0"
    },
    {
     "@type": "SoftwareApplication",
     "identifier": "java",
     "name": "Java Runtime Environment",
     "provider": {
      "@id": "https://www.java.com",
      "@type": "Organization",
      "name": "Oracle",
      "url": "https://www.java.com"
     }
    },
    {
     "@type": "SoftwareApplication",
     "identifier": "saxon-B",
     "name": "Saxon",
     "provider": {
      "@id": "http://www.saxonica.com/",
      "@type": "Organization",
      "name": "Saxonica",
      "url": " http://www.saxonica.com/"
     },
     "sameAs": "https://sourceforge.net/projects/saxon/files/Saxon-B/9.1.0.8/saxonb9-1-0-8j.zip/download"
    },
    {
     "@type": "SoftwareApplication",
     "identifier": "sys",
     "sameAs": "https://pypi.org/project/sys"
    },
    {
     "@type": "SoftwareApplication",
     "identifier": "os",
     "sameAs": "https://pypi.org/project/os"
    },
    {
     "@type": "SoftwareApplication",
     "identifier": "pandas",
     "sameAs": "https://pypi.org/project/pandas"
    },
    {
     "@type": "SoftwareApplication",
     "identifier": "gzip",
     "sameAs": "https://pypi.org/project/gzip"
    },
    {
     "@type": "SoftwareApplication",
     "identifier": "subprocess",
     "sameAs": "https://pypi.org/project/subprocess"
    },
    {
     "@type": "SoftwareApplication",
     "identifier": "MDeval",
     "sameAs": "https://www.github.com/scgordon/MDeval"
    },
    {
     "@type": "SoftwareApplication",
     "identifier": "random",
     "sameAs": "https://pypi.org/project/random"
    },
    {
     "@type": "SoftwareApplication",
     "identifier": "IPython.core.display",
     "sameAs": "https://pypi.org/project/ipython"
    },
    {
     "@type": "SoftwareApplication",
     "identifier": "glob",
     "sameAs": "https://pypi.org/project/glob"
    },
    {
     "@type": "SoftwareApplication",
     "identifier": "requests",
     "sameAs": "https://pypi.org/project/requests"
    },
    {
     "@type": "SoftwareApplication",
     "identifier": "xlsxwriter",
     "sameAs": "https://pypi.org/project/xlsxwriter"
    },
    {
     "@type": "SoftwareApplication",
     "identifier": "lxml",
     "sameAs": "https://pypi.org/project/lxml"
    },
    {
     "@type": "SoftwareApplication",
     "identifier": "csv",
     "sameAs": "https://pypi.org/project/csv"
    },
    {
     "@type": "SoftwareApplication",
     "identifier": "logging",
     "sameAs": "https://pypi.org/project/logging"
    },
    {
     "@type": "SoftwareApplication",
     "identifier": "plotly",
     "sameAs": "https://pypi.org/project/plotly"
    },
    {
     "@type": "SoftwareApplication",
     "identifier": "itertools",
     "sameAs": "https://pypi.org/project/itertools"
    }
   ],
   "softwareSuggestions": [
    {
     "@type": "SoftwareApplication",
     "identifier": "pydrive",
     "name": "pydrive",
     "provider": {
      "@id": "https://github.com/gsuitedevs/PyDrive",
      "@type": "Organization",
      "name": "Google",
      "url": "https://github.com/gsuitedevs/PyDrive"
     },
     "sameAs": "https://pypi.org/project/PyDrive/"
    },
    {
     "@type": "SoftwareApplication",
     "identifier": "java 1.8.0_20",
     "name": "Java Runtime Environment",
     "provider": {
      "@id": "https://www.java.com",
      "@type": "Organization",
      "name": "Oracle",
      "url": "https://www.java.com"
     }
    }
   ],
   "version": "0.0.4"
  }
 },
 "nbformat": 4,
 "nbformat_minor": 2
}
